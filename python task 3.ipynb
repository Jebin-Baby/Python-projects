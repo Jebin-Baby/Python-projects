{
 "cells": [
  {
   "cell_type": "markdown",
   "id": "b1fd23f9-136d-43a5-b3b5-0a4e90cd8435",
   "metadata": {},
   "source": [
    "1.Write a Python program to sum all the items in a list.\r\n"
   ]
  },
  {
   "cell_type": "code",
   "execution_count": 12,
   "id": "b1ce76a9-2615-4c4b-b298-5c37217d0282",
   "metadata": {},
   "outputs": [
    {
     "name": "stdout",
     "output_type": "stream",
     "text": [
      "sum of all elements given in the list: 75\n"
     ]
    }
   ],
   "source": [
    "list1 =[10,11,12,13,14,15]\n",
    "total=sum(list1)\n",
    "print(\"sum of all elements given in the list:\", total)"
   ]
  },
  {
   "cell_type": "markdown",
   "id": "571cd290-331f-42a8-ab34-29cb4f11e376",
   "metadata": {},
   "source": [
    "2. Write a Python program to get the largest number from a list.\n"
   ]
  },
  {
   "cell_type": "code",
   "execution_count": 16,
   "id": "b676a66d-1145-494d-ae0a-f08e3aa3c292",
   "metadata": {},
   "outputs": [
    {
     "name": "stdout",
     "output_type": "stream",
     "text": [
      "largest number in the list is: 50\n"
     ]
    }
   ],
   "source": [
    "list2 =[10,20,30,40,50]\n",
    "list2.sort()\n",
    "print(\"largest number in the list is:\",list2 [-1])\n"
   ]
  },
  {
   "cell_type": "code",
   "execution_count": 19,
   "id": "fcfeef79-e58e-46c3-baad-63e16414a79f",
   "metadata": {},
   "outputs": [
    {
     "name": "stdout",
     "output_type": "stream",
     "text": [
      "largest element in the list: 80\n"
     ]
    }
   ],
   "source": [
    "list3 =[50,60,70,80]\n",
    "list3.sort()\n",
    "print(\"largest element in the list:\",list3 [-1])\n"
   ]
  },
  {
   "cell_type": "markdown",
   "id": "7a15e28a-b962-46c8-aa44-7bf05c8ffc7c",
   "metadata": {},
   "source": [
    "3. Write a Python program to count the number of strings from a given list of strings. The string length is 2 or more and the first and last characters are the same.\n",
    "#?"
   ]
  },
  {
   "cell_type": "code",
   "execution_count": 60,
   "id": "8c8aed1e-4d7a-4c35-91a5-293c2eaab52b",
   "metadata": {},
   "outputs": [],
   "source": [
    "numbers=[1,2,3,4,1]"
   ]
  },
  {
   "cell_type": "code",
   "execution_count": 61,
   "id": "dfb68f3c-0107-4010-940f-f177e86b2a6d",
   "metadata": {},
   "outputs": [
    {
     "data": {
      "text/plain": [
       "str"
      ]
     },
     "execution_count": 61,
     "metadata": {},
     "output_type": "execute_result"
    }
   ],
   "source": [
    "type(\"numbers\")"
   ]
  },
  {
   "cell_type": "code",
   "execution_count": 62,
   "id": "1e4541fe-d047-4e78-84f9-09edbda1cf95",
   "metadata": {},
   "outputs": [
    {
     "data": {
      "text/plain": [
       "5"
      ]
     },
     "execution_count": 62,
     "metadata": {},
     "output_type": "execute_result"
    }
   ],
   "source": [
    "len(numbers)"
   ]
  },
  {
   "cell_type": "markdown",
   "id": "bd702c0d-7baf-43eb-ab39-5d0d416275e0",
   "metadata": {},
   "source": [
    "\r\n",
    "4. Write a Python program to remove duplicates from a list"
   ]
  },
  {
   "cell_type": "code",
   "execution_count": 75,
   "id": "7f944b91-61d3-4223-8eb4-a9d645314c74",
   "metadata": {},
   "outputs": [],
   "source": [
    "list4 =[1,2,3,4,4,5,6,7,7,8]"
   ]
  },
  {
   "cell_type": "code",
   "execution_count": 76,
   "id": "025de7f0-d576-4088-ab61-7ded587c8831",
   "metadata": {},
   "outputs": [
    {
     "data": {
      "text/plain": [
       "{1, 2, 3, 4, 5, 6, 7, 8}"
      ]
     },
     "execution_count": 76,
     "metadata": {},
     "output_type": "execute_result"
    }
   ],
   "source": [
    "set(list4)"
   ]
  },
  {
   "cell_type": "markdown",
   "id": "fbde56ec-09d1-4877-96cf-1f515bced048",
   "metadata": {},
   "source": [
    "5. Write a Python program to check if a list is empty or not."
   ]
  },
  {
   "cell_type": "code",
   "execution_count": 77,
   "id": "8ed6006b-d13b-45e9-83ce-1752638609ab",
   "metadata": {},
   "outputs": [],
   "source": [
    "list5 =[1,2,3,4,5,6,7]\"\n"
   ]
  },
  {
   "cell_type": "code",
   "execution_count": 103,
   "id": "38336382-3a18-4eaa-a2b2-098ebd3167ef",
   "metadata": {},
   "outputs": [
    {
     "name": "stdout",
     "output_type": "stream",
     "text": [
      "this list is not empty\n"
     ]
    }
   ],
   "source": [
    "if len(\"list5\")==0:\n",
    "    print(\"list is empty\")\n",
    "else:\n",
    "    print(\"this list is not empty\")"
   ]
  },
  {
   "cell_type": "code",
   "execution_count": 112,
   "id": "1b25c17f-3d5b-4bf8-89ef-40337e6ea61c",
   "metadata": {},
   "outputs": [],
   "source": [
    "list5\n",
    "list5.clear()\n"
   ]
  },
  {
   "cell_type": "raw",
   "id": "bee72215-5dbe-4d01-be92-ba78a7a039fd",
   "metadata": {},
   "source": [
    "print(list5)"
   ]
  },
  {
   "cell_type": "code",
   "execution_count": 110,
   "id": "4ca092d0-90fd-45f3-aff3-6a1a3ffe55aa",
   "metadata": {},
   "outputs": [],
   "source": []
  },
  {
   "cell_type": "markdown",
   "id": "33c4b40a-7876-4903-868c-1c8cde055623",
   "metadata": {},
   "source": [
    "6. Write a Python program to filter the list if the length of the character is < 4"
   ]
  },
  {
   "cell_type": "code",
   "execution_count": 1,
   "id": "71a93377-5875-4a31-96d2-d48bfc5ac6d0",
   "metadata": {},
   "outputs": [],
   "source": [
    "list6 =[\"apple\",\"banana\",\"cherry\",\"pineapple\",\"bat\",\"cat\"]\n",
    "\n"
   ]
  },
  {
   "cell_type": "code",
   "execution_count": 129,
   "id": "ff21e6b0-eb40-4a88-aa5d-68eda886aa64",
   "metadata": {},
   "outputs": [
    {
     "name": "stdout",
     "output_type": "stream",
     "text": [
      "['cat', 'dog']\n"
     ]
    }
   ],
   "source": [
    "# Sample list of strings\n",
    "my_list = [\"apple\", \"banana\", \"cat\", \"dog\", \"elephant\", \"fish\"]\n",
    "\n",
    "# Filter the list to keep elements with length < 4\n",
    "filtered_list = [item for item in my_list if len(item) < 4]\n",
    "\n",
    "# Print the filtered list\n",
    "print(filtered_list)\n"
   ]
  },
  {
   "cell_type": "code",
   "execution_count": 138,
   "id": "96db45ab-f796-48de-93f4-54340d011ca9",
   "metadata": {},
   "outputs": [
    {
     "data": {
      "text/plain": [
       "['apple', 'banana', 'cherry', 'pineapple', 'bat', 'cat']"
      ]
     },
     "execution_count": 138,
     "metadata": {},
     "output_type": "execute_result"
    }
   ],
   "source": [
    "list6"
   ]
  },
  {
   "cell_type": "code",
   "execution_count": 139,
   "id": "45d4a26a-1dc2-4b9c-9eb7-b473dd775265",
   "metadata": {},
   "outputs": [
    {
     "data": {
      "text/plain": [
       "6"
      ]
     },
     "execution_count": 139,
     "metadata": {},
     "output_type": "execute_result"
    }
   ],
   "source": [
    "len(list6)"
   ]
  },
  {
   "cell_type": "code",
   "execution_count": 140,
   "id": "6b1d014f-420d-4f1d-8f7e-d6de55f66a58",
   "metadata": {},
   "outputs": [],
   "source": [
    "filtered_list = [ i for i in list6 if len(i) < 4]"
   ]
  },
  {
   "cell_type": "code",
   "execution_count": 142,
   "id": "199e7f90-ea03-433b-96ab-54fdf32aff79",
   "metadata": {},
   "outputs": [
    {
     "name": "stdout",
     "output_type": "stream",
     "text": [
      "['bat', 'cat']\n"
     ]
    }
   ],
   "source": [
    "print(filtered_list)"
   ]
  },
  {
   "cell_type": "code",
   "execution_count": 146,
   "id": "517a81e3-759c-4f2b-b255-56f67b67d126",
   "metadata": {},
   "outputs": [],
   "source": [
    "list7 =[\"banana\",\"cherry\",\"kiwi\",\"orange\",\"mango\"]\n"
   ]
  },
  {
   "cell_type": "code",
   "execution_count": 150,
   "id": "92995796-2ee3-4ce1-a2fc-2b6bddeaa9d8",
   "metadata": {},
   "outputs": [
    {
     "name": "stdout",
     "output_type": "stream",
     "text": [
      "['banana', 'cherry', 'orange']\n"
     ]
    }
   ],
   "source": [
    "filtered_list=[ i for i in list7 if len(i) > 5]\n",
    "print(filtered_list)"
   ]
  },
  {
   "cell_type": "markdown",
   "id": "b60c52ac-fe41-43d7-a19f-982c18781be1",
   "metadata": {},
   "source": [
    "7.Write a Python program to find the second largest number in a list.\n"
   ]
  },
  {
   "cell_type": "code",
   "execution_count": 151,
   "id": "1dceedef-a237-4b81-b228-9c631808639d",
   "metadata": {},
   "outputs": [],
   "source": []
  },
  {
   "cell_type": "code",
   "execution_count": 152,
   "id": "6422b609-4e38-4d17-a2d5-918138eed84a",
   "metadata": {},
   "outputs": [
    {
     "name": "stdout",
     "output_type": "stream",
     "text": [
      "Second largest element is: 45\n"
     ]
    }
   ],
   "source": [
    "# Python program to find largest number\n",
    "# in a list\n",
    "\n",
    "# List of numbers\n",
    "list1 = [10, 20, 20, 4, 45, 45, 45, 99, 99]\n",
    "\n",
    "# Removing duplicates from the list\n",
    "list2 = list(set(list1))\n",
    "\n",
    "# Sorting the list\n",
    "list2.sort()\n",
    "\n",
    "# Printing the second last element\n",
    "print(\"Second largest element is:\", list2[-2])\n"
   ]
  },
  {
   "cell_type": "code",
   "execution_count": 173,
   "id": "56cf840a-6020-4ddb-bf2e-416c274e6c2f",
   "metadata": {},
   "outputs": [],
   "source": [
    "list8 =[10,11,12,13,14,15]"
   ]
  },
  {
   "cell_type": "code",
   "execution_count": 174,
   "id": "876e3847-e467-4fc0-85f4-e5df78dae8aa",
   "metadata": {},
   "outputs": [
    {
     "name": "stdout",
     "output_type": "stream",
     "text": [
      "[10, 11, 12, 13, 14, 15]\n"
     ]
    }
   ],
   "source": [
    "list8.sort()\n",
    "print(list8)"
   ]
  },
  {
   "cell_type": "code",
   "execution_count": 180,
   "id": "b89b93cf-22d8-4c40-8369-412bd487126f",
   "metadata": {},
   "outputs": [
    {
     "name": "stdout",
     "output_type": "stream",
     "text": [
      "second largest element is: 14\n"
     ]
    }
   ],
   "source": [
    "print(\"second largest element is:\", list8[-2])\n",
    "#?"
   ]
  },
  {
   "cell_type": "markdown",
   "id": "33d86658-74e7-4b89-8fe0-8e701ccc6678",
   "metadata": {},
   "source": [
    "8. Write a Python program to reverse a list at a specific location."
   ]
  },
  {
   "cell_type": "code",
   "execution_count": 184,
   "id": "d17bbbb7-37e7-494a-ab0b-b8a50ff6f7a2",
   "metadata": {},
   "outputs": [
    {
     "name": "stdout",
     "output_type": "stream",
     "text": [
      "['c', 'b', 'a']\n"
     ]
    }
   ],
   "source": [
    "alphabets=[\"a\",\"b\",\"c\"]\n",
    "alphabets.reverse()\n",
    "print(alphabets)"
   ]
  },
  {
   "cell_type": "code",
   "execution_count": 187,
   "id": "2e9b7cdf-3f1e-4f67-8a73-6f84e95038f2",
   "metadata": {},
   "outputs": [
    {
     "name": "stdout",
     "output_type": "stream",
     "text": [
      "['apple', 'ananab', 'cherry']\n"
     ]
    }
   ],
   "source": [
    "def reverse_element_at_location(lst, index):\n",
    "    if index < 0 or index >= len(lst):\n",
    "        print(\"Invalid index. Index should be within the range of the list.\")\n",
    "        return\n",
    "    \n",
    "    lst[index] = lst[index][::-1]  # Reverse the element at the specified index\n",
    "\n",
    "# Example usage:\n",
    "my_list = [\"apple\", \"banana\", \"cherry\"]\n",
    "reverse_element_at_location(my_list, 1)  # Reverse the element at index 1\n",
    "print(my_list)  # Output: [\"apple\", \"ananab\", \"cherry\"]\n"
   ]
  },
  {
   "cell_type": "markdown",
   "id": "46fad21a-34dc-4a55-8c26-37258c5d7a1b",
   "metadata": {},
   "source": [
    "9. Write a Python program to check if a list is a palindrome or not. Return true otherwise false.\n"
   ]
  },
  {
   "cell_type": "code",
   "execution_count": 11,
   "id": "a559f523-a1cd-4bed-aac0-dfc8241c0ab7",
   "metadata": {},
   "outputs": [
    {
     "name": "stdout",
     "output_type": "stream",
     "text": [
      "['noon', 'civic', 'deified', 'level', 'radar']\n"
     ]
    }
   ],
   "source": [
    "plist = [\"radar\", \"level\", \"deified\", \"civic\", \"noon\"]\n",
    "list2 = palindromiclist.reverse()\n",
    "print(palindromiclist)"
   ]
  },
  {
   "cell_type": "code",
   "execution_count": 12,
   "id": "76182181-660e-47c2-9ade-31da673a83c0",
   "metadata": {},
   "outputs": [
    {
     "name": "stdout",
     "output_type": "stream",
     "text": [
      "True\n"
     ]
    }
   ],
   "source": [
    "palindromiclist = [\"radar\", \"level\", \"deified\", \"civic\", \"noon\"]\n",
    "def is_palindromic(word):\n",
    "    return word == word[::-1]\n",
    "\n",
    "def is_palindromic_list(word_list):\n",
    "    return all(is_palindromic(word) for word in word_list)\n",
    "\n",
    "palindromiclist = [\"radar\", \"level\", \"deified\", \"civic\", \"noon\"]\n",
    "result = is_palindromic_list(palindromiclist)\n",
    "print(result)\n",
    "#?"
   ]
  },
  {
   "cell_type": "code",
   "execution_count": 13,
   "id": "7beaffd5-2ddc-41be-bdae-6daa114ed8a5",
   "metadata": {},
   "outputs": [
    {
     "data": {
      "text/plain": [
       "['radar', 'level', 'deified', 'civic', 'noon']"
      ]
     },
     "execution_count": 13,
     "metadata": {},
     "output_type": "execute_result"
    }
   ],
   "source": [
    "palindromiclist"
   ]
  },
  {
   "cell_type": "code",
   "execution_count": 4,
   "id": "7ad0f19f-fe59-46c9-a52c-3b7c8d922a5a",
   "metadata": {},
   "outputs": [
    {
     "name": "stdout",
     "output_type": "stream",
     "text": [
      "The original list is : [1, 4, 5, 4, 1]\n",
      "Is list Palindrome : True\n"
     ]
    }
   ],
   "source": [
    "# Python3 code to demonstrate working of\n",
    "# Test if list is Palindrome\n",
    "# Using list slicing\n",
    "\n",
    "# initializing list\n",
    "test_list = [1, 4, 5, 4, 1]\n",
    "\n",
    "# printing original list\n",
    "print(\"The original list is : \" + str(test_list))\n",
    "\n",
    "# Reversing the list\n",
    "reverse = test_list[::-1]\n",
    "\n",
    "# checking if palindrome\n",
    "res = test_list == reverse\n",
    "\n",
    "# printing result\n",
    "print(\"Is list Palindrome : \" + str(res))\n"
   ]
  },
  {
   "cell_type": "code",
   "execution_count": 40,
   "id": "dc280c65-44d7-4389-9f55-1c8af3095eed",
   "metadata": {},
   "outputs": [
    {
     "name": "stdout",
     "output_type": "stream",
     "text": [
      "no the list is not\n"
     ]
    }
   ],
   "source": [
    "plist = [\"radar\", \"level\", \"deified\", \"civic\", \"noon\"]\n",
    "reverse = plist[::-1]\n",
    "if plist == reverse:\n",
    "    print(\"yes the list is palindrome\")\n",
    "    \n",
    "else:\n",
    "    print(\"no the list is not\")\n"
   ]
  },
  {
   "cell_type": "code",
   "execution_count": 46,
   "id": "3d93a402-c2ce-4694-8bef-f83b6514df77",
   "metadata": {},
   "outputs": [
    {
     "name": "stdout",
     "output_type": "stream",
     "text": [
      "yes the list is palindrome\n"
     ]
    }
   ],
   "source": [
    "plist = [\"madam\",\"civic\",\"madam\"]\n",
    "reverse = plist[::-1]\n",
    "if plist == reverse:\n",
    "    print(\"yes the list is palindrome\")  \n",
    "else:\n",
    "    print(\"no the list is not\")\n"
   ]
  },
  {
   "cell_type": "code",
   "execution_count": 47,
   "id": "5dee82e5-191d-4716-b1d4-013b9ec25aa7",
   "metadata": {},
   "outputs": [
    {
     "name": "stdout",
     "output_type": "stream",
     "text": [
      "yes the list is palindrome\n"
     ]
    }
   ],
   "source": [
    "plist = [\"noon\", \"level\", \"deified\", \"civic\", \"deified\", \"level\", \"noon\"]\n",
    "reverse = plist[::-1]\n",
    "if plist == reverse:\n",
    "    print(\"yes the list is palindrome\")\n",
    "    \n",
    "else:\n",
    "    print(\"no the list is not\")\n"
   ]
  },
  {
   "cell_type": "markdown",
   "id": "72d3692e-eef2-49ed-b120-5312a58d616f",
   "metadata": {},
   "source": [
    "10. Write a Python a program to find the union and intersection of two lists."
   ]
  },
  {
   "cell_type": "code",
   "execution_count": 73,
   "id": "f2914047-4eaa-48a5-a4f7-6f2fe6fd90f3",
   "metadata": {},
   "outputs": [],
   "source": [
    "mylist1={\"red\",\"green\",\"blue\",\"orange\",\"purple\"}\n",
    "mylist2={\"blue\",\"red\",\"pink\",\"purple\",\"gold\"}\n",
    "\n",
    "\n",
    "         "
   ]
  },
  {
   "cell_type": "code",
   "execution_count": 82,
   "id": "c374dc08-21d7-40bb-87d4-cf3733ce9199",
   "metadata": {},
   "outputs": [
    {
     "name": "stdout",
     "output_type": "stream",
     "text": [
      "{'purple', 'green', 'blue', 'pink', 'red', 'orange', 'gold'}\n"
     ]
    }
   ],
   "source": [
    "colors= mylist1| mylist2\n",
    "print(colors)\n",
    "#union result"
   ]
  },
  {
   "cell_type": "code",
   "execution_count": 81,
   "id": "cc56578f-659f-4860-8355-c83586f2d6ff",
   "metadata": {},
   "outputs": [
    {
     "name": "stdout",
     "output_type": "stream",
     "text": [
      "{'purple', 'green', 'blue', 'pink', 'red', 'orange', 'gold'}\n"
     ]
    }
   ],
   "source": [
    "unionresult = mylist1.union(mylist2)\n",
    "print(unionresult)"
   ]
  },
  {
   "cell_type": "code",
   "execution_count": 83,
   "id": "0fe80c14-3656-4c92-a8fb-808b2d001a3a",
   "metadata": {},
   "outputs": [],
   "source": [
    "mylist1={\"red\",\"green\",\"blue\",\"orange\",\"purple\"}\n",
    "mylist2={\"blue\",\"red\",\"pink\",\"purple\",\"gold\"}\n",
    "         "
   ]
  },
  {
   "cell_type": "code",
   "execution_count": 85,
   "id": "135e2909-96fb-4d49-bbcd-4aceb609ce69",
   "metadata": {},
   "outputs": [
    {
     "name": "stdout",
     "output_type": "stream",
     "text": [
      "{'purple', 'blue', 'red'}\n"
     ]
    }
   ],
   "source": [
    "colors = mylist1 & mylist2\n",
    "print(colors)"
   ]
  },
  {
   "cell_type": "code",
   "execution_count": 87,
   "id": "652d2e0d-db20-4ad8-8f4d-adb2083e5ef1",
   "metadata": {},
   "outputs": [
    {
     "name": "stdout",
     "output_type": "stream",
     "text": [
      "{'purple', 'blue', 'red'}\n"
     ]
    }
   ],
   "source": [
    "colors = mylist1.intersection(mylist2)\n",
    "print(colors)"
   ]
  },
  {
   "cell_type": "markdown",
   "id": "058ee77f-7c5f-41a1-944d-6a7c04cc46a0",
   "metadata": {},
   "source": [
    "\n",
    "11.Write a Python script to sort (ascending and descending) a dictionary by value\n"
   ]
  },
  {
   "cell_type": "code",
   "execution_count": 117,
   "id": "8d87ced1-753f-4612-beef-2619cb91257d",
   "metadata": {},
   "outputs": [
    {
     "name": "stdout",
     "output_type": "stream",
     "text": [
      "[('apple', 3), ('banana', 1), ('cherry', 2)]\n"
     ]
    }
   ],
   "source": [
    "mydict={\"apple\":3,\"cherry\":2,\"banana\":1}\n",
    "sorteddict = (sorted(mydict.items()))\n",
    "print(sorteddict)"
   ]
  },
  {
   "cell_type": "markdown",
   "id": "ddfaf4dd-0660-4f46-a320-0d6fe0b81ee0",
   "metadata": {},
   "source": [
    "#my_dict = {'apple': 3, 'banana': 1, 'cherry': 2}\n",
    "\n",
    "# Sort the dictionary by values in ascending order\n",
    "sorted_dict = (sorted(my_dict.items(), key=lambda item: item[1]))\n",
    "\n",
    "# Print the sorted dictionary\n",
    "print(sorted_dict)\n"
   ]
  },
  {
   "cell_type": "code",
   "execution_count": 16,
   "id": "7d16b667-b7e0-48a6-a8f4-f4e2f9046c6d",
   "metadata": {},
   "outputs": [
    {
     "name": "stdout",
     "output_type": "stream",
     "text": [
      "[('banana', 1), ('cherry', 2), ('apple', 3)]\n"
     ]
    }
   ],
   "source": [
    "mydict2= {'apple': 3, 'banana': 1, 'cherry': 2}\n",
    "sorteddict = (sorted(mydict2.items(), key=lambda item:item[1]))\n",
    "print(sorteddict)\n",
    "#sorted dictionary by values in ascending orders"
   ]
  },
  {
   "cell_type": "code",
   "execution_count": 110,
   "id": "c16383ca-0872-4421-9904-a1c890691030",
   "metadata": {},
   "outputs": [],
   "source": [
    "mydict2\n",
    "sorteddict"
   ]
  },
  {
   "cell_type": "markdown",
   "id": "7e3f31f7-1015-480b-ab62-efa73df3bca7",
   "metadata": {},
   "source": [
    "mydict3 = {'apple': 1, 'banana': 2, 'cherry': 3}\n",
    "\n",
    "# Sort the dictionary by values in descending order\n",
    "sorted_dict = {k: v for k, v in sorted(mydict3.items(), key=lambda item: item[1], reverse=True)}\n",
    "\n",
    "# Print the sorted dictionary\n",
    "print(sorted_dict)\n"
   ]
  },
  {
   "cell_type": "code",
   "execution_count": 19,
   "id": "5f4a22b8-e64e-4202-a6de-874053926d18",
   "metadata": {},
   "outputs": [
    {
     "name": "stdout",
     "output_type": "stream",
     "text": [
      "{'cherry': 3, 'banana': 2, 'apple': 1}\n"
     ]
    }
   ],
   "source": [
    "mydict3\n",
    "sorteddict2 = {k: v for k, v in sorted(mydict3.items(), key=lambda item:item[1], reverse=True)}\n",
    "print(sorteddict2)"
   ]
  },
  {
   "cell_type": "code",
   "execution_count": 26,
   "id": "67d7d5fd-0794-4e19-a123-05ba433f0083",
   "metadata": {},
   "outputs": [
    {
     "name": "stdout",
     "output_type": "stream",
     "text": [
      "{'duck': 4, 'cat': 3, 'bat': 2, 'apple': 1}\n"
     ]
    }
   ],
   "source": [
    "mydict4 = {\"apple\":1,\"bat\":2,\"duck\":4,\"cat\":3}\n",
    "sorteddict4 = {k: v for k, v in sorted(mydict4.items(), key=lambda item:item[1], reverse=True)}\n",
    "print(sorteddict4)"
   ]
  },
  {
   "cell_type": "markdown",
   "id": "e4666087-1d80-4eb3-894f-502f2ad4c3bd",
   "metadata": {},
   "source": [
    "12. Write a Python script to check whether a given key already exists in a dictionary.\r\n"
   ]
  },
  {
   "cell_type": "code",
   "execution_count": 27,
   "id": "082b05d8-7178-4990-900d-abfb4c90ddc2",
   "metadata": {},
   "outputs": [
    {
     "data": {
      "text/plain": [
       "{'duck': 4, 'cat': 3, 'bat': 2, 'apple': 1}"
      ]
     },
     "execution_count": 27,
     "metadata": {},
     "output_type": "execute_result"
    }
   ],
   "source": [
    "sorteddict4"
   ]
  },
  {
   "cell_type": "code",
   "execution_count": 30,
   "id": "508f1b8a-bad1-42ee-b748-c8baf609052b",
   "metadata": {},
   "outputs": [
    {
     "name": "stdout",
     "output_type": "stream",
     "text": [
      "yes bat is one of the keys in sorteddict4\n"
     ]
    }
   ],
   "source": [
    "if \"bat\" in sorteddict4:\n",
    "    print(\"yes bat is one of the keys in sorteddict4\")\n",
    "#\"in\" keyword is used to determine if a specified key is in a dictionary."
   ]
  },
  {
   "cell_type": "markdown",
   "id": "bb0a99c4-be1b-4c3b-9ec0-fad9930c6d4a",
   "metadata": {},
   "source": [
    "13.Write a Python program to sum all the values in a dictionary.\n"
   ]
  },
  {
   "cell_type": "code",
   "execution_count": 40,
   "id": "a8a4ad30-95d7-4261-9956-92ba8d540674",
   "metadata": {},
   "outputs": [
    {
     "name": "stdout",
     "output_type": "stream",
     "text": [
      "the sum of all the values in the dictionary is: 1630\n"
     ]
    }
   ],
   "source": [
    "mydict13 = {\"a\":200,\"b\":250,\"c\":390,\"d\":790}\n",
    "totalsum = sum(mydict13.values())\n",
    "print(\"the sum of all the values in the dictionary is:\",totalsum)\n",
    "#to find the sum of all values in a dictionary"
   ]
  },
  {
   "cell_type": "markdown",
   "id": "f623dc57-cb1d-42e6-a014-9e4414432d50",
   "metadata": {},
   "source": [
    "14.Write a Python program to create a dictionary with a number and its corresponding square from 1 to input number. And also check if the input number is less than 10\r\n"
   ]
  },
  {
   "cell_type": "code",
   "execution_count": null,
   "id": "0d14a77d-d05f-4ec5-8dfd-1552c49aad18",
   "metadata": {},
   "outputs": [],
   "source": []
  },
  {
   "cell_type": "markdown",
   "id": "1169478e-1ecb-40de-8398-6ad4b4bba175",
   "metadata": {},
   "source": [
    "15.Write a Python program to sort a given dictionary by key."
   ]
  },
  {
   "cell_type": "markdown",
   "id": "514a42be-8d7e-49dc-8a10-dc612e2a1aa3",
   "metadata": {},
   "source": [
    "my_dict = {'apple': 3, 'cherry': 1, 'banana': 2}\n",
    "\n",
    "# Sort the dictionary by keys\n",
    "sorted_dict = (sorted(my_dict.items()))\n",
    "\n",
    "# Print the sorted dictionary\n",
    "print(sorted_dict)\n"
   ]
  },
  {
   "cell_type": "code",
   "execution_count": 82,
   "id": "42971922-6cc8-4aa2-8795-72c71fb7e9f6",
   "metadata": {},
   "outputs": [
    {
     "name": "stdout",
     "output_type": "stream",
     "text": [
      "[(1, 'make'), (2, 'bake'), (3, 'cake')]\n"
     ]
    }
   ],
   "source": [
    "mydict14 = {3:\"cake\",1:\"make\",2:\"bake\"}\n",
    "sorteddict14 = (sorted(mydict14.items()))\n",
    "print(sorteddict14)"
   ]
  },
  {
   "cell_type": "markdown",
   "id": "36aa8219-d4ff-4278-acf6-4e1a17aeb5e0",
   "metadata": {},
   "source": [
    "16.  Write a Python program to create a dictionary from a string.\n"
   ]
  },
  {
   "cell_type": "code",
   "execution_count": 91,
   "id": "f475e832-2fb8-4e63-9c4e-8660c6882a0b",
   "metadata": {},
   "outputs": [
    {
     "name": "stdout",
     "output_type": "stream",
     "text": [
      "{'h': 1, 'e': 1, 'l': 3, 'o': 2, 'w': 1, 'r': 1, 'd': 1}\n"
     ]
    }
   ],
   "source": [
    "string = \"hello world\"\n",
    "dictionary = {}\n",
    "for i in string:\n",
    "    if i in dictionary:\n",
    "        continue\n",
    "    elif i==\" \":\n",
    "        continue\n",
    "    else:\n",
    "        dictionary[i]=string.count(i)\n",
    "print(dictionary)"
   ]
  },
  {
   "cell_type": "code",
   "execution_count": 100,
   "id": "4c92f885-d1aa-4bd2-948a-6ee104bc9ab4",
   "metadata": {},
   "outputs": [
    {
     "name": "stdout",
     "output_type": "stream",
     "text": [
      "{'p': 1, 'y': 1, 't': 2, 'h': 1, 'o': 1, 'n': 1, 'a': 1, 's': 1, 'k': 1}\n"
     ]
    }
   ],
   "source": [
    "string2 = \"python task\"\n",
    "dictionary2 = {}\n",
    "for i in string2:\n",
    "    if i in dictionary2:\n",
    "        continue\n",
    "    elif i==\" \":\n",
    "        continue\n",
    "    else:\n",
    "        dictionary2[i]=string2.count(i)\n",
    "print(dictionary2)\n",
    "#to create a dictionary from a string\n"
   ]
  },
  {
   "cell_type": "markdown",
   "id": "bfcc8f38-044a-4524-8dd4-f97ff6a52182",
   "metadata": {},
   "source": [
    "17. Write a Python program to get the top three items in a shop.\n"
   ]
  },
  {
   "cell_type": "markdown",
   "id": "4161f872-01db-415b-ba05-e173679a5583",
   "metadata": {},
   "source": [
    "sampleitems = {\"item1\": 50, \"item2\": 45, \"item3\": 22, \"item4\": 30, \"item5\": 40}\n",
    "\n",
    "# Sort the dictionary by item prices in descending order\n",
    "sorted_items = dict(sorted(sampleitems.items(), key=lambda x: x[1], reverse=True))\n",
    "\n",
    "# Get the top three items\n",
    "top3_items = dict(list(sorted_items.items())[:3])\n",
    "\n",
    "# Print the top three items\n",
    "print(\"Top Three Items:\")\n",
    "for item, price in top3_items.items():\n",
    "    print(f\"{item}: ${price}\")\n"
   ]
  },
  {
   "cell_type": "code",
   "execution_count": 106,
   "id": "182476ae-1920-4a9e-90d7-ae8bc0227c91",
   "metadata": {},
   "outputs": [
    {
     "name": "stdout",
     "output_type": "stream",
     "text": [
      "top three items:\n",
      "item1:$50\n",
      "item2:$45\n",
      "item5:$40\n"
     ]
    }
   ],
   "source": [
    "sampleitems = {\"item1\":50,\"item2\":45,\"item3\":22,\"item4\":30,\"item5\":40}\n",
    "sorteditems = dict(sorted(sampleitems.items(), key=lambda x: x[1], reverse=True))\n",
    "top3items = dict(list(sorteditems.items())[:3])\n",
    "print(\"top three items:\")\n",
    "for item, price in top3items.items():\n",
    "    print(f\"{item}:${price}\")\n"
   ]
  },
  {
   "cell_type": "code",
   "execution_count": null,
   "id": "4b3518be-4b6f-4a8c-9536-4b69c6454a75",
   "metadata": {},
   "outputs": [],
   "source": []
  }
 ],
 "metadata": {
  "kernelspec": {
   "display_name": "Python 3 (ipykernel)",
   "language": "python",
   "name": "python3"
  },
  "language_info": {
   "codemirror_mode": {
    "name": "ipython",
    "version": 3
   },
   "file_extension": ".py",
   "mimetype": "text/x-python",
   "name": "python",
   "nbconvert_exporter": "python",
   "pygments_lexer": "ipython3",
   "version": "3.10.11"
  }
 },
 "nbformat": 4,
 "nbformat_minor": 5
}
