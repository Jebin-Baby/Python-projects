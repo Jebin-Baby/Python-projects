{
  "nbformat": 4,
  "nbformat_minor": 0,
  "metadata": {
    "colab": {
      "provenance": []
    },
    "kernelspec": {
      "name": "python3",
      "display_name": "Python 3"
    },
    "language_info": {
      "name": "python"
    }
  },
  "cells": [
    {
      "cell_type": "code",
      "execution_count": 1,
      "metadata": {
        "id": "5XFCLMKRbKVL"
      },
      "outputs": [],
      "source": [
        "#1.Write a python program to create a class representing a circle. Include methods to calculate it's area and perimeter.\n"
      ]
    },
    {
      "cell_type": "code",
      "source": [
        "class circle:\n",
        "  def __init__(self,r):\n",
        "    self.r=r\n",
        "  def area(self):\n",
        "    print(\"Area of circle: \")\n",
        "    return 3.14*self.r*self.r\n",
        "  def perimeter(self):\n",
        "    print(\"Perimeter of circle: \")\n",
        "    return 2*3.14*self.r\n",
        "\n",
        "pi = 3.14\n",
        "x=circle(3)\n",
        "x.area()\n",
        "x.perimeter()"
      ],
      "metadata": {
        "colab": {
          "base_uri": "https://localhost:8080/"
        },
        "id": "mN4HEMIdek7u",
        "outputId": "8434d63b-207f-4bf3-8e59-662ec627089a"
      },
      "execution_count": 4,
      "outputs": [
        {
          "output_type": "stream",
          "name": "stdout",
          "text": [
            "Area of circle: \n",
            "Perimeter of circle: \n"
          ]
        },
        {
          "output_type": "execute_result",
          "data": {
            "text/plain": [
              "18.84"
            ]
          },
          "metadata": {},
          "execution_count": 4
        }
      ]
    },
    {
      "cell_type": "code",
      "source": [
        "#2. Write a python program to create calculator class. Include methods for basic arithemetic operations"
      ],
      "metadata": {
        "id": "ox9Ikh9_fQpG"
      },
      "execution_count": 5,
      "outputs": []
    },
    {
      "cell_type": "code",
      "source": [
        "class calculator:\n",
        "  def __init__(self,a,b): # Removed extra space before __init__\n",
        "    self.a = a\n",
        "    self.b = b\n",
        "  def add(self):\n",
        "    print(\"Sum: \", self.a+self.b) # Added a comma after the string for proper formatting\n",
        "  def sub(self):\n",
        "    print(\"Difference: \", self.a-self.b) # Added a comma after the string for proper formatting\n",
        "  def multiplication(self):\n",
        "    print(\"Product: \", self.a*self.b) # Added a comma after the string for proper formatting\n",
        "  def division(self):\n",
        "    print(\"Quotient: \", self.a/self.b) # Added a comma after the string for proper formatting\n",
        "x = calculator(9,10)\n",
        "x.add() # Changed to call the correct method name 'add'\n",
        "x.sub() # Changed to call the correct method name 'sub'\n",
        "x.multiplication()\n",
        "x.division()"
      ],
      "metadata": {
        "colab": {
          "base_uri": "https://localhost:8080/"
        },
        "id": "aTGJKDOAhzEq",
        "outputId": "c53eaa12-8d1f-41a9-a8c4-b2dd11f50cde"
      },
      "execution_count": 10,
      "outputs": [
        {
          "output_type": "stream",
          "name": "stdout",
          "text": [
            "Sum:  19\n",
            "Difference:  -1\n",
            "Product:  90\n",
            "Quotient:  0.9\n"
          ]
        }
      ]
    },
    {
      "cell_type": "code",
      "source": [
        "#3.write a python program to create a class that represents a shape. Inlcude methods to calculate its area and perimeter."
      ],
      "metadata": {
        "id": "CYWu7uY7iYWw"
      },
      "execution_count": 11,
      "outputs": []
    },
    {
      "cell_type": "code",
      "source": [
        "class Shape:\n",
        "  \"\"\"\n",
        "  A class representing a generic shape.\n",
        "  \"\"\"\n",
        "  def __init__(self):\n",
        "    \"\"\"\n",
        "    Initializes the Shape object.\n",
        "    \"\"\"\n",
        "    pass  # This is a placeholder for now, as a generic shape doesn't have specific attributes\n",
        "\n",
        "  def area(self):\n",
        "    \"\"\"\n",
        "    Calculates the area of the shape.\n",
        "\n",
        "    Since this is a generic shape, it raises an error.\n",
        "    Subclasses should override this method.\n",
        "    \"\"\"\n",
        "    raise NotImplementedError(\"Area calculation is not defined for a generic shape.\")\n",
        "\n",
        "  def perimeter(self):\n",
        "    \"\"\"\n",
        "    Calculates the perimeter of the shape.\n",
        "\n",
        "    Since this is a generic shape, it raises an error.\n",
        "    Subclasses should override this method.\n",
        "    \"\"\"\n",
        "    raise NotImplementedError(\"Perimeter calculation is not defined for a generic shape.\")\n",
        "\n",
        "# Example subclass: Rectangle\n",
        "class Rectangle(Shape):\n",
        "  \"\"\"\n",
        "  A class representing a rectangle.\n",
        "  \"\"\"\n",
        "  def __init__(self, length, width):\n",
        "    \"\"\"\n",
        "    Initializes the Rectangle object.\n",
        "\n",
        "    Args:\n",
        "      length: The length of the rectangle.\n",
        "      width: The width of the rectangle.\n",
        "    \"\"\"\n",
        "    self.length = length\n",
        "    self.width = width\n",
        "\n",
        "  def area(self):\n",
        "    \"\"\"\n",
        "    Calculates the area of the rectangle.\n",
        "\n",
        "    Returns:\n",
        "      The area of the rectangle.\n",
        "    \"\"\"\n",
        "    return self.length * self.width\n",
        "\n",
        "  def perimeter(self):\n",
        "    \"\"\"\n",
        "    Calculates the perimeter of the rectangle.\n",
        "\n",
        "    Returns:\n",
        "      The perimeter of the rectangle.\n",
        "    \"\"\"\n",
        "    return 2 * (self.length + self.width)\n",
        "\n",
        "# Example usage\n",
        "rectangle = Rectangle(5, 10)\n",
        "print(\"Rectangle Area:\", rectangle.area())  # Output: 50\n",
        "print(\"Rectangle Perimeter:\", rectangle.perimeter())  # Output: 30"
      ],
      "metadata": {
        "colab": {
          "base_uri": "https://localhost:8080/"
        },
        "id": "8i-F6z_4i-1p",
        "outputId": "8b729a5e-6913-4352-e772-5a3d85bcacc8"
      },
      "execution_count": 12,
      "outputs": [
        {
          "output_type": "stream",
          "name": "stdout",
          "text": [
            "Rectangle Area: 50\n",
            "Rectangle Perimeter: 30\n"
          ]
        }
      ]
    },
    {
      "cell_type": "code",
      "source": [],
      "metadata": {
        "id": "oVZAZpM_jC61"
      },
      "execution_count": null,
      "outputs": []
    }
  ]
}