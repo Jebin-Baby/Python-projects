{
  "nbformat": 4,
  "nbformat_minor": 0,
  "metadata": {
    "colab": {
      "provenance": []
    },
    "kernelspec": {
      "name": "python3",
      "display_name": "Python 3"
    },
    "language_info": {
      "name": "python"
    }
  },
  "cells": [
    {
      "cell_type": "code",
      "execution_count": null,
      "metadata": {
        "colab": {
          "base_uri": "https://localhost:8080/"
        },
        "id": "eda4YEzI4qTp",
        "outputId": "b3e39c15-6e37-4a1c-a36b-3301d5c8eb3d"
      },
      "outputs": [
        {
          "output_type": "execute_result",
          "data": {
            "text/plain": [
              "Ellipsis"
            ]
          },
          "metadata": {},
          "execution_count": 1
        }
      ],
      "source": [
        "import tensorflow as tf\n",
        "# use keras API\n",
        "model = tf.keras.Sequential()\n",
        "..."
      ]
    },
    {
      "cell_type": "code",
      "source": [
        "pip install tensorflow"
      ],
      "metadata": {
        "colab": {
          "base_uri": "https://localhost:8080/"
        },
        "id": "p52hZnu949ea",
        "outputId": "2c4d1cb8-d6a4-419e-b1be-e993cd0da549"
      },
      "execution_count": null,
      "outputs": [
        {
          "output_type": "stream",
          "name": "stdout",
          "text": [
            "Requirement already satisfied: tensorflow in /usr/local/lib/python3.10/dist-packages (2.15.0)\n",
            "Requirement already satisfied: absl-py>=1.0.0 in /usr/local/lib/python3.10/dist-packages (from tensorflow) (1.4.0)\n",
            "Requirement already satisfied: astunparse>=1.6.0 in /usr/local/lib/python3.10/dist-packages (from tensorflow) (1.6.3)\n",
            "Requirement already satisfied: flatbuffers>=23.5.26 in /usr/local/lib/python3.10/dist-packages (from tensorflow) (23.5.26)\n",
            "Requirement already satisfied: gast!=0.5.0,!=0.5.1,!=0.5.2,>=0.2.1 in /usr/local/lib/python3.10/dist-packages (from tensorflow) (0.5.4)\n",
            "Requirement already satisfied: google-pasta>=0.1.1 in /usr/local/lib/python3.10/dist-packages (from tensorflow) (0.2.0)\n",
            "Requirement already satisfied: h5py>=2.9.0 in /usr/local/lib/python3.10/dist-packages (from tensorflow) (3.9.0)\n",
            "Requirement already satisfied: libclang>=13.0.0 in /usr/local/lib/python3.10/dist-packages (from tensorflow) (16.0.6)\n",
            "Requirement already satisfied: ml-dtypes~=0.2.0 in /usr/local/lib/python3.10/dist-packages (from tensorflow) (0.2.0)\n",
            "Requirement already satisfied: numpy<2.0.0,>=1.23.5 in /usr/local/lib/python3.10/dist-packages (from tensorflow) (1.23.5)\n",
            "Requirement already satisfied: opt-einsum>=2.3.2 in /usr/local/lib/python3.10/dist-packages (from tensorflow) (3.3.0)\n",
            "Requirement already satisfied: packaging in /usr/local/lib/python3.10/dist-packages (from tensorflow) (23.2)\n",
            "Requirement already satisfied: protobuf!=4.21.0,!=4.21.1,!=4.21.2,!=4.21.3,!=4.21.4,!=4.21.5,<5.0.0dev,>=3.20.3 in /usr/local/lib/python3.10/dist-packages (from tensorflow) (3.20.3)\n",
            "Requirement already satisfied: setuptools in /usr/local/lib/python3.10/dist-packages (from tensorflow) (67.7.2)\n",
            "Requirement already satisfied: six>=1.12.0 in /usr/local/lib/python3.10/dist-packages (from tensorflow) (1.16.0)\n",
            "Requirement already satisfied: termcolor>=1.1.0 in /usr/local/lib/python3.10/dist-packages (from tensorflow) (2.4.0)\n",
            "Requirement already satisfied: typing-extensions>=3.6.6 in /usr/local/lib/python3.10/dist-packages (from tensorflow) (4.5.0)\n",
            "Requirement already satisfied: wrapt<1.15,>=1.11.0 in /usr/local/lib/python3.10/dist-packages (from tensorflow) (1.14.1)\n",
            "Requirement already satisfied: tensorflow-io-gcs-filesystem>=0.23.1 in /usr/local/lib/python3.10/dist-packages (from tensorflow) (0.35.0)\n",
            "Requirement already satisfied: grpcio<2.0,>=1.24.3 in /usr/local/lib/python3.10/dist-packages (from tensorflow) (1.60.0)\n",
            "Requirement already satisfied: tensorboard<2.16,>=2.15 in /usr/local/lib/python3.10/dist-packages (from tensorflow) (2.15.1)\n",
            "Requirement already satisfied: tensorflow-estimator<2.16,>=2.15.0 in /usr/local/lib/python3.10/dist-packages (from tensorflow) (2.15.0)\n",
            "Requirement already satisfied: keras<2.16,>=2.15.0 in /usr/local/lib/python3.10/dist-packages (from tensorflow) (2.15.0)\n",
            "Requirement already satisfied: wheel<1.0,>=0.23.0 in /usr/local/lib/python3.10/dist-packages (from astunparse>=1.6.0->tensorflow) (0.42.0)\n",
            "Requirement already satisfied: google-auth<3,>=1.6.3 in /usr/local/lib/python3.10/dist-packages (from tensorboard<2.16,>=2.15->tensorflow) (2.17.3)\n",
            "Requirement already satisfied: google-auth-oauthlib<2,>=0.5 in /usr/local/lib/python3.10/dist-packages (from tensorboard<2.16,>=2.15->tensorflow) (1.2.0)\n",
            "Requirement already satisfied: markdown>=2.6.8 in /usr/local/lib/python3.10/dist-packages (from tensorboard<2.16,>=2.15->tensorflow) (3.5.1)\n",
            "Requirement already satisfied: requests<3,>=2.21.0 in /usr/local/lib/python3.10/dist-packages (from tensorboard<2.16,>=2.15->tensorflow) (2.31.0)\n",
            "Requirement already satisfied: tensorboard-data-server<0.8.0,>=0.7.0 in /usr/local/lib/python3.10/dist-packages (from tensorboard<2.16,>=2.15->tensorflow) (0.7.2)\n",
            "Requirement already satisfied: werkzeug>=1.0.1 in /usr/local/lib/python3.10/dist-packages (from tensorboard<2.16,>=2.15->tensorflow) (3.0.1)\n",
            "Requirement already satisfied: cachetools<6.0,>=2.0.0 in /usr/local/lib/python3.10/dist-packages (from google-auth<3,>=1.6.3->tensorboard<2.16,>=2.15->tensorflow) (5.3.2)\n",
            "Requirement already satisfied: pyasn1-modules>=0.2.1 in /usr/local/lib/python3.10/dist-packages (from google-auth<3,>=1.6.3->tensorboard<2.16,>=2.15->tensorflow) (0.3.0)\n",
            "Requirement already satisfied: rsa<5,>=3.1.4 in /usr/local/lib/python3.10/dist-packages (from google-auth<3,>=1.6.3->tensorboard<2.16,>=2.15->tensorflow) (4.9)\n",
            "Requirement already satisfied: requests-oauthlib>=0.7.0 in /usr/local/lib/python3.10/dist-packages (from google-auth-oauthlib<2,>=0.5->tensorboard<2.16,>=2.15->tensorflow) (1.3.1)\n",
            "Requirement already satisfied: charset-normalizer<4,>=2 in /usr/local/lib/python3.10/dist-packages (from requests<3,>=2.21.0->tensorboard<2.16,>=2.15->tensorflow) (3.3.2)\n",
            "Requirement already satisfied: idna<4,>=2.5 in /usr/local/lib/python3.10/dist-packages (from requests<3,>=2.21.0->tensorboard<2.16,>=2.15->tensorflow) (3.6)\n",
            "Requirement already satisfied: urllib3<3,>=1.21.1 in /usr/local/lib/python3.10/dist-packages (from requests<3,>=2.21.0->tensorboard<2.16,>=2.15->tensorflow) (2.0.7)\n",
            "Requirement already satisfied: certifi>=2017.4.17 in /usr/local/lib/python3.10/dist-packages (from requests<3,>=2.21.0->tensorboard<2.16,>=2.15->tensorflow) (2023.11.17)\n",
            "Requirement already satisfied: MarkupSafe>=2.1.1 in /usr/local/lib/python3.10/dist-packages (from werkzeug>=1.0.1->tensorboard<2.16,>=2.15->tensorflow) (2.1.3)\n",
            "Requirement already satisfied: pyasn1<0.6.0,>=0.4.6 in /usr/local/lib/python3.10/dist-packages (from pyasn1-modules>=0.2.1->google-auth<3,>=1.6.3->tensorboard<2.16,>=2.15->tensorflow) (0.5.1)\n",
            "Requirement already satisfied: oauthlib>=3.0.0 in /usr/local/lib/python3.10/dist-packages (from requests-oauthlib>=0.7.0->google-auth-oauthlib<2,>=0.5->tensorboard<2.16,>=2.15->tensorflow) (3.2.2)\n"
          ]
        }
      ]
    },
    {
      "cell_type": "markdown",
      "source": [
        "#1.   MLP FOR BINARY CLASSIFICATION"
      ],
      "metadata": {
        "id": "49I2Nx2Y5Xof"
      }
    },
    {
      "cell_type": "code",
      "source": [
        "\n",
        "\n",
        "# mlp for binary classification\n",
        "from pandas import read_csv\n",
        "from sklearn.model_selection import train_test_split\n",
        "from sklearn.preprocessing import LabelEncoder\n",
        "from tensorflow.keras import Sequential\n",
        "from tensorflow.keras.layers import Dense\n",
        "# load the dataset\n",
        "path = 'https://raw.githubusercontent.com/jbrownlee/Datasets/master/ionosphere.csv'\n",
        "df = read_csv(path, header=None)\n",
        "# split into input and output columns\n",
        "X, y = df.values[:, :-1], df.values[:, -1]\n",
        "# ensure all data are floating point values\n",
        "X = X.astype('float32')\n",
        "# encode strings to integer\n",
        "y = LabelEncoder().fit_transform(y)\n",
        "# split into train and test datasets\n",
        "X_train, X_test, y_train, y_test = train_test_split(X, y, test_size=0.33)\n",
        "print(X_train.shape, X_test.shape, y_train.shape, y_test.shape)\n",
        "# determine the number of input features\n",
        "n_features = X_train.shape[1]\n",
        "# define model\n",
        "model = Sequential()\n",
        "model.add(Dense(10, activation='relu', kernel_initializer='he_normal', input_shape=(n_features,)))\n",
        "model.add(Dense(8, activation='relu', kernel_initializer='he_normal'))\n",
        "model.add(Dense(1, activation='sigmoid'))\n",
        "# compile the model\n",
        "model.compile(optimizer='adam', loss='binary_crossentropy', metrics=['accuracy'])\n",
        "# fit the model\n",
        "model.fit(X_train, y_train, epochs=150, batch_size=32, verbose=0)\n",
        "# evaluate the model\n",
        "loss, acc = model.evaluate(X_test, y_test, verbose=0)\n",
        "print('Test Accuracy: %.3f' % acc)\n",
        "# make a prediction\n",
        "row = [1,0,0.99539,-0.05889,0.85243,0.02306,0.83398,-0.37708,1,0.03760,0.85243,-0.17755,0.59755,-0.44945,0.60536,-0.38223,0.84356,-0.38542,0.58212,-0.32192,0.56971,-0.29674,0.36946,-0.47357,0.56811,-0.51171,0.41078,-0.46168,0.21266,-0.34090,0.42267,-0.54487,0.18641,-0.45300]\n",
        "yhat = model.predict([row])\n",
        "print('Predicted: %.3f' % yhat)"
      ],
      "metadata": {
        "colab": {
          "base_uri": "https://localhost:8080/"
        },
        "id": "LBPUgxLI5hy7",
        "outputId": "0d385567-3a7a-48b2-82f6-731f9b6adfe1"
      },
      "execution_count": null,
      "outputs": [
        {
          "output_type": "stream",
          "name": "stdout",
          "text": [
            "(235, 34) (116, 34) (235,) (116,)\n",
            "Test Accuracy: 0.983\n",
            "1/1 [==============================] - 0s 74ms/step\n",
            "Predicted: 0.990\n"
          ]
        }
      ]
    },
    {
      "cell_type": "markdown",
      "source": [
        "# 2.MLP for Multiclass Classification"
      ],
      "metadata": {
        "id": "6oqVhsG37BXQ"
      }
    },
    {
      "cell_type": "code",
      "source": [
        "\n",
        "# mlp for multiclass classification\n",
        "from numpy import argmax\n",
        "from pandas import read_csv\n",
        "from sklearn.model_selection import train_test_split\n",
        "from sklearn.preprocessing import LabelEncoder\n",
        "from tensorflow.keras import Sequential\n",
        "from tensorflow.keras.layers import Dense\n",
        "# load the dataset\n",
        "path = 'https://raw.githubusercontent.com/jbrownlee/Datasets/master/iris.csv'\n",
        "df = read_csv(path, header=None)\n",
        "# split into input and output columns\n",
        "X, y = df.values[:, :-1], df.values[:, -1]\n",
        "# ensure all data are floating point values\n",
        "X = X.astype('float32')\n",
        "# encode strings to integer\n",
        "y = LabelEncoder().fit_transform(y)\n",
        "# split into train and test datasets\n",
        "X_train, X_test, y_train, y_test = train_test_split(X, y, test_size=0.33)\n",
        "print(X_train.shape, X_test.shape, y_train.shape, y_test.shape)\n",
        "# determine the number of input features\n",
        "n_features = X_train.shape[1]\n",
        "# define model\n",
        "model = Sequential()\n",
        "model.add(Dense(10, activation='relu', kernel_initializer='he_normal', input_shape=(n_features,)))\n",
        "model.add(Dense(8, activation='relu', kernel_initializer='he_normal'))\n",
        "model.add(Dense(3, activation='softmax'))\n",
        "# compile the model\n",
        "model.compile(optimizer='adam', loss='sparse_categorical_crossentropy', metrics=['accuracy'])\n",
        "# fit the model\n",
        "model.fit(X_train, y_train, epochs=150, batch_size=32, verbose=0)\n",
        "# evaluate the model\n",
        "loss, acc = model.evaluate(X_test, y_test, verbose=0)\n",
        "print('Test Accuracy: %.3f' % acc)\n",
        "# make a prediction\n",
        "row = [5.1,3.5,1.4,0.2]\n",
        "yhat = model.predict([row])\n",
        "print('Predicted: %s (class=%d)' % (yhat, argmax(yhat)))"
      ],
      "metadata": {
        "colab": {
          "base_uri": "https://localhost:8080/"
        },
        "id": "E75t5S417903",
        "outputId": "a737410c-d731-424e-bb27-8be249895097"
      },
      "execution_count": null,
      "outputs": [
        {
          "output_type": "stream",
          "name": "stdout",
          "text": [
            "(100, 4) (50, 4) (100,) (50,)\n"
          ]
        },
        {
          "output_type": "stream",
          "name": "stderr",
          "text": [
            "WARNING:tensorflow:5 out of the last 11 calls to <function Model.make_test_function.<locals>.test_function at 0x7ae85dcbd990> triggered tf.function retracing. Tracing is expensive and the excessive number of tracings could be due to (1) creating @tf.function repeatedly in a loop, (2) passing tensors with different shapes, (3) passing Python objects instead of tensors. For (1), please define your @tf.function outside of the loop. For (2), @tf.function has reduce_retracing=True option that can avoid unnecessary retracing. For (3), please refer to https://www.tensorflow.org/guide/function#controlling_retracing and https://www.tensorflow.org/api_docs/python/tf/function for  more details.\n"
          ]
        },
        {
          "output_type": "stream",
          "name": "stdout",
          "text": [
            "Test Accuracy: 0.940\n",
            "1/1 [==============================] - 0s 102ms/step\n",
            "Predicted: [[9.7602707e-01 2.3842398e-02 1.3052963e-04]] (class=0)\n"
          ]
        }
      ]
    },
    {
      "cell_type": "markdown",
      "source": [
        "# 3.MLP for Regression"
      ],
      "metadata": {
        "id": "_8lfzo7p8hcX"
      }
    },
    {
      "cell_type": "code",
      "source": [
        "# mlp for regression\n",
        "from numpy import sqrt\n",
        "from pandas import read_csv\n",
        "from sklearn.model_selection import train_test_split\n",
        "from tensorflow.keras import Sequential\n",
        "from tensorflow.keras.layers import Dense\n",
        "# load the dataset\n",
        "path = 'https://raw.githubusercontent.com/jbrownlee/Datasets/master/housing.csv'\n",
        "df = read_csv(path, header=None)\n",
        "# split into input and output columns\n",
        "X, y = df.values[:, :-1], df.values[:, -1]\n",
        "# split into train and test datasets\n",
        "X_train, X_test, y_train, y_test = train_test_split(X, y, test_size=0.33)\n",
        "print(X_train.shape, X_test.shape, y_train.shape, y_test.shape)\n",
        "# determine the number of input features\n",
        "n_features = X_train.shape[1]\n",
        "# define model\n",
        "model = Sequential()\n",
        "model.add(Dense(10, activation='relu', kernel_initializer='he_normal', input_shape=(n_features,)))\n",
        "model.add(Dense(8, activation='relu', kernel_initializer='he_normal'))\n",
        "model.add(Dense(1))\n",
        "# compile the model\n",
        "model.compile(optimizer='adam', loss='mse')\n",
        "# fit the model\n",
        "model.fit(X_train, y_train, epochs=150, batch_size=32, verbose=0)\n",
        "# evaluate the model\n",
        "error = model.evaluate(X_test, y_test, verbose=0)\n",
        "print('MSE: %.3f, RMSE: %.3f' % (error, sqrt(error)))\n",
        "# make a prediction\n",
        "row = [0.00632,18.00,2.310,0,0.5380,6.5750,65.20,4.0900,1,296.0,15.30,396.90,4.98]\n",
        "yhat = model.predict([row])\n",
        "print('Predicted: %.3f' % yhat)"
      ],
      "metadata": {
        "colab": {
          "base_uri": "https://localhost:8080/"
        },
        "id": "gpebFI8f8ly8",
        "outputId": "239a5e29-3193-4018-bad4-6d0194b0f455"
      },
      "execution_count": null,
      "outputs": [
        {
          "output_type": "stream",
          "name": "stdout",
          "text": [
            "(339, 13) (167, 13) (339,) (167,)\n",
            "MSE: 74.261, RMSE: 8.617\n",
            "1/1 [==============================] - 0s 114ms/step\n",
            "Predicted: 24.493\n"
          ]
        }
      ]
    },
    {
      "cell_type": "markdown",
      "source": [
        "# 4.Deep Learning CNN for Fashion-MNIST Clothing Classification\n",
        "\n"
      ],
      "metadata": {
        "id": "pENooKn_9zi7"
      }
    },
    {
      "cell_type": "markdown",
      "source": [
        "1.LOADING DATASET AND SHOWING SOME IMAGES"
      ],
      "metadata": {
        "id": "ZM12faiVBVkY"
      }
    },
    {
      "cell_type": "code",
      "source": [
        "# example of loading and plotting the mnist dataset\n",
        "from tensorflow.keras.datasets.fashion_mnist import load_data\n",
        "from matplotlib import pyplot\n",
        "# load dataset\n",
        "(trainX, trainy), (testX, testy) = load_data()\n",
        "# summarize loaded dataset\n",
        "print('Train: X=%s, y=%s' % (trainX.shape, trainy.shape))\n",
        "print('Test: X=%s, y=%s' % (testX.shape, testy.shape))\n",
        "# plot first few images\n",
        "for i in range(25):\n",
        " # define subplot\n",
        " pyplot.subplot(5, 5, i+1)\n",
        " # plot raw pixel data\n",
        " pyplot.imshow(trainX[i], cmap=pyplot.get_cmap('gray'))\n",
        "# show the figure\n",
        "pyplot.show()"
      ],
      "metadata": {
        "colab": {
          "base_uri": "https://localhost:8080/",
          "height": 608
        },
        "id": "3q3ZzVQG92nK",
        "outputId": "69d4d343-dd5b-4308-f5c0-5a6fad0bb81f"
      },
      "execution_count": null,
      "outputs": [
        {
          "output_type": "stream",
          "name": "stdout",
          "text": [
            "Downloading data from https://storage.googleapis.com/tensorflow/tf-keras-datasets/train-labels-idx1-ubyte.gz\n",
            "29515/29515 [==============================] - 0s 0us/step\n",
            "Downloading data from https://storage.googleapis.com/tensorflow/tf-keras-datasets/train-images-idx3-ubyte.gz\n",
            "26421880/26421880 [==============================] - 0s 0us/step\n",
            "Downloading data from https://storage.googleapis.com/tensorflow/tf-keras-datasets/t10k-labels-idx1-ubyte.gz\n",
            "5148/5148 [==============================] - 0s 0us/step\n",
            "Downloading data from https://storage.googleapis.com/tensorflow/tf-keras-datasets/t10k-images-idx3-ubyte.gz\n",
            "4422102/4422102 [==============================] - 0s 0us/step\n",
            "Train: X=(60000, 28, 28), y=(60000,)\n",
            "Test: X=(10000, 28, 28), y=(10000,)\n"
          ]
        },
        {
          "output_type": "display_data",
          "data": {
            "text/plain": [
              "<Figure size 640x480 with 25 Axes>"
            ],
            "image/png": "[encoded data removed]"
          },
          "metadata": {}
        }
      ]
    },
    {
      "cell_type": "code",
      "source": [
        "# example of a cnn for image classification\n",
        "from numpy import asarray\n",
        "from numpy import unique\n",
        "from numpy import argmax\n",
        "from tensorflow.keras.datasets.fashion_mnist import load_data\n",
        "from tensorflow.keras import Sequential\n",
        "from tensorflow.keras.layers import Dense\n",
        "from tensorflow.keras.layers import Conv2D\n",
        "from tensorflow.keras.layers import MaxPool2D\n",
        "from tensorflow.keras.layers import Flatten\n",
        "from tensorflow.keras.layers import Dropout\n",
        "# load dataset\n",
        "(x_train, y_train), (x_test, y_test) = load_data()\n",
        "# reshape data to have a single channel\n",
        "x_train = x_train.reshape((x_train.shape[0], x_train.shape[1], x_train.shape[2], 1))\n",
        "x_test = x_test.reshape((x_test.shape[0], x_test.shape[1], x_test.shape[2], 1))\n",
        "# determine the shape of the input images\n",
        "in_shape = x_train.shape[1:]\n",
        "# determine the number of classes\n",
        "n_classes = len(unique(y_train))\n",
        "print(in_shape, n_classes)\n",
        "# normalize pixel values\n",
        "x_train = x_train.astype('float32') / 255.0\n",
        "x_test = x_test.astype('float32') / 255.0\n",
        "# define model\n",
        "model = Sequential()\n",
        "model.add(Conv2D(32, (3,3), activation='relu', kernel_initializer='he_uniform', input_shape=in_shape))\n",
        "model.add(MaxPool2D((2, 2)))\n",
        "model.add(Flatten())\n",
        "model.add(Dense(100, activation='relu', kernel_initializer='he_uniform'))\n",
        "model.add(Dropout(0.5))\n",
        "model.add(Dense(n_classes, activation='softmax'))\n",
        "# define loss and optimizer\n",
        "model.compile(optimizer='adam', loss='sparse_categorical_crossentropy', metrics=['accuracy'])\n",
        "# fit the model\n",
        "model.fit(x_train, y_train, epochs=10, batch_size=128, verbose=0)\n",
        "# evaluate the model\n",
        "loss, acc = model.evaluate(x_test, y_test, verbose=0)\n",
        "print('Accuracy: %.3f' % acc)\n",
        "# make a prediction\n",
        "image = x_train[0]\n",
        "yhat = model.predict(asarray([image]))\n",
        "print('Predicted: class=%d' % argmax(yhat))"
      ],
      "metadata": {
        "colab": {
          "base_uri": "https://localhost:8080/"
        },
        "id": "R4bHWxIbBPvN",
        "outputId": "6c87809e-e729-4a80-d744-56f8c95b75c4"
      },
      "execution_count": null,
      "outputs": [
        {
          "output_type": "stream",
          "name": "stdout",
          "text": [
            "(28, 28, 1) 10\n",
            "Accuracy: 0.908\n",
            "1/1 [==============================] - 0s 79ms/step\n",
            "Predicted: class=9\n"
          ]
        }
      ]
    },
    {
      "cell_type": "markdown",
      "source": [
        "# 5. Develop Recurrent Neural Network Models"
      ],
      "metadata": {
        "id": "JLQ9zcS8GjEM"
      }
    },
    {
      "cell_type": "code",
      "source": [
        "# lstm for time series forecasting\n",
        "from numpy import sqrt\n",
        "from numpy import asarray\n",
        "from pandas import read_csv\n",
        "from tensorflow.keras import Sequential\n",
        "from tensorflow.keras.layers import Dense\n",
        "from tensorflow.keras.layers import LSTM\n",
        "\n",
        "# split a univariate sequence into samples\n",
        "# split a univariate sequence into samples\n",
        "def split_sequence(sequence, n_steps):\n",
        "    X, y = list(), list()\n",
        "    for i in range(len(sequence)):\n",
        "        # find the end of this pattern\n",
        "        end_ix = i + n_steps\n",
        "        # check if we are beyond the sequence\n",
        "        if end_ix > len(sequence)-1:\n",
        "            break\n",
        "        # gather input and output parts of the pattern\n",
        "        seq_x, seq_y = sequence[i:end_ix], sequence[end_ix]\n",
        "        X.append(seq_x)\n",
        "        y.append(seq_y)\n",
        "    return asarray(X), asarray(y)\n",
        "\n",
        "\n",
        "# load the dataset\n",
        "path = 'https://raw.githubusercontent.com/jbrownlee/Datasets/master/monthly-car-sales.csv'\n",
        "df = read_csv(path, header=0, index_col=0, squeeze=True)\n",
        "# retrieve the values\n",
        "values = df.values.astype('float32')\n",
        "# specify the window size\n",
        "n_steps = 5\n",
        "# split into samples\n",
        "X, y = split_sequence(values, n_steps)\n",
        "# reshape into [samples, timesteps, features]\n",
        "X = X.reshape((X.shape[0], X.shape[1], 1))\n",
        "# split into train/test\n",
        "n_test = 12\n",
        "X_train, X_test, y_train, y_test = X[:-n_test], X[-n_test:], y[:-n_test], y[-n_test:]\n",
        "print(X_train.shape, X_test.shape, y_train.shape, y_test.shape)\n",
        "# define model\n",
        "model = Sequential()\n",
        "model.add(LSTM(100, activation='relu', kernel_initializer='he_normal', input_shape=(n_steps,1)))\n",
        "model.add(Dense(50, activation='relu', kernel_initializer='he_normal'))\n",
        "model.add(Dense(50, activation='relu', kernel_initializer='he_normal'))\n",
        "model.add(Dense(1))\n",
        "# compile the model\n",
        "model.compile(optimizer='adam', loss='mse', metrics=['mae'])\n",
        "# fit the model\n",
        "model.fit(X_train, y_train, epochs=350, batch_size=32, verbose=2, validation_data=(X_test, y_test))\n",
        "# evaluate the model\n",
        "mse, mae = model.evaluate(X_test, y_test, verbose=0)\n",
        "print('MSE: %.3f, RMSE: %.3f, MAE: %.3f' % (mse, sqrt(mse), mae))\n",
        "# make a prediction\n",
        "row = asarray([18024.0, 16722.0, 14385.0, 21342.0, 17180.0]).reshape((1, n_steps, 1))\n",
        "yhat = model.predict(row)\n",
        "print('Predicted: %.3f' % (yhat))"
      ],
      "metadata": {
        "colab": {
          "base_uri": "https://localhost:8080/"
        },
        "id": "yOf02aznCynp",
        "outputId": "1beccb7a-80bd-49d4-c8bb-66ed7dba182b"
      },
      "execution_count": null,
      "outputs": [
        {
          "output_type": "stream",
          "name": "stderr",
          "text": [
            "<ipython-input-39-afcfec20ba25>:28: FutureWarning: The squeeze argument has been deprecated and will be removed in a future version. Append .squeeze(\"columns\") to the call to squeeze.\n",
            "\n",
            "\n",
            "  df = read_csv(path, header=0, index_col=0, squeeze=True)\n"
          ]
        },
        {
          "output_type": "stream",
          "name": "stdout",
          "text": [
            "(91, 5, 1) (12, 5, 1) (91,) (12,)\n",
            "Epoch 1/350\n",
            "3/3 - 3s - loss: 107503512.0000 - mae: 8791.8682 - val_loss: 52529380.0000 - val_mae: 5552.1978 - 3s/epoch - 1s/step\n",
            "Epoch 2/350\n",
            "3/3 - 0s - loss: 42096352.0000 - mae: 5054.4272 - val_loss: 74202208.0000 - val_mae: 7556.4707 - 67ms/epoch - 22ms/step\n",
            "Epoch 3/350\n",
            "3/3 - 0s - loss: 67197664.0000 - mae: 6564.9277 - val_loss: 44157804.0000 - val_mae: 5516.5039 - 59ms/epoch - 20ms/step\n",
            "Epoch 4/350\n",
            "3/3 - 0s - loss: 37890524.0000 - mae: 5028.5591 - val_loss: 26774922.0000 - val_mae: 4355.2388 - 52ms/epoch - 17ms/step\n",
            "Epoch 5/350\n",
            "3/3 - 0s - loss: 26802536.0000 - mae: 4198.7773 - val_loss: 44249068.0000 - val_mae: 5243.4644 - 66ms/epoch - 22ms/step\n",
            "Epoch 6/350\n",
            "3/3 - 0s - loss: 28020724.0000 - mae: 4258.5332 - val_loss: 40325988.0000 - val_mae: 4924.2485 - 66ms/epoch - 22ms/step\n",
            "Epoch 7/350\n",
            "3/3 - 0s - loss: 25783552.0000 - mae: 4065.6292 - val_loss: 24724528.0000 - val_mae: 3858.8672 - 51ms/epoch - 17ms/step\n",
            "Epoch 8/350\n",
            "3/3 - 0s - loss: 14591060.0000 - mae: 3049.5286 - val_loss: 18303194.0000 - val_mae: 3485.0146 - 69ms/epoch - 23ms/step\n",
            "Epoch 9/350\n",
            "3/3 - 0s - loss: 14673079.0000 - mae: 3081.5356 - val_loss: 25414106.0000 - val_mae: 4203.7456 - 65ms/epoch - 22ms/step\n",
            "Epoch 10/350\n",
            "3/3 - 0s - loss: 17849290.0000 - mae: 3509.2112 - val_loss: 28090872.0000 - val_mae: 4066.7559 - 49ms/epoch - 16ms/step\n",
            "Epoch 11/350\n",
            "3/3 - 0s - loss: 16337896.0000 - mae: 3357.0134 - val_loss: 27346904.0000 - val_mae: 3968.8838 - 69ms/epoch - 23ms/step\n",
            "Epoch 12/350\n",
            "3/3 - 0s - loss: 12953445.0000 - mae: 2843.1033 - val_loss: 26403600.0000 - val_mae: 4236.7344 - 66ms/epoch - 22ms/step\n",
            "Epoch 13/350\n",
            "3/3 - 0s - loss: 12587313.0000 - mae: 2796.2983 - val_loss: 28288190.0000 - val_mae: 4439.2397 - 53ms/epoch - 18ms/step\n",
            "Epoch 14/350\n",
            "3/3 - 0s - loss: 14368958.0000 - mae: 3011.7576 - val_loss: 22193822.0000 - val_mae: 3831.8262 - 58ms/epoch - 19ms/step\n",
            "Epoch 15/350\n",
            "3/3 - 0s - loss: 12140018.0000 - mae: 2732.0605 - val_loss: 21100722.0000 - val_mae: 3644.6250 - 79ms/epoch - 26ms/step\n",
            "Epoch 16/350\n",
            "3/3 - 0s - loss: 11616279.0000 - mae: 2837.3987 - val_loss: 19030806.0000 - val_mae: 3498.0056 - 51ms/epoch - 17ms/step\n",
            "Epoch 17/350\n",
            "3/3 - 0s - loss: 12166064.0000 - mae: 2932.4839 - val_loss: 18009688.0000 - val_mae: 3298.8699 - 53ms/epoch - 18ms/step\n",
            "Epoch 18/350\n",
            "3/3 - 0s - loss: 12148656.0000 - mae: 2815.8059 - val_loss: 18396994.0000 - val_mae: 3315.5017 - 53ms/epoch - 18ms/step\n",
            "Epoch 19/350\n",
            "3/3 - 0s - loss: 11813323.0000 - mae: 2725.3430 - val_loss: 19133728.0000 - val_mae: 3375.7029 - 70ms/epoch - 23ms/step\n",
            "Epoch 20/350\n",
            "3/3 - 0s - loss: 10661426.0000 - mae: 2625.6917 - val_loss: 15619083.0000 - val_mae: 2962.0234 - 69ms/epoch - 23ms/step\n",
            "Epoch 21/350\n",
            "3/3 - 0s - loss: 10192204.0000 - mae: 2585.3726 - val_loss: 15115227.0000 - val_mae: 2926.0637 - 61ms/epoch - 20ms/step\n",
            "Epoch 22/350\n",
            "3/3 - 0s - loss: 10453549.0000 - mae: 2677.0674 - val_loss: 15487679.0000 - val_mae: 3440.1279 - 54ms/epoch - 18ms/step\n",
            "Epoch 23/350\n",
            "3/3 - 0s - loss: 10086841.0000 - mae: 2653.7839 - val_loss: 18669926.0000 - val_mae: 3730.8484 - 55ms/epoch - 18ms/step\n",
            "Epoch 24/350\n",
            "3/3 - 0s - loss: 10657300.0000 - mae: 2665.4265 - val_loss: 17105840.0000 - val_mae: 3377.1633 - 57ms/epoch - 19ms/step\n",
            "Epoch 25/350\n",
            "3/3 - 0s - loss: 10927257.0000 - mae: 2665.2498 - val_loss: 17194128.0000 - val_mae: 3234.2830 - 71ms/epoch - 24ms/step\n",
            "Epoch 26/350\n",
            "3/3 - 0s - loss: 10182745.0000 - mae: 2610.8164 - val_loss: 16067112.0000 - val_mae: 3406.9883 - 74ms/epoch - 25ms/step\n",
            "Epoch 27/350\n",
            "3/3 - 0s - loss: 10367452.0000 - mae: 2662.6248 - val_loss: 16192811.0000 - val_mae: 3551.7754 - 71ms/epoch - 24ms/step\n",
            "Epoch 28/350\n",
            "3/3 - 0s - loss: 10493454.0000 - mae: 2681.6184 - val_loss: 13920512.0000 - val_mae: 3122.2891 - 50ms/epoch - 17ms/step\n",
            "Epoch 29/350\n",
            "3/3 - 0s - loss: 9798851.0000 - mae: 2562.2019 - val_loss: 14488429.0000 - val_mae: 3080.6331 - 66ms/epoch - 22ms/step\n",
            "Epoch 30/350\n",
            "3/3 - 0s - loss: 9629510.0000 - mae: 2541.7705 - val_loss: 13186179.0000 - val_mae: 2950.2688 - 86ms/epoch - 29ms/step\n",
            "Epoch 31/350\n",
            "3/3 - 0s - loss: 9172348.0000 - mae: 2465.9419 - val_loss: 13581516.0000 - val_mae: 3064.0911 - 69ms/epoch - 23ms/step\n",
            "Epoch 32/350\n",
            "3/3 - 0s - loss: 8949639.0000 - mae: 2430.0847 - val_loss: 14019112.0000 - val_mae: 3179.1335 - 70ms/epoch - 23ms/step\n",
            "Epoch 33/350\n",
            "3/3 - 0s - loss: 9004405.0000 - mae: 2424.4705 - val_loss: 14073675.0000 - val_mae: 3280.3132 - 54ms/epoch - 18ms/step\n",
            "Epoch 34/350\n",
            "3/3 - 0s - loss: 8515045.0000 - mae: 2351.8711 - val_loss: 14143100.0000 - val_mae: 3295.1279 - 56ms/epoch - 19ms/step\n",
            "Epoch 35/350\n",
            "3/3 - 0s - loss: 8491229.0000 - mae: 2345.5549 - val_loss: 14375496.0000 - val_mae: 3086.6726 - 74ms/epoch - 25ms/step\n",
            "Epoch 36/350\n",
            "3/3 - 0s - loss: 9119839.0000 - mae: 2386.9746 - val_loss: 15545903.0000 - val_mae: 3194.3948 - 73ms/epoch - 24ms/step\n",
            "Epoch 37/350\n",
            "3/3 - 0s - loss: 9037989.0000 - mae: 2408.0581 - val_loss: 16446813.0000 - val_mae: 3450.0959 - 55ms/epoch - 18ms/step\n",
            "Epoch 38/350\n",
            "3/3 - 0s - loss: 9925971.0000 - mae: 2580.2856 - val_loss: 16257652.0000 - val_mae: 3423.4258 - 59ms/epoch - 20ms/step\n",
            "Epoch 39/350\n",
            "3/3 - 0s - loss: 9360978.0000 - mae: 2480.1506 - val_loss: 15791464.0000 - val_mae: 3196.1282 - 68ms/epoch - 23ms/step\n",
            "Epoch 40/350\n",
            "3/3 - 0s - loss: 8630070.0000 - mae: 2391.3989 - val_loss: 13891199.0000 - val_mae: 3113.4775 - 54ms/epoch - 18ms/step\n",
            "Epoch 41/350\n",
            "3/3 - 0s - loss: 8040932.0000 - mae: 2363.1982 - val_loss: 14550829.0000 - val_mae: 3094.8562 - 71ms/epoch - 24ms/step\n",
            "Epoch 42/350\n",
            "3/3 - 0s - loss: 9031281.0000 - mae: 2410.8979 - val_loss: 12941293.0000 - val_mae: 2767.4055 - 69ms/epoch - 23ms/step\n",
            "Epoch 43/350\n",
            "3/3 - 0s - loss: 8619897.0000 - mae: 2325.3713 - val_loss: 13701624.0000 - val_mae: 3001.7141 - 71ms/epoch - 24ms/step\n",
            "Epoch 44/350\n",
            "3/3 - 0s - loss: 9610343.0000 - mae: 2436.5869 - val_loss: 13729144.0000 - val_mae: 3005.0437 - 57ms/epoch - 19ms/step\n",
            "Epoch 45/350\n",
            "3/3 - 0s - loss: 9215307.0000 - mae: 2365.8682 - val_loss: 13968421.0000 - val_mae: 3076.2822 - 64ms/epoch - 21ms/step\n",
            "Epoch 46/350\n",
            "3/3 - 0s - loss: 9513195.0000 - mae: 2412.9060 - val_loss: 14206119.0000 - val_mae: 3039.4500 - 51ms/epoch - 17ms/step\n",
            "Epoch 47/350\n",
            "3/3 - 0s - loss: 9501017.0000 - mae: 2418.7498 - val_loss: 12720572.0000 - val_mae: 2923.7781 - 52ms/epoch - 17ms/step\n",
            "Epoch 48/350\n",
            "3/3 - 0s - loss: 8405251.0000 - mae: 2291.4517 - val_loss: 12883505.0000 - val_mae: 3048.6179 - 69ms/epoch - 23ms/step\n",
            "Epoch 49/350\n",
            "3/3 - 0s - loss: 8492625.0000 - mae: 2333.6211 - val_loss: 12290029.0000 - val_mae: 2864.2461 - 51ms/epoch - 17ms/step\n",
            "Epoch 50/350\n",
            "3/3 - 0s - loss: 8622746.0000 - mae: 2261.7451 - val_loss: 11426015.0000 - val_mae: 2572.7083 - 49ms/epoch - 16ms/step\n",
            "Epoch 51/350\n",
            "3/3 - 0s - loss: 9003007.0000 - mae: 2270.5261 - val_loss: 12648025.0000 - val_mae: 2915.0291 - 47ms/epoch - 16ms/step\n",
            "Epoch 52/350\n",
            "3/3 - 0s - loss: 8756977.0000 - mae: 2282.4607 - val_loss: 11632488.0000 - val_mae: 2802.9739 - 73ms/epoch - 24ms/step\n",
            "Epoch 53/350\n",
            "3/3 - 0s - loss: 8290828.0000 - mae: 2266.7249 - val_loss: 11841913.0000 - val_mae: 2745.9675 - 70ms/epoch - 23ms/step\n",
            "Epoch 54/350\n",
            "3/3 - 0s - loss: 8847169.0000 - mae: 2289.8113 - val_loss: 16416380.0000 - val_mae: 3422.7207 - 65ms/epoch - 22ms/step\n",
            "Epoch 55/350\n",
            "3/3 - 0s - loss: 9934674.0000 - mae: 2467.7141 - val_loss: 14916288.0000 - val_mae: 3344.1785 - 53ms/epoch - 18ms/step\n",
            "Epoch 56/350\n",
            "3/3 - 0s - loss: 9282274.0000 - mae: 2331.2107 - val_loss: 13549952.0000 - val_mae: 3058.8633 - 52ms/epoch - 17ms/step\n",
            "Epoch 57/350\n",
            "3/3 - 0s - loss: 8352285.0000 - mae: 2210.7556 - val_loss: 12334379.0000 - val_mae: 3016.3489 - 49ms/epoch - 16ms/step\n",
            "Epoch 58/350\n",
            "3/3 - 0s - loss: 8477583.0000 - mae: 2357.5232 - val_loss: 12841653.0000 - val_mae: 3019.3352 - 68ms/epoch - 23ms/step\n",
            "Epoch 59/350\n",
            "3/3 - 0s - loss: 8942779.0000 - mae: 2413.2627 - val_loss: 12735048.0000 - val_mae: 2907.4902 - 48ms/epoch - 16ms/step\n",
            "Epoch 60/350\n",
            "3/3 - 0s - loss: 9242628.0000 - mae: 2309.2053 - val_loss: 13605687.0000 - val_mae: 2955.6023 - 55ms/epoch - 18ms/step\n",
            "Epoch 61/350\n",
            "3/3 - 0s - loss: 8786339.0000 - mae: 2368.6531 - val_loss: 12423192.0000 - val_mae: 2963.9705 - 69ms/epoch - 23ms/step\n",
            "Epoch 62/350\n",
            "3/3 - 0s - loss: 8564466.0000 - mae: 2385.7112 - val_loss: 12359216.0000 - val_mae: 2917.5208 - 66ms/epoch - 22ms/step\n",
            "Epoch 63/350\n",
            "3/3 - 0s - loss: 8528188.0000 - mae: 2257.4656 - val_loss: 13308681.0000 - val_mae: 2939.8953 - 69ms/epoch - 23ms/step\n",
            "Epoch 64/350\n",
            "3/3 - 0s - loss: 8124330.0000 - mae: 2230.0195 - val_loss: 12301819.0000 - val_mae: 2938.4265 - 68ms/epoch - 23ms/step\n",
            "Epoch 65/350\n",
            "3/3 - 0s - loss: 8421805.0000 - mae: 2344.1511 - val_loss: 11222815.0000 - val_mae: 2816.6506 - 68ms/epoch - 23ms/step\n",
            "Epoch 66/350\n",
            "3/3 - 0s - loss: 9003396.0000 - mae: 2366.1562 - val_loss: 11761756.0000 - val_mae: 2773.8613 - 58ms/epoch - 19ms/step\n",
            "Epoch 67/350\n",
            "3/3 - 0s - loss: 8850106.0000 - mae: 2345.6907 - val_loss: 11480541.0000 - val_mae: 2851.0212 - 73ms/epoch - 24ms/step\n",
            "Epoch 68/350\n",
            "3/3 - 0s - loss: 8400141.0000 - mae: 2344.6697 - val_loss: 11658728.0000 - val_mae: 2797.3633 - 51ms/epoch - 17ms/step\n",
            "Epoch 69/350\n",
            "3/3 - 0s - loss: 8590498.0000 - mae: 2270.9500 - val_loss: 10433901.0000 - val_mae: 2594.6736 - 48ms/epoch - 16ms/step\n",
            "Epoch 70/350\n",
            "3/3 - 0s - loss: 8263540.5000 - mae: 2251.7148 - val_loss: 11208165.0000 - val_mae: 2776.8601 - 53ms/epoch - 18ms/step\n",
            "Epoch 71/350\n",
            "3/3 - 0s - loss: 8514932.0000 - mae: 2274.2710 - val_loss: 11405636.0000 - val_mae: 2774.7471 - 75ms/epoch - 25ms/step\n",
            "Epoch 72/350\n",
            "3/3 - 0s - loss: 8311428.0000 - mae: 2217.0813 - val_loss: 12882949.0000 - val_mae: 2771.0840 - 50ms/epoch - 17ms/step\n",
            "Epoch 73/350\n",
            "3/3 - 0s - loss: 8117905.0000 - mae: 2165.9646 - val_loss: 12862852.0000 - val_mae: 2810.5935 - 49ms/epoch - 16ms/step\n",
            "Epoch 74/350\n",
            "3/3 - 0s - loss: 7899347.0000 - mae: 2177.9124 - val_loss: 12976508.0000 - val_mae: 2847.4285 - 53ms/epoch - 18ms/step\n",
            "Epoch 75/350\n",
            "3/3 - 0s - loss: 8380608.5000 - mae: 2287.5806 - val_loss: 12865216.0000 - val_mae: 2838.6934 - 49ms/epoch - 16ms/step\n",
            "Epoch 76/350\n",
            "3/3 - 0s - loss: 8055061.0000 - mae: 2186.4531 - val_loss: 13206255.0000 - val_mae: 2928.7102 - 50ms/epoch - 17ms/step\n",
            "Epoch 77/350\n",
            "3/3 - 0s - loss: 8255622.5000 - mae: 2219.8994 - val_loss: 12773832.0000 - val_mae: 2835.2068 - 70ms/epoch - 23ms/step\n",
            "Epoch 78/350\n",
            "3/3 - 0s - loss: 8306762.5000 - mae: 2263.4768 - val_loss: 13158887.0000 - val_mae: 2912.0137 - 51ms/epoch - 17ms/step\n",
            "Epoch 79/350\n",
            "3/3 - 0s - loss: 8243084.0000 - mae: 2292.6143 - val_loss: 12673117.0000 - val_mae: 2803.2207 - 52ms/epoch - 17ms/step\n",
            "Epoch 80/350\n",
            "3/3 - 0s - loss: 8987123.0000 - mae: 2278.5947 - val_loss: 13240265.0000 - val_mae: 2943.0059 - 68ms/epoch - 23ms/step\n",
            "Epoch 81/350\n",
            "3/3 - 0s - loss: 8612768.0000 - mae: 2280.5129 - val_loss: 12414157.0000 - val_mae: 2884.5742 - 53ms/epoch - 18ms/step\n",
            "Epoch 82/350\n",
            "3/3 - 0s - loss: 8759846.0000 - mae: 2385.5042 - val_loss: 12661681.0000 - val_mae: 2833.6738 - 50ms/epoch - 17ms/step\n",
            "Epoch 83/350\n",
            "3/3 - 0s - loss: 7997951.5000 - mae: 2211.1123 - val_loss: 13266335.0000 - val_mae: 2867.1350 - 48ms/epoch - 16ms/step\n",
            "Epoch 84/350\n",
            "3/3 - 0s - loss: 8165132.5000 - mae: 2191.1860 - val_loss: 12992072.0000 - val_mae: 2813.5232 - 70ms/epoch - 23ms/step\n",
            "Epoch 85/350\n",
            "3/3 - 0s - loss: 8154876.0000 - mae: 2239.4521 - val_loss: 12713888.0000 - val_mae: 2805.2529 - 50ms/epoch - 17ms/step\n",
            "Epoch 86/350\n",
            "3/3 - 0s - loss: 8043610.0000 - mae: 2257.5137 - val_loss: 12912221.0000 - val_mae: 2778.2688 - 50ms/epoch - 17ms/step\n",
            "Epoch 87/350\n",
            "3/3 - 0s - loss: 7933595.5000 - mae: 2190.6433 - val_loss: 12878808.0000 - val_mae: 2766.7998 - 70ms/epoch - 23ms/step\n",
            "Epoch 88/350\n",
            "3/3 - 0s - loss: 7910379.5000 - mae: 2196.9937 - val_loss: 12745936.0000 - val_mae: 2794.9773 - 51ms/epoch - 17ms/step\n",
            "Epoch 89/350\n",
            "3/3 - 0s - loss: 7857256.0000 - mae: 2207.1714 - val_loss: 12704497.0000 - val_mae: 2756.1472 - 68ms/epoch - 23ms/step\n",
            "Epoch 90/350\n",
            "3/3 - 0s - loss: 7813961.0000 - mae: 2176.9900 - val_loss: 12710616.0000 - val_mae: 2755.2285 - 67ms/epoch - 22ms/step\n",
            "Epoch 91/350\n",
            "3/3 - 0s - loss: 8292973.5000 - mae: 2211.7937 - val_loss: 12795465.0000 - val_mae: 2778.0017 - 66ms/epoch - 22ms/step\n",
            "Epoch 92/350\n",
            "3/3 - 0s - loss: 8276607.5000 - mae: 2296.9570 - val_loss: 13118593.0000 - val_mae: 2876.8145 - 49ms/epoch - 16ms/step\n",
            "Epoch 93/350\n",
            "3/3 - 0s - loss: 7986406.5000 - mae: 2243.2532 - val_loss: 12707587.0000 - val_mae: 2763.7288 - 49ms/epoch - 16ms/step\n",
            "Epoch 94/350\n",
            "3/3 - 0s - loss: 7942062.5000 - mae: 2157.9907 - val_loss: 13349101.0000 - val_mae: 2905.6882 - 62ms/epoch - 21ms/step\n",
            "Epoch 95/350\n",
            "3/3 - 0s - loss: 7973217.0000 - mae: 2170.9521 - val_loss: 12770456.0000 - val_mae: 2805.5505 - 51ms/epoch - 17ms/step\n",
            "Epoch 96/350\n",
            "3/3 - 0s - loss: 7904978.5000 - mae: 2230.8833 - val_loss: 12703041.0000 - val_mae: 2796.7676 - 56ms/epoch - 19ms/step\n",
            "Epoch 97/350\n",
            "3/3 - 0s - loss: 7837739.0000 - mae: 2209.7256 - val_loss: 12714852.0000 - val_mae: 2777.1785 - 51ms/epoch - 17ms/step\n",
            "Epoch 98/350\n",
            "3/3 - 0s - loss: 7919574.0000 - mae: 2158.3481 - val_loss: 12821104.0000 - val_mae: 2811.4355 - 64ms/epoch - 21ms/step\n",
            "Epoch 99/350\n",
            "3/3 - 0s - loss: 7746325.0000 - mae: 2147.1543 - val_loss: 12602095.0000 - val_mae: 2785.1035 - 49ms/epoch - 16ms/step\n",
            "Epoch 100/350\n",
            "3/3 - 0s - loss: 8085148.0000 - mae: 2266.2668 - val_loss: 12618027.0000 - val_mae: 2786.8953 - 51ms/epoch - 17ms/step\n",
            "Epoch 101/350\n",
            "3/3 - 0s - loss: 7936016.0000 - mae: 2139.2671 - val_loss: 13334789.0000 - val_mae: 2915.7998 - 49ms/epoch - 16ms/step\n",
            "Epoch 102/350\n",
            "3/3 - 0s - loss: 7861969.0000 - mae: 2115.7095 - val_loss: 12532568.0000 - val_mae: 2773.1765 - 48ms/epoch - 16ms/step\n",
            "Epoch 103/350\n",
            "3/3 - 0s - loss: 7727559.5000 - mae: 2192.8245 - val_loss: 12692997.0000 - val_mae: 2794.8669 - 63ms/epoch - 21ms/step\n",
            "Epoch 104/350\n",
            "3/3 - 0s - loss: 7682318.0000 - mae: 2183.6692 - val_loss: 12630735.0000 - val_mae: 2768.0154 - 50ms/epoch - 17ms/step\n",
            "Epoch 105/350\n",
            "3/3 - 0s - loss: 8078515.5000 - mae: 2149.6296 - val_loss: 12994512.0000 - val_mae: 2864.6462 - 49ms/epoch - 16ms/step\n",
            "Epoch 106/350\n",
            "3/3 - 0s - loss: 7764948.5000 - mae: 2150.3567 - val_loss: 13063901.0000 - val_mae: 2846.2156 - 48ms/epoch - 16ms/step\n",
            "Epoch 107/350\n",
            "3/3 - 0s - loss: 7951227.0000 - mae: 2244.2351 - val_loss: 11630933.0000 - val_mae: 2727.4250 - 47ms/epoch - 16ms/step\n",
            "Epoch 108/350\n",
            "3/3 - 0s - loss: 7815375.0000 - mae: 2128.0801 - val_loss: 11704125.0000 - val_mae: 2737.8982 - 49ms/epoch - 16ms/step\n",
            "Epoch 109/350\n",
            "3/3 - 0s - loss: 7740748.0000 - mae: 2138.0972 - val_loss: 11667019.0000 - val_mae: 2748.9685 - 55ms/epoch - 18ms/step\n",
            "Epoch 110/350\n",
            "3/3 - 0s - loss: 7823677.0000 - mae: 2224.8794 - val_loss: 11693144.0000 - val_mae: 2792.3801 - 50ms/epoch - 17ms/step\n",
            "Epoch 111/350\n",
            "3/3 - 0s - loss: 7960954.5000 - mae: 2190.1741 - val_loss: 11996080.0000 - val_mae: 2758.2080 - 53ms/epoch - 18ms/step\n",
            "Epoch 112/350\n",
            "3/3 - 0s - loss: 7750472.5000 - mae: 2142.6030 - val_loss: 11518173.0000 - val_mae: 2717.4111 - 76ms/epoch - 25ms/step\n",
            "Epoch 113/350\n",
            "3/3 - 0s - loss: 7816331.5000 - mae: 2224.0488 - val_loss: 11707513.0000 - val_mae: 2785.0969 - 48ms/epoch - 16ms/step\n",
            "Epoch 114/350\n",
            "3/3 - 0s - loss: 7737936.0000 - mae: 2149.1753 - val_loss: 12067059.0000 - val_mae: 2861.2266 - 48ms/epoch - 16ms/step\n",
            "Epoch 115/350\n",
            "3/3 - 0s - loss: 7754240.0000 - mae: 2157.5999 - val_loss: 11605296.0000 - val_mae: 2750.9570 - 47ms/epoch - 16ms/step\n",
            "Epoch 116/350\n",
            "3/3 - 0s - loss: 7658739.5000 - mae: 2186.4233 - val_loss: 11828923.0000 - val_mae: 2797.2034 - 48ms/epoch - 16ms/step\n",
            "Epoch 117/350\n",
            "3/3 - 0s - loss: 7776079.5000 - mae: 2146.3328 - val_loss: 12006136.0000 - val_mae: 2842.7263 - 65ms/epoch - 22ms/step\n",
            "Epoch 118/350\n",
            "3/3 - 0s - loss: 7657632.5000 - mae: 2172.6560 - val_loss: 11692344.0000 - val_mae: 2759.7429 - 75ms/epoch - 25ms/step\n",
            "Epoch 119/350\n",
            "3/3 - 0s - loss: 7761821.5000 - mae: 2186.0857 - val_loss: 11989656.0000 - val_mae: 2832.4900 - 48ms/epoch - 16ms/step\n",
            "Epoch 120/350\n",
            "3/3 - 0s - loss: 7682762.5000 - mae: 2143.7329 - val_loss: 11828245.0000 - val_mae: 2783.8484 - 51ms/epoch - 17ms/step\n",
            "Epoch 121/350\n",
            "3/3 - 0s - loss: 7879889.5000 - mae: 2199.7297 - val_loss: 11704976.0000 - val_mae: 2759.4392 - 51ms/epoch - 17ms/step\n",
            "Epoch 122/350\n",
            "3/3 - 0s - loss: 8169039.0000 - mae: 2212.7312 - val_loss: 12275855.0000 - val_mae: 2892.7737 - 66ms/epoch - 22ms/step\n",
            "Epoch 123/350\n",
            "3/3 - 0s - loss: 8007850.0000 - mae: 2177.2036 - val_loss: 11731075.0000 - val_mae: 2765.1902 - 49ms/epoch - 16ms/step\n",
            "Epoch 124/350\n",
            "3/3 - 0s - loss: 7670697.0000 - mae: 2196.2236 - val_loss: 11917203.0000 - val_mae: 2807.4143 - 49ms/epoch - 16ms/step\n",
            "Epoch 125/350\n",
            "3/3 - 0s - loss: 7576605.0000 - mae: 2132.6130 - val_loss: 12538880.0000 - val_mae: 2930.8206 - 51ms/epoch - 17ms/step\n",
            "Epoch 126/350\n",
            "3/3 - 0s - loss: 7766268.0000 - mae: 2121.8352 - val_loss: 11721911.0000 - val_mae: 2746.6882 - 55ms/epoch - 18ms/step\n",
            "Epoch 127/350\n",
            "3/3 - 0s - loss: 7833172.5000 - mae: 2221.2168 - val_loss: 11725635.0000 - val_mae: 2742.3125 - 69ms/epoch - 23ms/step\n",
            "Epoch 128/350\n",
            "3/3 - 0s - loss: 7751242.5000 - mae: 2174.9043 - val_loss: 12613976.0000 - val_mae: 2940.7063 - 48ms/epoch - 16ms/step\n",
            "Epoch 129/350\n",
            "3/3 - 0s - loss: 7755738.5000 - mae: 2155.3726 - val_loss: 11683353.0000 - val_mae: 2736.3582 - 59ms/epoch - 20ms/step\n",
            "Epoch 130/350\n",
            "3/3 - 0s - loss: 7631554.0000 - mae: 2175.4563 - val_loss: 11702635.0000 - val_mae: 2737.5730 - 66ms/epoch - 22ms/step\n",
            "Epoch 131/350\n",
            "3/3 - 0s - loss: 7677019.5000 - mae: 2129.4175 - val_loss: 12270764.0000 - val_mae: 2879.3376 - 47ms/epoch - 16ms/step\n",
            "Epoch 132/350\n",
            "3/3 - 0s - loss: 7673906.5000 - mae: 2175.6121 - val_loss: 11759621.0000 - val_mae: 2731.1467 - 49ms/epoch - 16ms/step\n",
            "Epoch 133/350\n",
            "3/3 - 0s - loss: 7735308.5000 - mae: 2173.3582 - val_loss: 12079143.0000 - val_mae: 2830.2703 - 52ms/epoch - 17ms/step\n",
            "Epoch 134/350\n",
            "3/3 - 0s - loss: 7575441.0000 - mae: 2160.7185 - val_loss: 11815024.0000 - val_mae: 2747.8789 - 51ms/epoch - 17ms/step\n",
            "Epoch 135/350\n",
            "3/3 - 0s - loss: 7579772.0000 - mae: 2176.0801 - val_loss: 11974197.0000 - val_mae: 2800.1494 - 67ms/epoch - 22ms/step\n",
            "Epoch 136/350\n",
            "3/3 - 0s - loss: 7619765.5000 - mae: 2129.0354 - val_loss: 11935304.0000 - val_mae: 2786.0164 - 46ms/epoch - 15ms/step\n",
            "Epoch 137/350\n",
            "3/3 - 0s - loss: 7457469.0000 - mae: 2129.9175 - val_loss: 11857340.0000 - val_mae: 2751.5898 - 55ms/epoch - 18ms/step\n",
            "Epoch 138/350\n",
            "3/3 - 0s - loss: 7831702.5000 - mae: 2235.9824 - val_loss: 11857240.0000 - val_mae: 2738.2021 - 50ms/epoch - 17ms/step\n",
            "Epoch 139/350\n",
            "3/3 - 0s - loss: 7636365.5000 - mae: 2145.5754 - val_loss: 13123768.0000 - val_mae: 3002.4343 - 51ms/epoch - 17ms/step\n",
            "Epoch 140/350\n",
            "3/3 - 0s - loss: 7743171.5000 - mae: 2120.0918 - val_loss: 11874161.0000 - val_mae: 2759.9177 - 52ms/epoch - 17ms/step\n",
            "Epoch 141/350\n",
            "3/3 - 0s - loss: 7983074.5000 - mae: 2268.9446 - val_loss: 11905529.0000 - val_mae: 2761.3154 - 53ms/epoch - 18ms/step\n",
            "Epoch 142/350\n",
            "3/3 - 0s - loss: 8165574.5000 - mae: 2254.0686 - val_loss: 13679144.0000 - val_mae: 3062.5710 - 67ms/epoch - 22ms/step\n",
            "Epoch 143/350\n",
            "3/3 - 0s - loss: 7744991.5000 - mae: 2115.8862 - val_loss: 11971301.0000 - val_mae: 2766.6409 - 49ms/epoch - 16ms/step\n",
            "Epoch 144/350\n",
            "3/3 - 0s - loss: 7788563.5000 - mae: 2233.3843 - val_loss: 11886564.0000 - val_mae: 2755.1731 - 50ms/epoch - 17ms/step\n",
            "Epoch 145/350\n",
            "3/3 - 0s - loss: 7893587.0000 - mae: 2199.6428 - val_loss: 12481941.0000 - val_mae: 2905.7727 - 69ms/epoch - 23ms/step\n",
            "Epoch 146/350\n",
            "3/3 - 0s - loss: 7456551.5000 - mae: 2097.4216 - val_loss: 11816269.0000 - val_mae: 2730.6270 - 73ms/epoch - 24ms/step\n",
            "Epoch 147/350\n",
            "3/3 - 0s - loss: 7534098.5000 - mae: 2166.8110 - val_loss: 11893633.0000 - val_mae: 2750.1638 - 49ms/epoch - 16ms/step\n",
            "Epoch 148/350\n",
            "3/3 - 0s - loss: 7448041.0000 - mae: 2158.7090 - val_loss: 12181005.0000 - val_mae: 2837.6064 - 60ms/epoch - 20ms/step\n",
            "Epoch 149/350\n",
            "3/3 - 0s - loss: 7784391.0000 - mae: 2110.4453 - val_loss: 12318015.0000 - val_mae: 2868.0256 - 66ms/epoch - 22ms/step\n",
            "Epoch 150/350\n",
            "3/3 - 0s - loss: 7292458.0000 - mae: 2096.9705 - val_loss: 12231176.0000 - val_mae: 2785.1152 - 49ms/epoch - 16ms/step\n",
            "Epoch 151/350\n",
            "3/3 - 0s - loss: 7799989.5000 - mae: 2199.1362 - val_loss: 11948195.0000 - val_mae: 2751.2725 - 51ms/epoch - 17ms/step\n",
            "Epoch 152/350\n",
            "3/3 - 0s - loss: 7498868.5000 - mae: 2151.1226 - val_loss: 11987820.0000 - val_mae: 2778.2100 - 49ms/epoch - 16ms/step\n",
            "Epoch 153/350\n",
            "3/3 - 0s - loss: 7344692.0000 - mae: 2101.8867 - val_loss: 12280067.0000 - val_mae: 2863.1697 - 49ms/epoch - 16ms/step\n",
            "Epoch 154/350\n",
            "3/3 - 0s - loss: 7490436.0000 - mae: 2097.4993 - val_loss: 11897440.0000 - val_mae: 2734.0393 - 47ms/epoch - 16ms/step\n",
            "Epoch 155/350\n",
            "3/3 - 0s - loss: 7478701.0000 - mae: 2172.7874 - val_loss: 11929517.0000 - val_mae: 2744.8777 - 53ms/epoch - 18ms/step\n",
            "Epoch 156/350\n",
            "3/3 - 0s - loss: 7508525.0000 - mae: 2143.9880 - val_loss: 12226053.0000 - val_mae: 2856.5515 - 67ms/epoch - 22ms/step\n",
            "Epoch 157/350\n",
            "3/3 - 0s - loss: 7468634.0000 - mae: 2110.4863 - val_loss: 12029972.0000 - val_mae: 2803.5359 - 49ms/epoch - 16ms/step\n",
            "Epoch 158/350\n",
            "3/3 - 0s - loss: 7323648.0000 - mae: 2099.2729 - val_loss: 11857883.0000 - val_mae: 2720.6106 - 69ms/epoch - 23ms/step\n",
            "Epoch 159/350\n",
            "3/3 - 0s - loss: 7413101.5000 - mae: 2144.5693 - val_loss: 11880792.0000 - val_mae: 2714.8733 - 49ms/epoch - 16ms/step\n",
            "Epoch 160/350\n",
            "3/3 - 0s - loss: 7457709.0000 - mae: 2136.7654 - val_loss: 12122357.0000 - val_mae: 2825.7043 - 69ms/epoch - 23ms/step\n",
            "Epoch 161/350\n",
            "3/3 - 0s - loss: 7559076.5000 - mae: 2102.5999 - val_loss: 12485117.0000 - val_mae: 2899.3718 - 72ms/epoch - 24ms/step\n",
            "Epoch 162/350\n",
            "3/3 - 0s - loss: 7805046.0000 - mae: 2250.7026 - val_loss: 12012703.0000 - val_mae: 2734.0684 - 82ms/epoch - 27ms/step\n",
            "Epoch 163/350\n",
            "3/3 - 0s - loss: 7482570.0000 - mae: 2108.3748 - val_loss: 12380833.0000 - val_mae: 2885.1467 - 93ms/epoch - 31ms/step\n",
            "Epoch 164/350\n",
            "3/3 - 0s - loss: 7572958.0000 - mae: 2123.1543 - val_loss: 11757152.0000 - val_mae: 2692.9885 - 83ms/epoch - 28ms/step\n",
            "Epoch 165/350\n",
            "3/3 - 0s - loss: 7513783.0000 - mae: 2160.0474 - val_loss: 11767308.0000 - val_mae: 2707.2959 - 71ms/epoch - 24ms/step\n",
            "Epoch 166/350\n",
            "3/3 - 0s - loss: 7490306.0000 - mae: 2104.3145 - val_loss: 12293099.0000 - val_mae: 2854.7498 - 71ms/epoch - 24ms/step\n",
            "Epoch 167/350\n",
            "3/3 - 0s - loss: 7389421.5000 - mae: 2108.4888 - val_loss: 11938563.0000 - val_mae: 2713.4209 - 87ms/epoch - 29ms/step\n",
            "Epoch 168/350\n",
            "3/3 - 0s - loss: 7462329.0000 - mae: 2152.1348 - val_loss: 12036353.0000 - val_mae: 2736.6316 - 84ms/epoch - 28ms/step\n",
            "Epoch 169/350\n",
            "3/3 - 0s - loss: 7453026.5000 - mae: 2095.0735 - val_loss: 12293872.0000 - val_mae: 2844.8855 - 71ms/epoch - 24ms/step\n",
            "Epoch 170/350\n",
            "3/3 - 0s - loss: 7312972.0000 - mae: 2105.3237 - val_loss: 11982171.0000 - val_mae: 2722.0320 - 83ms/epoch - 28ms/step\n",
            "Epoch 171/350\n",
            "3/3 - 0s - loss: 7396670.5000 - mae: 2130.9846 - val_loss: 11991193.0000 - val_mae: 2763.7014 - 83ms/epoch - 28ms/step\n",
            "Epoch 172/350\n",
            "3/3 - 0s - loss: 7460404.5000 - mae: 2117.0481 - val_loss: 11903779.0000 - val_mae: 2729.7561 - 87ms/epoch - 29ms/step\n",
            "Epoch 173/350\n",
            "3/3 - 0s - loss: 7250577.0000 - mae: 2114.4358 - val_loss: 11952652.0000 - val_mae: 2739.2336 - 72ms/epoch - 24ms/step\n",
            "Epoch 174/350\n",
            "3/3 - 0s - loss: 7374845.0000 - mae: 2143.8059 - val_loss: 12195577.0000 - val_mae: 2818.4065 - 86ms/epoch - 29ms/step\n",
            "Epoch 175/350\n",
            "3/3 - 0s - loss: 7438281.0000 - mae: 2081.9822 - val_loss: 12032171.0000 - val_mae: 2809.5481 - 93ms/epoch - 31ms/step\n",
            "Epoch 176/350\n",
            "3/3 - 0s - loss: 7323354.0000 - mae: 2102.2827 - val_loss: 11858101.0000 - val_mae: 2701.3623 - 90ms/epoch - 30ms/step\n",
            "Epoch 177/350\n",
            "3/3 - 0s - loss: 7371343.0000 - mae: 2117.1895 - val_loss: 11955877.0000 - val_mae: 2727.8586 - 87ms/epoch - 29ms/step\n",
            "Epoch 178/350\n",
            "3/3 - 0s - loss: 7339033.5000 - mae: 2115.2319 - val_loss: 11993707.0000 - val_mae: 2739.4250 - 91ms/epoch - 30ms/step\n",
            "Epoch 179/350\n",
            "3/3 - 0s - loss: 7334607.5000 - mae: 2115.4541 - val_loss: 11965293.0000 - val_mae: 2748.1873 - 71ms/epoch - 24ms/step\n",
            "Epoch 180/350\n",
            "3/3 - 0s - loss: 7294758.5000 - mae: 2116.0427 - val_loss: 11938299.0000 - val_mae: 2713.1135 - 69ms/epoch - 23ms/step\n",
            "Epoch 181/350\n",
            "3/3 - 0s - loss: 7519953.5000 - mae: 2099.2354 - val_loss: 12153803.0000 - val_mae: 2828.8176 - 68ms/epoch - 23ms/step\n",
            "Epoch 182/350\n",
            "3/3 - 0s - loss: 7431588.5000 - mae: 2117.0068 - val_loss: 11997883.0000 - val_mae: 2720.2834 - 68ms/epoch - 23ms/step\n",
            "Epoch 183/350\n",
            "3/3 - 0s - loss: 7640937.5000 - mae: 2129.7727 - val_loss: 12247933.0000 - val_mae: 2863.0488 - 85ms/epoch - 28ms/step\n",
            "Epoch 184/350\n",
            "3/3 - 0s - loss: 7278085.5000 - mae: 2085.4844 - val_loss: 11929200.0000 - val_mae: 2715.0498 - 70ms/epoch - 23ms/step\n",
            "Epoch 185/350\n",
            "3/3 - 0s - loss: 7468673.5000 - mae: 2162.2468 - val_loss: 11919905.0000 - val_mae: 2734.4534 - 83ms/epoch - 28ms/step\n",
            "Epoch 186/350\n",
            "3/3 - 0s - loss: 7355949.5000 - mae: 2103.5969 - val_loss: 12729629.0000 - val_mae: 2952.6833 - 83ms/epoch - 28ms/step\n",
            "Epoch 187/350\n",
            "3/3 - 0s - loss: 7479905.0000 - mae: 2109.2949 - val_loss: 11958912.0000 - val_mae: 2717.2034 - 82ms/epoch - 27ms/step\n",
            "Epoch 188/350\n",
            "3/3 - 0s - loss: 7341463.0000 - mae: 2119.1233 - val_loss: 11950008.0000 - val_mae: 2766.7097 - 71ms/epoch - 24ms/step\n",
            "Epoch 189/350\n",
            "3/3 - 0s - loss: 7278906.5000 - mae: 2093.0249 - val_loss: 11964059.0000 - val_mae: 2785.1204 - 90ms/epoch - 30ms/step\n",
            "Epoch 190/350\n",
            "3/3 - 0s - loss: 7354693.5000 - mae: 2113.7190 - val_loss: 11851837.0000 - val_mae: 2705.4041 - 68ms/epoch - 23ms/step\n",
            "Epoch 191/350\n",
            "3/3 - 0s - loss: 7362533.5000 - mae: 2106.2537 - val_loss: 12169184.0000 - val_mae: 2843.0310 - 86ms/epoch - 29ms/step\n",
            "Epoch 192/350\n",
            "3/3 - 0s - loss: 7289513.0000 - mae: 2096.1230 - val_loss: 11983048.0000 - val_mae: 2710.7109 - 77ms/epoch - 26ms/step\n",
            "Epoch 193/350\n",
            "3/3 - 0s - loss: 7363323.0000 - mae: 2131.0947 - val_loss: 12046197.0000 - val_mae: 2780.0164 - 72ms/epoch - 24ms/step\n",
            "Epoch 194/350\n",
            "3/3 - 0s - loss: 7309126.5000 - mae: 2079.6589 - val_loss: 12548496.0000 - val_mae: 2922.6230 - 92ms/epoch - 31ms/step\n",
            "Epoch 195/350\n",
            "3/3 - 0s - loss: 7308158.5000 - mae: 2075.9592 - val_loss: 12014085.0000 - val_mae: 2720.1028 - 94ms/epoch - 31ms/step\n",
            "Epoch 196/350\n",
            "3/3 - 0s - loss: 7534380.5000 - mae: 2167.6086 - val_loss: 12034888.0000 - val_mae: 2793.8679 - 86ms/epoch - 29ms/step\n",
            "Epoch 197/350\n",
            "3/3 - 0s - loss: 7258933.5000 - mae: 2089.3643 - val_loss: 11929277.0000 - val_mae: 2761.7227 - 73ms/epoch - 24ms/step\n",
            "Epoch 198/350\n",
            "3/3 - 0s - loss: 7249169.5000 - mae: 2094.1453 - val_loss: 11897056.0000 - val_mae: 2719.0056 - 87ms/epoch - 29ms/step\n",
            "Epoch 199/350\n",
            "3/3 - 0s - loss: 7333684.5000 - mae: 2127.3381 - val_loss: 11934635.0000 - val_mae: 2740.3748 - 86ms/epoch - 29ms/step\n",
            "Epoch 200/350\n",
            "3/3 - 0s - loss: 7450119.5000 - mae: 2079.7615 - val_loss: 12360033.0000 - val_mae: 2888.9285 - 82ms/epoch - 27ms/step\n",
            "Epoch 201/350\n",
            "3/3 - 0s - loss: 7555707.0000 - mae: 2158.9856 - val_loss: 12090603.0000 - val_mae: 2731.4209 - 80ms/epoch - 27ms/step\n",
            "Epoch 202/350\n",
            "3/3 - 0s - loss: 7232762.5000 - mae: 2094.3660 - val_loss: 12389263.0000 - val_mae: 2896.3860 - 70ms/epoch - 23ms/step\n",
            "Epoch 203/350\n",
            "3/3 - 0s - loss: 7427751.5000 - mae: 2091.2729 - val_loss: 12072208.0000 - val_mae: 2813.2852 - 66ms/epoch - 22ms/step\n",
            "Epoch 204/350\n",
            "3/3 - 0s - loss: 7199427.0000 - mae: 2085.9014 - val_loss: 11919569.0000 - val_mae: 2713.6094 - 56ms/epoch - 19ms/step\n",
            "Epoch 205/350\n",
            "3/3 - 0s - loss: 7292116.5000 - mae: 2113.1606 - val_loss: 11987408.0000 - val_mae: 2793.5027 - 50ms/epoch - 17ms/step\n",
            "Epoch 206/350\n",
            "3/3 - 0s - loss: 7469789.0000 - mae: 2090.4512 - val_loss: 12033672.0000 - val_mae: 2830.2629 - 67ms/epoch - 22ms/step\n",
            "Epoch 207/350\n",
            "3/3 - 0s - loss: 7247949.5000 - mae: 2109.2253 - val_loss: 11937592.0000 - val_mae: 2737.9658 - 50ms/epoch - 17ms/step\n",
            "Epoch 208/350\n",
            "3/3 - 0s - loss: 7364206.5000 - mae: 2135.6714 - val_loss: 12039685.0000 - val_mae: 2837.9744 - 51ms/epoch - 17ms/step\n",
            "Epoch 209/350\n",
            "3/3 - 0s - loss: 8401715.0000 - mae: 2208.6345 - val_loss: 12155307.0000 - val_mae: 2868.6443 - 48ms/epoch - 16ms/step\n",
            "Epoch 210/350\n",
            "3/3 - 0s - loss: 7271263.0000 - mae: 2128.0935 - val_loss: 12795312.0000 - val_mae: 2862.8083 - 67ms/epoch - 22ms/step\n",
            "Epoch 211/350\n",
            "3/3 - 0s - loss: 7621980.0000 - mae: 2227.4624 - val_loss: 12520588.0000 - val_mae: 2936.6084 - 52ms/epoch - 17ms/step\n",
            "Epoch 212/350\n",
            "3/3 - 0s - loss: 7808823.5000 - mae: 2100.2942 - val_loss: 12620947.0000 - val_mae: 2952.7588 - 68ms/epoch - 23ms/step\n",
            "Epoch 213/350\n",
            "3/3 - 0s - loss: 7524515.0000 - mae: 2087.0134 - val_loss: 12605821.0000 - val_mae: 2835.2786 - 52ms/epoch - 17ms/step\n",
            "Epoch 214/350\n",
            "3/3 - 0s - loss: 7504475.5000 - mae: 2173.5437 - val_loss: 12429539.0000 - val_mae: 2925.6582 - 66ms/epoch - 22ms/step\n",
            "Epoch 215/350\n",
            "3/3 - 0s - loss: 7748369.0000 - mae: 2113.2222 - val_loss: 12111291.0000 - val_mae: 2866.7844 - 54ms/epoch - 18ms/step\n",
            "Epoch 216/350\n",
            "3/3 - 0s - loss: 7889460.5000 - mae: 2192.6228 - val_loss: 12037568.0000 - val_mae: 2755.3225 - 54ms/epoch - 18ms/step\n",
            "Epoch 217/350\n",
            "3/3 - 0s - loss: 7615879.0000 - mae: 2143.6345 - val_loss: 13085605.0000 - val_mae: 3019.8889 - 70ms/epoch - 23ms/step\n",
            "Epoch 218/350\n",
            "3/3 - 0s - loss: 7562446.0000 - mae: 2081.0999 - val_loss: 11866689.0000 - val_mae: 2723.0945 - 64ms/epoch - 21ms/step\n",
            "Epoch 219/350\n",
            "3/3 - 0s - loss: 7489195.0000 - mae: 2177.1157 - val_loss: 12009811.0000 - val_mae: 2745.5222 - 70ms/epoch - 23ms/step\n",
            "Epoch 220/350\n",
            "3/3 - 0s - loss: 7746350.5000 - mae: 2130.0024 - val_loss: 12866064.0000 - val_mae: 2998.1018 - 70ms/epoch - 23ms/step\n",
            "Epoch 221/350\n",
            "3/3 - 0s - loss: 7456471.0000 - mae: 2104.5330 - val_loss: 11996509.0000 - val_mae: 2735.4443 - 66ms/epoch - 22ms/step\n",
            "Epoch 222/350\n",
            "3/3 - 0s - loss: 7475049.5000 - mae: 2140.7439 - val_loss: 12056672.0000 - val_mae: 2839.8337 - 51ms/epoch - 17ms/step\n",
            "Epoch 223/350\n",
            "3/3 - 0s - loss: 7591366.5000 - mae: 2115.9888 - val_loss: 12182741.0000 - val_mae: 2865.6738 - 51ms/epoch - 17ms/step\n",
            "Epoch 224/350\n",
            "3/3 - 0s - loss: 7052232.5000 - mae: 2058.6885 - val_loss: 12195600.0000 - val_mae: 2751.0671 - 71ms/epoch - 24ms/step\n",
            "Epoch 225/350\n",
            "3/3 - 0s - loss: 7466088.0000 - mae: 2163.8101 - val_loss: 11950808.0000 - val_mae: 2778.9656 - 67ms/epoch - 22ms/step\n",
            "Epoch 226/350\n",
            "3/3 - 0s - loss: 8396206.0000 - mae: 2209.2295 - val_loss: 12264148.0000 - val_mae: 2899.5344 - 52ms/epoch - 17ms/step\n",
            "Epoch 227/350\n",
            "3/3 - 0s - loss: 8341046.0000 - mae: 2259.0339 - val_loss: 12180093.0000 - val_mae: 2771.2727 - 51ms/epoch - 17ms/step\n",
            "Epoch 228/350\n",
            "3/3 - 0s - loss: 7356462.5000 - mae: 2095.7305 - val_loss: 12850996.0000 - val_mae: 3001.1848 - 51ms/epoch - 17ms/step\n",
            "Epoch 229/350\n",
            "3/3 - 0s - loss: 7687803.0000 - mae: 2121.8606 - val_loss: 11773587.0000 - val_mae: 2750.2607 - 54ms/epoch - 18ms/step\n",
            "Epoch 230/350\n",
            "3/3 - 0s - loss: 7191813.5000 - mae: 2097.1479 - val_loss: 11741417.0000 - val_mae: 2717.9080 - 53ms/epoch - 18ms/step\n",
            "Epoch 231/350\n",
            "3/3 - 0s - loss: 7362594.0000 - mae: 2085.0542 - val_loss: 11899944.0000 - val_mae: 2798.2480 - 67ms/epoch - 22ms/step\n",
            "Epoch 232/350\n",
            "3/3 - 0s - loss: 7258760.5000 - mae: 2104.7036 - val_loss: 11869060.0000 - val_mae: 2707.1438 - 57ms/epoch - 19ms/step\n",
            "Epoch 233/350\n",
            "3/3 - 0s - loss: 7212269.0000 - mae: 2098.9375 - val_loss: 12085321.0000 - val_mae: 2863.8906 - 49ms/epoch - 16ms/step\n",
            "Epoch 234/350\n",
            "3/3 - 0s - loss: 7201804.5000 - mae: 2066.8782 - val_loss: 11901387.0000 - val_mae: 2800.5769 - 70ms/epoch - 23ms/step\n",
            "Epoch 235/350\n",
            "3/3 - 0s - loss: 7301172.5000 - mae: 2090.1816 - val_loss: 11850943.0000 - val_mae: 2750.4688 - 49ms/epoch - 16ms/step\n",
            "Epoch 236/350\n",
            "3/3 - 0s - loss: 7236233.0000 - mae: 2108.7595 - val_loss: 11870647.0000 - val_mae: 2734.1650 - 70ms/epoch - 23ms/step\n",
            "Epoch 237/350\n",
            "3/3 - 0s - loss: 7135058.5000 - mae: 2085.5784 - val_loss: 12236557.0000 - val_mae: 2896.1101 - 69ms/epoch - 23ms/step\n",
            "Epoch 238/350\n",
            "3/3 - 0s - loss: 7366686.0000 - mae: 2074.4170 - val_loss: 12084576.0000 - val_mae: 2848.1448 - 55ms/epoch - 18ms/step\n",
            "Epoch 239/350\n",
            "3/3 - 0s - loss: 7158329.5000 - mae: 2094.5945 - val_loss: 11918135.0000 - val_mae: 2714.4678 - 52ms/epoch - 17ms/step\n",
            "Epoch 240/350\n",
            "3/3 - 0s - loss: 7165909.0000 - mae: 2097.8660 - val_loss: 12004461.0000 - val_mae: 2838.3884 - 52ms/epoch - 17ms/step\n",
            "Epoch 241/350\n",
            "3/3 - 0s - loss: 7474246.5000 - mae: 2098.5996 - val_loss: 11980723.0000 - val_mae: 2842.7078 - 50ms/epoch - 17ms/step\n",
            "Epoch 242/350\n",
            "3/3 - 0s - loss: 7117720.0000 - mae: 2073.0044 - val_loss: 12002051.0000 - val_mae: 2727.4792 - 56ms/epoch - 19ms/step\n",
            "Epoch 243/350\n",
            "3/3 - 0s - loss: 7830952.0000 - mae: 2266.6033 - val_loss: 12045824.0000 - val_mae: 2864.4004 - 53ms/epoch - 18ms/step\n",
            "Epoch 244/350\n",
            "3/3 - 0s - loss: 7260153.0000 - mae: 2062.9048 - val_loss: 11992587.0000 - val_mae: 2838.4675 - 53ms/epoch - 18ms/step\n",
            "Epoch 245/350\n",
            "3/3 - 0s - loss: 7803257.0000 - mae: 2170.3879 - val_loss: 11913937.0000 - val_mae: 2710.2371 - 53ms/epoch - 18ms/step\n",
            "Epoch 246/350\n",
            "3/3 - 0s - loss: 7195397.5000 - mae: 2054.4341 - val_loss: 12922253.0000 - val_mae: 3022.6218 - 72ms/epoch - 24ms/step\n",
            "Epoch 247/350\n",
            "3/3 - 0s - loss: 7352901.0000 - mae: 2068.4187 - val_loss: 11884055.0000 - val_mae: 2721.1714 - 71ms/epoch - 24ms/step\n",
            "Epoch 248/350\n",
            "3/3 - 0s - loss: 7219042.0000 - mae: 2110.2388 - val_loss: 11794244.0000 - val_mae: 2734.8672 - 58ms/epoch - 19ms/step\n",
            "Epoch 249/350\n",
            "3/3 - 0s - loss: 7373032.0000 - mae: 2092.1648 - val_loss: 12018957.0000 - val_mae: 2869.1289 - 51ms/epoch - 17ms/step\n",
            "Epoch 250/350\n",
            "3/3 - 0s - loss: 7427778.0000 - mae: 2122.1389 - val_loss: 11831353.0000 - val_mae: 2710.6426 - 84ms/epoch - 28ms/step\n",
            "Epoch 251/350\n",
            "3/3 - 0s - loss: 7325242.5000 - mae: 2135.9143 - val_loss: 12702080.0000 - val_mae: 2993.9453 - 51ms/epoch - 17ms/step\n",
            "Epoch 252/350\n",
            "3/3 - 0s - loss: 7618288.0000 - mae: 2110.9736 - val_loss: 11923749.0000 - val_mae: 2752.2688 - 50ms/epoch - 17ms/step\n",
            "Epoch 253/350\n",
            "3/3 - 0s - loss: 7510567.5000 - mae: 2183.0374 - val_loss: 11813820.0000 - val_mae: 2747.8557 - 48ms/epoch - 16ms/step\n",
            "Epoch 254/350\n",
            "3/3 - 0s - loss: 7531383.5000 - mae: 2091.4907 - val_loss: 12500105.0000 - val_mae: 2965.3555 - 50ms/epoch - 17ms/step\n",
            "Epoch 255/350\n",
            "3/3 - 0s - loss: 7088880.0000 - mae: 2050.2966 - val_loss: 11943400.0000 - val_mae: 2727.0527 - 51ms/epoch - 17ms/step\n",
            "Epoch 256/350\n",
            "3/3 - 0s - loss: 7520600.5000 - mae: 2186.9719 - val_loss: 11816544.0000 - val_mae: 2715.3723 - 70ms/epoch - 23ms/step\n",
            "Epoch 257/350\n",
            "3/3 - 0s - loss: 7247578.0000 - mae: 2109.6375 - val_loss: 12776592.0000 - val_mae: 3004.2883 - 70ms/epoch - 23ms/step\n",
            "Epoch 258/350\n",
            "3/3 - 0s - loss: 7529321.5000 - mae: 2156.0288 - val_loss: 11830821.0000 - val_mae: 2711.3186 - 72ms/epoch - 24ms/step\n",
            "Epoch 259/350\n",
            "3/3 - 0s - loss: 7165392.0000 - mae: 2092.2080 - val_loss: 11939479.0000 - val_mae: 2836.6721 - 52ms/epoch - 17ms/step\n",
            "Epoch 260/350\n",
            "3/3 - 0s - loss: 7278710.0000 - mae: 2066.7422 - val_loss: 11879608.0000 - val_mae: 2819.2913 - 66ms/epoch - 22ms/step\n",
            "Epoch 261/350\n",
            "3/3 - 0s - loss: 7208605.5000 - mae: 2084.9485 - val_loss: 11756867.0000 - val_mae: 2783.5593 - 67ms/epoch - 22ms/step\n",
            "Epoch 262/350\n",
            "3/3 - 0s - loss: 7452132.0000 - mae: 2081.4482 - val_loss: 12059181.0000 - val_mae: 2890.4365 - 51ms/epoch - 17ms/step\n",
            "Epoch 263/350\n",
            "3/3 - 0s - loss: 8370828.5000 - mae: 2232.0083 - val_loss: 11804635.0000 - val_mae: 2712.1243 - 66ms/epoch - 22ms/step\n",
            "Epoch 264/350\n",
            "3/3 - 0s - loss: 7113953.0000 - mae: 2078.3848 - val_loss: 13395499.0000 - val_mae: 3087.6912 - 82ms/epoch - 27ms/step\n",
            "Epoch 265/350\n",
            "3/3 - 0s - loss: 7681131.0000 - mae: 2089.2554 - val_loss: 11672084.0000 - val_mae: 2706.4531 - 71ms/epoch - 24ms/step\n",
            "Epoch 266/350\n",
            "3/3 - 0s - loss: 7563890.0000 - mae: 2182.8835 - val_loss: 11826856.0000 - val_mae: 2733.1511 - 71ms/epoch - 24ms/step\n",
            "Epoch 267/350\n",
            "3/3 - 0s - loss: 7399096.5000 - mae: 2144.7693 - val_loss: 12864567.0000 - val_mae: 3028.8157 - 52ms/epoch - 17ms/step\n",
            "Epoch 268/350\n",
            "3/3 - 0s - loss: 7526353.5000 - mae: 2121.4700 - val_loss: 11799335.0000 - val_mae: 2713.4861 - 48ms/epoch - 16ms/step\n",
            "Epoch 269/350\n",
            "3/3 - 0s - loss: 7263633.5000 - mae: 2108.1531 - val_loss: 11772763.0000 - val_mae: 2769.5720 - 69ms/epoch - 23ms/step\n",
            "Epoch 270/350\n",
            "3/3 - 0s - loss: 7142664.5000 - mae: 2083.2112 - val_loss: 11910301.0000 - val_mae: 2853.0283 - 51ms/epoch - 17ms/step\n",
            "Epoch 271/350\n",
            "3/3 - 0s - loss: 7199315.5000 - mae: 2060.6062 - val_loss: 11962645.0000 - val_mae: 2863.2051 - 71ms/epoch - 24ms/step\n",
            "Epoch 272/350\n",
            "3/3 - 0s - loss: 7205418.0000 - mae: 2090.3792 - val_loss: 11782553.0000 - val_mae: 2719.7107 - 48ms/epoch - 16ms/step\n",
            "Epoch 273/350\n",
            "3/3 - 0s - loss: 7093405.0000 - mae: 2079.8772 - val_loss: 12083568.0000 - val_mae: 2901.3582 - 52ms/epoch - 17ms/step\n",
            "Epoch 274/350\n",
            "3/3 - 0s - loss: 7334228.5000 - mae: 2093.8655 - val_loss: 11966763.0000 - val_mae: 2868.5322 - 48ms/epoch - 16ms/step\n",
            "Epoch 275/350\n",
            "3/3 - 0s - loss: 7268251.5000 - mae: 2064.7959 - val_loss: 11879088.0000 - val_mae: 2846.3962 - 50ms/epoch - 17ms/step\n",
            "Epoch 276/350\n",
            "3/3 - 0s - loss: 7309938.5000 - mae: 2110.5171 - val_loss: 11697043.0000 - val_mae: 2700.9524 - 55ms/epoch - 18ms/step\n",
            "Epoch 277/350\n",
            "3/3 - 0s - loss: 7850167.0000 - mae: 2124.1599 - val_loss: 12507800.0000 - val_mae: 2990.0303 - 65ms/epoch - 22ms/step\n",
            "Epoch 278/350\n",
            "3/3 - 0s - loss: 7374655.5000 - mae: 2104.6543 - val_loss: 12050581.0000 - val_mae: 2742.9922 - 51ms/epoch - 17ms/step\n",
            "Epoch 279/350\n",
            "3/3 - 0s - loss: 7315708.5000 - mae: 2127.8459 - val_loss: 12096757.0000 - val_mae: 2920.5925 - 50ms/epoch - 17ms/step\n",
            "Epoch 280/350\n",
            "3/3 - 0s - loss: 7428425.0000 - mae: 2073.8518 - val_loss: 12027139.0000 - val_mae: 2897.2776 - 63ms/epoch - 21ms/step\n",
            "Epoch 281/350\n",
            "3/3 - 0s - loss: 6961537.5000 - mae: 2051.6475 - val_loss: 11940037.0000 - val_mae: 2729.6257 - 51ms/epoch - 17ms/step\n",
            "Epoch 282/350\n",
            "3/3 - 0s - loss: 7582192.0000 - mae: 2194.5623 - val_loss: 11750324.0000 - val_mae: 2838.6016 - 51ms/epoch - 17ms/step\n",
            "Epoch 283/350\n",
            "3/3 - 0s - loss: 7368287.0000 - mae: 2089.1980 - val_loss: 12596836.0000 - val_mae: 3008.9990 - 51ms/epoch - 17ms/step\n",
            "Epoch 284/350\n",
            "3/3 - 0s - loss: 7178272.5000 - mae: 2070.1687 - val_loss: 11792071.0000 - val_mae: 2719.2317 - 52ms/epoch - 17ms/step\n",
            "Epoch 285/350\n",
            "3/3 - 0s - loss: 7371480.0000 - mae: 2156.0061 - val_loss: 11702043.0000 - val_mae: 2793.8809 - 52ms/epoch - 17ms/step\n",
            "Epoch 286/350\n",
            "3/3 - 0s - loss: 7106917.5000 - mae: 2070.0061 - val_loss: 12266827.0000 - val_mae: 2949.3855 - 53ms/epoch - 18ms/step\n",
            "Epoch 287/350\n",
            "3/3 - 0s - loss: 7199431.5000 - mae: 2060.3945 - val_loss: 11874080.0000 - val_mae: 2841.9827 - 55ms/epoch - 18ms/step\n",
            "Epoch 288/350\n",
            "3/3 - 0s - loss: 7965229.5000 - mae: 2231.8684 - val_loss: 11716416.0000 - val_mae: 2754.0803 - 52ms/epoch - 17ms/step\n",
            "Epoch 289/350\n",
            "3/3 - 0s - loss: 7267798.5000 - mae: 2044.4347 - val_loss: 13136935.0000 - val_mae: 3082.0188 - 52ms/epoch - 17ms/step\n",
            "Epoch 290/350\n",
            "3/3 - 0s - loss: 7365211.5000 - mae: 2054.3584 - val_loss: 11735344.0000 - val_mae: 2713.7068 - 71ms/epoch - 24ms/step\n",
            "Epoch 291/350\n",
            "3/3 - 0s - loss: 8538108.0000 - mae: 2365.5286 - val_loss: 11820075.0000 - val_mae: 2724.1799 - 59ms/epoch - 20ms/step\n",
            "Epoch 292/350\n",
            "3/3 - 0s - loss: 7962242.0000 - mae: 2135.5500 - val_loss: 14758185.0000 - val_mae: 3237.0566 - 51ms/epoch - 17ms/step\n",
            "Epoch 293/350\n",
            "3/3 - 0s - loss: 7946530.0000 - mae: 2151.9377 - val_loss: 12067821.0000 - val_mae: 2759.0583 - 49ms/epoch - 16ms/step\n",
            "Epoch 294/350\n",
            "3/3 - 0s - loss: 7667819.0000 - mae: 2215.8198 - val_loss: 11565571.0000 - val_mae: 2736.2246 - 70ms/epoch - 23ms/step\n",
            "Epoch 295/350\n",
            "3/3 - 0s - loss: 7253664.5000 - mae: 2063.7148 - val_loss: 12137207.0000 - val_mae: 2935.6462 - 51ms/epoch - 17ms/step\n",
            "Epoch 296/350\n",
            "3/3 - 0s - loss: 7097915.0000 - mae: 2045.1719 - val_loss: 11588675.0000 - val_mae: 2693.3130 - 51ms/epoch - 17ms/step\n",
            "Epoch 297/350\n",
            "3/3 - 0s - loss: 7504669.0000 - mae: 2166.5449 - val_loss: 11646537.0000 - val_mae: 2783.8845 - 74ms/epoch - 25ms/step\n",
            "Epoch 298/350\n",
            "3/3 - 0s - loss: 7120122.5000 - mae: 2049.6418 - val_loss: 12795193.0000 - val_mae: 3038.3909 - 51ms/epoch - 17ms/step\n",
            "Epoch 299/350\n",
            "3/3 - 0s - loss: 7236670.0000 - mae: 2054.1934 - val_loss: 11649880.0000 - val_mae: 2714.2014 - 52ms/epoch - 17ms/step\n",
            "Epoch 300/350\n",
            "3/3 - 0s - loss: 7490860.5000 - mae: 2178.6538 - val_loss: 11611213.0000 - val_mae: 2710.4653 - 69ms/epoch - 23ms/step\n",
            "Epoch 301/350\n",
            "3/3 - 0s - loss: 7238438.0000 - mae: 2092.6941 - val_loss: 12547243.0000 - val_mae: 3018.5508 - 57ms/epoch - 19ms/step\n",
            "Epoch 302/350\n",
            "3/3 - 0s - loss: 7350085.0000 - mae: 2098.1528 - val_loss: 11575624.0000 - val_mae: 2690.0149 - 75ms/epoch - 25ms/step\n",
            "Epoch 303/350\n",
            "3/3 - 0s - loss: 7499310.5000 - mae: 2174.4146 - val_loss: 11469416.0000 - val_mae: 2742.8447 - 50ms/epoch - 17ms/step\n",
            "Epoch 304/350\n",
            "3/3 - 0s - loss: 7152675.0000 - mae: 2071.6174 - val_loss: 12671971.0000 - val_mae: 3039.1445 - 50ms/epoch - 17ms/step\n",
            "Epoch 305/350\n",
            "3/3 - 0s - loss: 7168998.5000 - mae: 2032.0051 - val_loss: 11631756.0000 - val_mae: 2690.5505 - 68ms/epoch - 23ms/step\n",
            "Epoch 306/350\n",
            "3/3 - 0s - loss: 7995008.0000 - mae: 2274.6655 - val_loss: 11638463.0000 - val_mae: 2744.9431 - 72ms/epoch - 24ms/step\n",
            "Epoch 307/350\n",
            "3/3 - 0s - loss: 7736027.5000 - mae: 2145.2349 - val_loss: 13717465.0000 - val_mae: 3153.8235 - 50ms/epoch - 17ms/step\n",
            "Epoch 308/350\n",
            "3/3 - 0s - loss: 8075089.0000 - mae: 2235.7930 - val_loss: 12378160.0000 - val_mae: 2794.6770 - 52ms/epoch - 17ms/step\n",
            "Epoch 309/350\n",
            "3/3 - 0s - loss: 7487899.5000 - mae: 2188.4592 - val_loss: 11840591.0000 - val_mae: 2895.3713 - 48ms/epoch - 16ms/step\n",
            "Epoch 310/350\n",
            "3/3 - 0s - loss: 8161056.5000 - mae: 2166.6956 - val_loss: 12351659.0000 - val_mae: 2995.5667 - 71ms/epoch - 24ms/step\n",
            "Epoch 311/350\n",
            "3/3 - 0s - loss: 7555346.5000 - mae: 2211.0188 - val_loss: 12757785.0000 - val_mae: 2844.7725 - 51ms/epoch - 17ms/step\n",
            "Epoch 312/350\n",
            "3/3 - 0s - loss: 7562881.5000 - mae: 2209.7112 - val_loss: 12351087.0000 - val_mae: 2997.1267 - 66ms/epoch - 22ms/step\n",
            "Epoch 313/350\n",
            "3/3 - 0s - loss: 7300559.0000 - mae: 2065.8550 - val_loss: 12039203.0000 - val_mae: 2947.4446 - 79ms/epoch - 26ms/step\n",
            "Epoch 314/350\n",
            "3/3 - 0s - loss: 7094295.0000 - mae: 2045.1656 - val_loss: 11478061.0000 - val_mae: 2707.7522 - 71ms/epoch - 24ms/step\n",
            "Epoch 315/350\n",
            "3/3 - 0s - loss: 7146425.0000 - mae: 2102.8916 - val_loss: 11487691.0000 - val_mae: 2777.2275 - 48ms/epoch - 16ms/step\n",
            "Epoch 316/350\n",
            "3/3 - 0s - loss: 6998159.5000 - mae: 2041.2461 - val_loss: 11789435.0000 - val_mae: 2890.4143 - 65ms/epoch - 22ms/step\n",
            "Epoch 317/350\n",
            "3/3 - 0s - loss: 7096615.5000 - mae: 2051.5591 - val_loss: 11596829.0000 - val_mae: 2825.6970 - 48ms/epoch - 16ms/step\n",
            "Epoch 318/350\n",
            "3/3 - 0s - loss: 7056537.5000 - mae: 2082.4597 - val_loss: 11600965.0000 - val_mae: 2693.1082 - 69ms/epoch - 23ms/step\n",
            "Epoch 319/350\n",
            "3/3 - 0s - loss: 7148458.0000 - mae: 2115.6877 - val_loss: 11683089.0000 - val_mae: 2854.9248 - 50ms/epoch - 17ms/step\n",
            "Epoch 320/350\n",
            "3/3 - 0s - loss: 7051380.0000 - mae: 2036.7039 - val_loss: 11941011.0000 - val_mae: 2921.1633 - 51ms/epoch - 17ms/step\n",
            "Epoch 321/350\n",
            "3/3 - 0s - loss: 7063621.5000 - mae: 2048.8071 - val_loss: 11640907.0000 - val_mae: 2819.3418 - 69ms/epoch - 23ms/step\n",
            "Epoch 322/350\n",
            "3/3 - 0s - loss: 7123207.0000 - mae: 2070.2871 - val_loss: 11624533.0000 - val_mae: 2830.4792 - 54ms/epoch - 18ms/step\n",
            "Epoch 323/350\n",
            "3/3 - 0s - loss: 7038684.0000 - mae: 2046.9771 - val_loss: 11569393.0000 - val_mae: 2715.5388 - 51ms/epoch - 17ms/step\n",
            "Epoch 324/350\n",
            "3/3 - 0s - loss: 7216981.0000 - mae: 2130.4541 - val_loss: 11469041.0000 - val_mae: 2783.7532 - 51ms/epoch - 17ms/step\n",
            "Epoch 325/350\n",
            "3/3 - 0s - loss: 7063192.5000 - mae: 2044.5719 - val_loss: 11981939.0000 - val_mae: 2952.6858 - 49ms/epoch - 16ms/step\n",
            "Epoch 326/350\n",
            "3/3 - 0s - loss: 7026690.0000 - mae: 2030.8694 - val_loss: 11511075.0000 - val_mae: 2758.1609 - 50ms/epoch - 17ms/step\n",
            "Epoch 327/350\n",
            "3/3 - 0s - loss: 7045016.0000 - mae: 2071.2417 - val_loss: 11544512.0000 - val_mae: 2775.9641 - 68ms/epoch - 23ms/step\n",
            "Epoch 328/350\n",
            "3/3 - 0s - loss: 7056015.0000 - mae: 2081.2151 - val_loss: 11628965.0000 - val_mae: 2836.1074 - 52ms/epoch - 17ms/step\n",
            "Epoch 329/350\n",
            "3/3 - 0s - loss: 7052808.5000 - mae: 2039.9733 - val_loss: 11646113.0000 - val_mae: 2857.7708 - 67ms/epoch - 22ms/step\n",
            "Epoch 330/350\n",
            "3/3 - 0s - loss: 7082167.0000 - mae: 2087.3718 - val_loss: 11486645.0000 - val_mae: 2752.1035 - 68ms/epoch - 23ms/step\n",
            "Epoch 331/350\n",
            "3/3 - 0s - loss: 7002115.5000 - mae: 2066.3020 - val_loss: 11804536.0000 - val_mae: 2922.1545 - 51ms/epoch - 17ms/step\n",
            "Epoch 332/350\n",
            "3/3 - 0s - loss: 6999991.0000 - mae: 2030.3557 - val_loss: 11473864.0000 - val_mae: 2797.4924 - 53ms/epoch - 18ms/step\n",
            "Epoch 333/350\n",
            "3/3 - 0s - loss: 7246557.0000 - mae: 2145.7322 - val_loss: 11456243.0000 - val_mae: 2758.4680 - 67ms/epoch - 22ms/step\n",
            "Epoch 334/350\n",
            "3/3 - 0s - loss: 7217526.0000 - mae: 2067.4421 - val_loss: 12107316.0000 - val_mae: 2991.4949 - 49ms/epoch - 16ms/step\n",
            "Epoch 335/350\n",
            "3/3 - 0s - loss: 7110128.5000 - mae: 2032.7655 - val_loss: 11532179.0000 - val_mae: 2715.5254 - 71ms/epoch - 24ms/step\n",
            "Epoch 336/350\n",
            "3/3 - 0s - loss: 7270585.5000 - mae: 2130.9104 - val_loss: 11606523.0000 - val_mae: 2872.1843 - 50ms/epoch - 17ms/step\n",
            "Epoch 337/350\n",
            "3/3 - 0s - loss: 6997719.0000 - mae: 2037.9987 - val_loss: 11764717.0000 - val_mae: 2924.3955 - 67ms/epoch - 22ms/step\n",
            "Epoch 338/350\n",
            "3/3 - 0s - loss: 6949351.5000 - mae: 2037.1068 - val_loss: 11474053.0000 - val_mae: 2758.7913 - 70ms/epoch - 23ms/step\n",
            "Epoch 339/350\n",
            "3/3 - 0s - loss: 7151359.5000 - mae: 2113.8684 - val_loss: 11527464.0000 - val_mae: 2812.5283 - 70ms/epoch - 23ms/step\n",
            "Epoch 340/350\n",
            "3/3 - 0s - loss: 7425920.0000 - mae: 2083.3809 - val_loss: 12332156.0000 - val_mae: 3027.0554 - 69ms/epoch - 23ms/step\n",
            "Epoch 341/350\n",
            "3/3 - 0s - loss: 7131741.0000 - mae: 2077.0112 - val_loss: 11744931.0000 - val_mae: 2688.6760 - 51ms/epoch - 17ms/step\n",
            "Epoch 342/350\n",
            "3/3 - 0s - loss: 7261632.0000 - mae: 2115.9668 - val_loss: 11730483.0000 - val_mae: 2897.0076 - 67ms/epoch - 22ms/step\n",
            "Epoch 343/350\n",
            "3/3 - 0s - loss: 6994832.0000 - mae: 2026.8829 - val_loss: 11592373.0000 - val_mae: 2858.2197 - 49ms/epoch - 16ms/step\n",
            "Epoch 344/350\n",
            "3/3 - 0s - loss: 7160607.0000 - mae: 2085.5894 - val_loss: 11475960.0000 - val_mae: 2774.6797 - 52ms/epoch - 17ms/step\n",
            "Epoch 345/350\n",
            "3/3 - 0s - loss: 7242868.5000 - mae: 2040.9663 - val_loss: 11865517.0000 - val_mae: 2943.8223 - 63ms/epoch - 21ms/step\n",
            "Epoch 346/350\n",
            "3/3 - 0s - loss: 6968773.0000 - mae: 2041.0393 - val_loss: 11527593.0000 - val_mae: 2744.3350 - 67ms/epoch - 22ms/step\n",
            "Epoch 347/350\n",
            "3/3 - 0s - loss: 7263524.5000 - mae: 2076.9436 - val_loss: 11623155.0000 - val_mae: 2887.4617 - 53ms/epoch - 18ms/step\n",
            "Epoch 348/350\n",
            "3/3 - 0s - loss: 7192761.0000 - mae: 2116.4905 - val_loss: 11492320.0000 - val_mae: 2749.7373 - 49ms/epoch - 16ms/step\n",
            "Epoch 349/350\n",
            "3/3 - 0s - loss: 6999567.5000 - mae: 2045.6567 - val_loss: 12183704.0000 - val_mae: 3015.6172 - 70ms/epoch - 23ms/step\n",
            "Epoch 350/350\n",
            "3/3 - 0s - loss: 7090516.5000 - mae: 2039.6263 - val_loss: 11451315.0000 - val_mae: 2782.6699 - 67ms/epoch - 22ms/step\n",
            "MSE: 11451315.000, RMSE: 3383.979, MAE: 2782.670\n",
            "1/1 [==============================] - 0s 204ms/step\n",
            "Predicted: 16468.957\n"
          ]
        }
      ]
    },
    {
      "cell_type": "markdown",
      "source": [
        "**model text description**"
      ],
      "metadata": {
        "id": "pPQ53JiHRUIJ"
      }
    },
    {
      "cell_type": "code",
      "source": [
        "# example of summarizing a model\n",
        "from tensorflow.keras import Sequential\n",
        "from tensorflow.keras.layers import Dense\n",
        "# define model\n",
        "model = Sequential()\n",
        "model.add(Dense(10, activation='relu', kernel_initializer='he_normal', input_shape=(8,)))\n",
        "model.add(Dense(8, activation='relu', kernel_initializer='he_normal'))\n",
        "model.add(Dense(1, activation='sigmoid'))\n",
        "# summarize the model\n",
        "model.summary()"
      ],
      "metadata": {
        "colab": {
          "base_uri": "https://localhost:8080/"
        },
        "id": "HmpbGxG8RF8D",
        "outputId": "82ae3828-d60c-4039-c422-6707a9852cef"
      },
      "execution_count": null,
      "outputs": [
        {
          "output_type": "stream",
          "name": "stdout",
          "text": [
            "Model: \"sequential_12\"\n",
            "_________________________________________________________________\n",
            " Layer (type)                Output Shape              Param #   \n",
            "=================================================================\n",
            " dense_31 (Dense)            (None, 10)                90        \n",
            "                                                                 \n",
            " dense_32 (Dense)            (None, 8)                 88        \n",
            "                                                                 \n",
            " dense_33 (Dense)            (None, 1)                 9         \n",
            "                                                                 \n",
            "=================================================================\n",
            "Total params: 187 (748.00 Byte)\n",
            "Trainable params: 187 (748.00 Byte)\n",
            "Non-trainable params: 0 (0.00 Byte)\n",
            "_________________________________________________________________\n"
          ]
        }
      ]
    },
    {
      "cell_type": "markdown",
      "source": [
        "**model architecture plot**"
      ],
      "metadata": {
        "id": "M04H3qK8RhbJ"
      }
    },
    {
      "cell_type": "code",
      "source": [
        "# example of plotting a model\n",
        "from tensorflow.keras import Sequential\n",
        "from tensorflow.keras.layers import Dense\n",
        "from tensorflow.keras.utils import plot_model\n",
        "# define model\n",
        "model = Sequential()\n",
        "model.add(Dense(10, activation='relu', kernel_initializer='he_normal', input_shape=(8,)))\n",
        "model.add(Dense(8, activation='relu', kernel_initializer='he_normal'))\n",
        "model.add(Dense(1, activation='sigmoid'))\n",
        "# summarize the model\n",
        "plot_model(model, 'model.png', show_shapes=True)"
      ],
      "metadata": {
        "colab": {
          "base_uri": "https://localhost:8080/",
          "height": 422
        },
        "id": "GBDmC68bRqwF",
        "outputId": "eb9501cd-7a46-42fc-e6ff-323d0d2b4ec3"
      },
      "execution_count": null,
      "outputs": [
        {
          "output_type": "execute_result",
          "data": {
            "image/png": "[encoded data removed]",
            "text/plain": [
              "<IPython.core.display.Image object>"
            ]
          },
          "metadata": {},
          "execution_count": 41
        }
      ]
    },
    {
      "cell_type": "markdown",
      "source": [
        "**plot model learning curves**"
      ],
      "metadata": {
        "id": "18q1DfhVR8Wo"
      }
    },
    {
      "cell_type": "code",
      "source": [
        "# example of plotting learning curves\n",
        "from sklearn.datasets import make_classification\n",
        "from tensorflow.keras import Sequential\n",
        "from tensorflow.keras.layers import Dense\n",
        "from tensorflow.keras.optimizers import SGD\n",
        "from matplotlib import pyplot\n",
        "# create the dataset\n",
        "X, y = make_classification(n_samples=1000, n_classes=2, random_state=1)\n",
        "# determine the number of input features\n",
        "n_features = X.shape[1]\n",
        "# define model\n",
        "model = Sequential()\n",
        "model.add(Dense(10, activation='relu', kernel_initializer='he_normal', input_shape=(n_features,)))\n",
        "model.add(Dense(1, activation='sigmoid'))\n",
        "# compile the model\n",
        "sgd = SGD(learning_rate=0.001, momentum=0.8)\n",
        "model.compile(optimizer=sgd, loss='binary_crossentropy')\n",
        "# fit the model\n",
        "history = model.fit(X, y, epochs=100, batch_size=32, verbose=0, validation_split=0.3)\n",
        "# plot learning curves\n",
        "pyplot.title('Learning Curves')\n",
        "pyplot.xlabel('Epoch')\n",
        "pyplot.ylabel('Cross Entropy')\n",
        "pyplot.plot(history.history['loss'], label='train')\n",
        "pyplot.plot(history.history['val_loss'], label='val')\n",
        "pyplot.legend()\n",
        "pyplot.show()"
      ],
      "metadata": {
        "colab": {
          "base_uri": "https://localhost:8080/",
          "height": 472
        },
        "id": "fmaY-kuWSIxW",
        "outputId": "d2910d60-4325-45f0-90a9-ebaf2ef6797c"
      },
      "execution_count": null,
      "outputs": [
        {
          "output_type": "display_data",
          "data": {
            "text/plain": [
              "<Figure size 640x480 with 1 Axes>"
            ],
            "image/png": "[encoded data removed]"
          },
          "metadata": {}
        }
      ]
    },
    {
      "cell_type": "markdown",
      "source": [
        "**saving and loading model**"
      ],
      "metadata": {
        "id": "jJRGtAjDSZXc"
      }
    },
    {
      "cell_type": "code",
      "source": [
        "# example of saving a fit model\n",
        "from sklearn.datasets import make_classification\n",
        "from tensorflow.keras import Sequential\n",
        "from tensorflow.keras.layers import Dense\n",
        "from tensorflow.keras.optimizers import SGD\n",
        "# create the dataset\n",
        "X, y = make_classification(n_samples=1000, n_features=4, n_classes=2, random_state=1)\n",
        "# determine the number of input features\n",
        "n_features = X.shape[1]\n",
        "# define model\n",
        "model = Sequential()\n",
        "model.add(Dense(10, activation='relu', kernel_initializer='he_normal', input_shape=(n_features,)))\n",
        "model.add(Dense(1, activation='sigmoid'))\n",
        "# compile the model\n",
        "sgd = SGD(learning_rate=0.001, momentum=0.8)\n",
        "model.compile(optimizer=sgd, loss='binary_crossentropy')\n",
        "# fit the model\n",
        "model.fit(X, y, epochs=100, batch_size=32, verbose=0, validation_split=0.3)\n",
        "# save model to file\n",
        "model.save('model.h5')"
      ],
      "metadata": {
        "colab": {
          "base_uri": "https://localhost:8080/"
        },
        "id": "LCuJE7POSfqK",
        "outputId": "42f82087-f0f8-4e76-ce42-327d7d90fc49"
      },
      "execution_count": null,
      "outputs": [
        {
          "output_type": "stream",
          "name": "stderr",
          "text": [
            "/usr/local/lib/python3.10/dist-packages/keras/src/engine/training.py:3103: UserWarning: You are saving your model as an HDF5 file via `model.save()`. This file format is considered legacy. We recommend using instead the native Keras format, e.g. `model.save('my_model.keras')`.\n",
            "  saving_api.save_model(\n"
          ]
        }
      ]
    },
    {
      "cell_type": "code",
      "source": [
        "# example of loading a saved model\n",
        "from sklearn.datasets import make_classification\n",
        "from tensorflow.keras.models import load_model\n",
        "# create the dataset\n",
        "X, y = make_classification(n_samples=1000, n_features=4, n_classes=2, random_state=1)\n",
        "# load the model from file\n",
        "model = load_model('model.h5')\n",
        "# make a prediction\n",
        "row = [1.91518414, 1.14995454, -1.52847073, 0.79430654]\n",
        "yhat = model.predict([row])\n",
        "print('Predicted: %.3f' % yhat[0])"
      ],
      "metadata": {
        "colab": {
          "base_uri": "https://localhost:8080/"
        },
        "id": "McIsM6JySmqA",
        "outputId": "c350422f-30e1-40a1-b0b8-612a417d8f37"
      },
      "execution_count": null,
      "outputs": [
        {
          "output_type": "stream",
          "name": "stdout",
          "text": [
            "1/1 [==============================] - 0s 115ms/step\n",
            "Predicted: 0.851\n"
          ]
        }
      ]
    },
    {
      "cell_type": "markdown",
      "source": [
        "**reduce overfitting**"
      ],
      "metadata": {
        "id": "IljrO58zSx_y"
      }
    },
    {
      "cell_type": "code",
      "source": [
        "# example of using dropout\n",
        "from sklearn.datasets import make_classification\n",
        "from tensorflow.keras import Sequential\n",
        "from tensorflow.keras.layers import Dense\n",
        "from tensorflow.keras.layers import Dropout\n",
        "from matplotlib import pyplot\n",
        "# create the dataset\n",
        "X, y = make_classification(n_samples=1000, n_classes=2, random_state=1)\n",
        "# determine the number of input features\n",
        "n_features = X.shape[1]\n",
        "# define model\n",
        "model = Sequential()\n",
        "model.add(Dense(10, activation='relu', kernel_initializer='he_normal', input_shape=(n_features,)))\n",
        "model.add(Dropout(0.5))\n",
        "model.add(Dense(1, activation='sigmoid'))\n",
        "# compile the model\n",
        "model.compile(optimizer='adam', loss='binary_crossentropy')\n",
        "# fit the model\n",
        "model.fit(X, y, epochs=100, batch_size=32, verbose=0)\n"
      ],
      "metadata": {
        "colab": {
          "base_uri": "https://localhost:8080/"
        },
        "id": "_AhsAFsOS2sB",
        "outputId": "b3b2e23a-24cb-44a6-cdcd-bb14a2bf0ab6"
      },
      "execution_count": null,
      "outputs": [
        {
          "output_type": "execute_result",
          "data": {
            "text/plain": [
              "<keras.src.callbacks.History at 0x7ae85e06c880>"
            ]
          },
          "metadata": {},
          "execution_count": 45
        }
      ]
    },
    {
      "cell_type": "markdown",
      "source": [
        "**Accelerate Training with Batch Normalization **"
      ],
      "metadata": {
        "id": "FVZC1w6oS88g"
      }
    },
    {
      "cell_type": "code",
      "source": [
        "# example of using batch normalization\n",
        "from sklearn.datasets import make_classification\n",
        "from tensorflow.keras import Sequential\n",
        "from tensorflow.keras.layers import Dense\n",
        "from tensorflow.keras.layers import BatchNormalization\n",
        "from matplotlib import pyplot\n",
        "# create the dataset\n",
        "X, y = make_classification(n_samples=1000, n_classes=2, random_state=1)\n",
        "# determine the number of input features\n",
        "n_features = X.shape[1]\n",
        "# define model\n",
        "model = Sequential()\n",
        "model.add(Dense(10, activation='relu', kernel_initializer='he_normal', input_shape=(n_features,)))\n",
        "model.add(BatchNormalization())\n",
        "model.add(Dense(1, activation='sigmoid'))\n",
        "# compile the model\n",
        "model.compile(optimizer='adam', loss='binary_crossentropy')\n",
        "# fit the model\n",
        "model.fit(X, y, epochs=100, batch_size=32, verbose=0)"
      ],
      "metadata": {
        "colab": {
          "base_uri": "https://localhost:8080/"
        },
        "id": "TPJnytG4TEbd",
        "outputId": "ec8c8727-c5c5-4318-cb7f-e1b92ec333ff"
      },
      "execution_count": null,
      "outputs": [
        {
          "output_type": "execute_result",
          "data": {
            "text/plain": [
              "<keras.src.callbacks.History at 0x7ae85e047d00>"
            ]
          },
          "metadata": {},
          "execution_count": 46
        }
      ]
    },
    {
      "cell_type": "markdown",
      "source": [
        "**Halt Training at the Right Time with Early Stopping**"
      ],
      "metadata": {
        "id": "Ldbtj3j9TVbw"
      }
    },
    {
      "cell_type": "code",
      "source": [
        "# example of using early stopping\n",
        "from sklearn.datasets import make_classification\n",
        "from tensorflow.keras import Sequential\n",
        "from tensorflow.keras.layers import Dense\n",
        "from tensorflow.keras.callbacks import EarlyStopping\n",
        "# create the dataset\n",
        "X, y = make_classification(n_samples=1000, n_classes=2, random_state=1)\n",
        "# determine the number of input features\n",
        "n_features = X.shape[1]\n",
        "# define model\n",
        "model = Sequential()\n",
        "model.add(Dense(10, activation='relu', kernel_initializer='he_normal', input_shape=(n_features,)))\n",
        "model.add(Dense(1, activation='sigmoid'))\n",
        "# compile the model\n",
        "model.compile(optimizer='adam', loss='binary_crossentropy')\n",
        "# configure early stopping\n",
        "es = EarlyStopping(monitor='val_loss', patience=5)\n",
        "# fit the model\n",
        "history = model.fit(X, y, epochs=200, batch_size=32, verbose=0, validation_split=0.3, callbacks=[es])"
      ],
      "metadata": {
        "id": "Zkkca_-UTYEB"
      },
      "execution_count": null,
      "outputs": []
    }
  ]
}