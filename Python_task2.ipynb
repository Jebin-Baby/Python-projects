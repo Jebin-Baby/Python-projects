{
  "nbformat": 4,
  "nbformat_minor": 0,
  "metadata": {
    "colab": {
      "provenance": []
    },
    "kernelspec": {
      "name": "python3",
      "display_name": "Python 3"
    },
    "language_info": {
      "name": "python"
    }
  },
  "cells": [
    {
      "cell_type": "code",
      "execution_count": 1,
      "metadata": {
        "colab": {
          "base_uri": "https://localhost:8080/"
        },
        "id": "mz11SJxiUDz3",
        "outputId": "f208237d-5a3f-4672-9dea-3ada169807c7"
      },
      "outputs": [
        {
          "output_type": "stream",
          "name": "stdout",
          "text": [
            "Enter your number: 12\n",
            "Not ok\n"
          ]
        }
      ],
      "source": [
        "num = int(input(\"Enter your number: \"))\n",
        "if num % 5 ==0 and num % 7 ==0:\n",
        "    print(\"ok\")\n",
        "else:\n",
        "  print(\"Not ok\")\n",
        "\n"
      ]
    },
    {
      "cell_type": "code",
      "source": [
        "num = int(input(\"Enter your number: \"))\n",
        "if num == 0:\n",
        "  print(\"it's zero\")\n",
        "elif num%2 == 0:\n",
        "  print(\"it's an even number\")\n",
        "else:\n",
        "  print(\"it's an odd number\")\n",
        "\n",
        "\n",
        "#"
      ],
      "metadata": {
        "colab": {
          "base_uri": "https://localhost:8080/"
        },
        "id": "8yNrz27rWJCN",
        "outputId": "c570a119-7d35-4bfe-cf79-8b020414ef1a"
      },
      "execution_count": 3,
      "outputs": [
        {
          "output_type": "stream",
          "name": "stdout",
          "text": [
            "Enter your number: 4\n",
            "it's an even number\n"
          ]
        }
      ]
    },
    {
      "cell_type": "code",
      "source": [
        "num = str(float(input(\"Enter your number: \")))\n",
        "dec = num.split('.')\n",
        "n = int(dec[1])\n",
        "if n==0:\n",
        "  print(\"it's an integer\")\n",
        "else:\n",
        "  print(\"it's a float\")\n"
      ],
      "metadata": {
        "colab": {
          "base_uri": "https://localhost:8080/"
        },
        "id": "WSGmTCp7WxhU",
        "outputId": "55dd5bcb-c1d1-41a5-cdb5-018f69146b66"
      },
      "execution_count": 4,
      "outputs": [
        {
          "output_type": "stream",
          "name": "stdout",
          "text": [
            "Enter your number: 22\n",
            "it's an integer\n"
          ]
        }
      ]
    },
    {
      "cell_type": "code",
      "source": [],
      "metadata": {
        "id": "0NMGc1oQXtlq"
      },
      "execution_count": null,
      "outputs": []
    }
  ]
}