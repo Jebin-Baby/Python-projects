{
  "nbformat": 4,
  "nbformat_minor": 0,
  "metadata": {
    "colab": {
      "provenance": []
    },
    "kernelspec": {
      "name": "python3",
      "display_name": "Python 3"
    },
    "language_info": {
      "name": "python"
    }
  },
  "cells": [
    {
      "cell_type": "markdown",
      "source": [
        "1. Write a Python program to check that a string contains only a certain set of characters (in this case a-z, A-Z and 0-9).\n",
        "\n"
      ],
      "metadata": {
        "id": "fpQX9wBhb6ox"
      }
    },
    {
      "cell_type": "code",
      "source": [
        "import re\n",
        "\n",
        "def fit_string(input_string):\n",
        "\n",
        "    pattern = re.compile(\"^[a-zA-Z0-9]+$\")\n",
        "\n",
        "\n",
        "    match = pattern.match(input_string)\n",
        "\n",
        "    if match:\n",
        "        return True\n",
        "    else:\n",
        "        return False\n",
        "\n",
        "\n",
        "input_str = \"Abc123\"\n",
        "if fit_string(input_str):\n",
        "    print(f'The string \"{input_str}\" is valid.')\n",
        "else:\n",
        "    print(f'The string \"{input_str}\" is not valid.')\n"
      ],
      "metadata": {
        "colab": {
          "base_uri": "https://localhost:8080/"
        },
        "id": "7oBvrbSCq7bq",
        "outputId": "ff86aa29-293c-4975-c26e-d8cf1a94e870"
      },
      "execution_count": null,
      "outputs": [
        {
          "output_type": "stream",
          "name": "stdout",
          "text": [
            "The string \"Abc123\" is valid.\n"
          ]
        }
      ]
    },
    {
      "cell_type": "markdown",
      "source": [
        "2. Write a Python program that matches a string that has an a followed by zero or more b's.\n",
        "\n"
      ],
      "metadata": {
        "id": "rtdxRzltcRtS"
      }
    },
    {
      "cell_type": "code",
      "source": [
        "import re\n",
        "\n",
        "def need(input_string):\n",
        "\n",
        "    pattern = re.compile(\"ab*\")\n",
        "\n",
        "    match = pattern.search(input_string)\n",
        "    if match:\n",
        "       return True\n",
        "    else:\n",
        "        return False\n",
        "\n",
        "\n",
        "input_str = \"abbbc\"\n",
        "if need(input_str):\n",
        "    print(f'The string \"{input_str}\" matches the pattern.')\n",
        "else:\n",
        "    print(f'The string \"{input_str}\" does not match the pattern.')\n"
      ],
      "metadata": {
        "colab": {
          "base_uri": "https://localhost:8080/"
        },
        "id": "J0PUoQesr7E8",
        "outputId": "6a5c4f44-735f-40eb-d929-0a4e01d58fb9"
      },
      "execution_count": null,
      "outputs": [
        {
          "output_type": "stream",
          "name": "stdout",
          "text": [
            "The string \"abbbc\" matches the pattern.\n"
          ]
        }
      ]
    },
    {
      "cell_type": "markdown",
      "source": [
        "3. Replace only the first occurrence of 5 with five for the given string\n",
        "\n"
      ],
      "metadata": {
        "id": "kyvbz3eNcZri"
      }
    },
    {
      "cell_type": "code",
      "source": [
        "\n",
        "def replace_first_occurrence(input_string, old_substring, new_substring):\n",
        "    new_string = input_string.replace(old_substring, new_substring, 1)\n",
        "    return new_string\n",
        "input_str = \"54321\"\n",
        "new_str = replace_first_occurrence(input_str, \"5\", \"five\")\n",
        "\n",
        "print(f'Original string: {input_str}')\n",
        "print(f'Updated string: {new_str}')\n"
      ],
      "metadata": {
        "id": "pgZy45dxcqSg",
        "colab": {
          "base_uri": "https://localhost:8080/"
        },
        "outputId": "c8b5b3b1-cdde-4c33-981b-8c4c99e35431"
      },
      "execution_count": null,
      "outputs": [
        {
          "output_type": "stream",
          "name": "stdout",
          "text": [
            "Original string: 54321\n",
            "Updated string: five4321\n"
          ]
        }
      ]
    },
    {
      "cell_type": "markdown",
      "source": [
        "4. Write a Python program that matches a string that has an a followed by three 'b'.\n",
        "\n"
      ],
      "metadata": {
        "id": "h_b1-o6ncuzM"
      }
    },
    {
      "cell_type": "code",
      "source": [
        "\n",
        "import re\n",
        "\n",
        "def match_pattern(input_string):\n",
        "\n",
        "    pattern = re.compile(\"ab{3}\")\n",
        "    match = pattern.search(input_string)\n",
        "    if match:\n",
        "        return True\n",
        "    else:\n",
        "        return False\n",
        "input_str = \"abbb\"\n",
        "if match_pattern(input_str):\n",
        "    print(f'The string \"{input_str}\" matches the pattern.')\n",
        "else:\n",
        "    print(f'The string \"{input_str}\" does not match the pattern.')\n",
        "\n"
      ],
      "metadata": {
        "id": "eWIRl3LccqwE",
        "colab": {
          "base_uri": "https://localhost:8080/"
        },
        "outputId": "836dd39f-dd58-4376-fd0a-b9411143abe0"
      },
      "execution_count": null,
      "outputs": [
        {
          "output_type": "stream",
          "name": "stdout",
          "text": [
            "The string \"abbb\" matches the pattern.\n"
          ]
        }
      ]
    },
    {
      "cell_type": "markdown",
      "source": [
        "5. Write a Python program that matches a string that has an 'a' followed by anything ending in 'b'.\n",
        "\n"
      ],
      "metadata": {
        "id": "K2vPe01bc2LN"
      }
    },
    {
      "cell_type": "code",
      "source": [
        "import re\n",
        "\n",
        "def match_pattern(input_string):\n",
        "    pattern = re.compile(\"a.*b$\")\n",
        "    match = pattern.search(input_string)\n",
        "    if match:\n",
        "        return True\n",
        "    else:\n",
        "        return False\n",
        "input_str = \"axyzb\"\n",
        "if match_pattern(input_str):\n",
        "    print(f'The string \"{input_str}\" matches the pattern.')\n",
        "else:\n",
        "    print(f'The string \"{input_str}\" does not match the pattern.')\n",
        "\n"
      ],
      "metadata": {
        "id": "f8KfX59qc3UJ",
        "colab": {
          "base_uri": "https://localhost:8080/"
        },
        "outputId": "6763a2e0-5cca-41ac-a814-097da1ff0742"
      },
      "execution_count": null,
      "outputs": [
        {
          "output_type": "stream",
          "name": "stdout",
          "text": [
            "The string \"axyzb\" matches the pattern.\n"
          ]
        }
      ]
    },
    {
      "cell_type": "markdown",
      "source": [
        "6. Write a Python program to search for numbers (0-9) of length between 1 and 3 in a given string."
      ],
      "metadata": {
        "id": "NyL-DhqXdZi7"
      }
    },
    {
      "cell_type": "code",
      "source": [
        "txt=\"Exercises number 1, 12, 13, and 345 are important\"\n",
        "import re\n",
        "\n",
        "def find_numbers(input_string):\n",
        "    pattern = re.compile(r'\\b\\d{1,3}\\b')\n",
        "    matches = pattern.findall(input_string)\n",
        "\n",
        "    return matches\n",
        "txt = \"Exercises number 1, 12, 13, and 345 are important\"\n",
        "result = find_numbers(txt)\n",
        "print(f'Numbers of length between 1 and 3 in the given string: {result}')\n",
        "\n"
      ],
      "metadata": {
        "id": "pWsu0HljdnKX",
        "colab": {
          "base_uri": "https://localhost:8080/"
        },
        "outputId": "4824b047-07ea-406b-f88b-8679b716ea00"
      },
      "execution_count": null,
      "outputs": [
        {
          "output_type": "stream",
          "name": "stdout",
          "text": [
            "Numbers of length between 1 and 3 in the given string: ['1', '12', '13', '345']\n"
          ]
        }
      ]
    },
    {
      "cell_type": "markdown",
      "source": [
        "7. Write a Python program to search for literal strings within a string.\\\n",
        "Sample text : 'The quick brown fox jumps over the lazy dog.' \\\n",
        "Searched words : 'fox', 'dog', 'horse'"
      ],
      "metadata": {
        "id": "aWaHWXFjdqy7"
      }
    },
    {
      "cell_type": "code",
      "source": [
        "def search_strings(text, searched_words):\n",
        "    found_words = [word for word in searched_words if word in text]\n",
        "    return found_words\n",
        "sample_text = 'The quick brown fox jumps over the lazy dog.'\n",
        "searched_words = ['fox', 'dog', 'horse']\n",
        "\n",
        "result = search_strings(sample_text, searched_words)\n",
        "\n",
        "print('Found words are', result)\n"
      ],
      "metadata": {
        "colab": {
          "base_uri": "https://localhost:8080/"
        },
        "id": "P0ders0j21JV",
        "outputId": "3b3f8585-dc19-4b6f-e4bd-83e32fa39e56"
      },
      "execution_count": null,
      "outputs": [
        {
          "output_type": "stream",
          "name": "stdout",
          "text": [
            "Found words are ['fox', 'dog']\n"
          ]
        }
      ]
    },
    {
      "cell_type": "markdown",
      "source": [
        "8. Write a Python program to search for a literal string in a string and also find the location within the original string where the pattern occurs.\n",
        "\n",
        "Sample text : 'The quick brown fox jumps over the lazy dog.' \\\n",
        "Searched words : 'fox'"
      ],
      "metadata": {
        "id": "2cgZLc6Yd0sE"
      }
    },
    {
      "cell_type": "code",
      "source": [
        "def search_string_location(text, searched_string):\n",
        "    location = text.find(searched_string)\n",
        "    return location\n",
        "sample_text = 'The quick brown fox jumps over the lazy dog.'\n",
        "searched_string = 'fox'\n",
        "\n",
        "location = search_string_location(sample_text, searched_string)\n",
        "if location != -1:\n",
        "    print(f'The string \"{searched_string}\" is found at index {location} in the original string.')\n",
        "else:\n",
        "    print(f'The string \"{searched_string}\" is not found in the original string.')\n"
      ],
      "metadata": {
        "id": "Tj1FCCx4d3zZ",
        "colab": {
          "base_uri": "https://localhost:8080/"
        },
        "outputId": "3f2cd40f-9faa-4c20-94ea-c578e4396722"
      },
      "execution_count": null,
      "outputs": [
        {
          "output_type": "stream",
          "name": "stdout",
          "text": [
            "The string \"fox\" is found at index 16 in the original string.\n"
          ]
        }
      ]
    },
    {
      "cell_type": "markdown",
      "source": [
        "9.  Write a Python program to extract year, month and date from an URL"
      ],
      "metadata": {
        "id": "ixuwdsnvdtcP"
      }
    },
    {
      "cell_type": "code",
      "source": [
        "url1= \"https://www.washingtonpost.com/news/football-insider/wp/2016/09/02/odell-beckhams-fame-rests-on-one-stupid-little-ball-josh-norman-tells-author/\"\n"
      ],
      "metadata": {
        "id": "uWA2_OfJeFpw"
      },
      "execution_count": null,
      "outputs": []
    },
    {
      "cell_type": "code",
      "source": [
        "import re\n",
        "\n",
        "def extract_date_from_url(url):\n",
        "    date_pattern = r'(\\d{4})/(\\d{2})/(\\d{2})'\n",
        "    match = re.search(date_pattern, url)\n",
        "    if match:\n",
        "        year, month, day = map(int, match.groups())\n",
        "        return year, month, day\n",
        "    else:\n",
        "        return None\n",
        "url1 = \"https://www.washingtonpost.com/news/football-insider/wp/2016/09/02/odell-beckhams-fame-rests-on-one-stupid-little-ball-josh-norman-tells-author/\"\n",
        "\n",
        "date_components = extract_date_from_url(url1)\n",
        "if date_components:\n",
        "    year, month, day = date_components\n",
        "    print(f\"Year: {year}, Month: {month}, Day: {day}\")\n",
        "else:\n",
        "    print(\"No date found in the URL.\")\n"
      ],
      "metadata": {
        "colab": {
          "base_uri": "https://localhost:8080/"
        },
        "id": "oswDNiNGotX-",
        "outputId": "02c600a6-db35-439e-d2fc-e300faca9a44"
      },
      "execution_count": null,
      "outputs": [
        {
          "output_type": "stream",
          "name": "stdout",
          "text": [
            "Year: 2016, Month: 9, Day: 2\n"
          ]
        }
      ]
    },
    {
      "cell_type": "markdown",
      "source": [
        "10. Write a Python program to find URLs in a string.\n",
        "\n"
      ],
      "metadata": {
        "id": "Qdob8Ojkea-W"
      }
    },
    {
      "cell_type": "code",
      "source": [
        "import re\n",
        "text = '<p>Contents :</p><a href=\"https://w3resource.com\">Python Examples</a><a href=\"http://github.com\">Even More Examples</a>'\n",
        "x=re.findall(r'\\bh\\S+',text)\n",
        "print(x)"
      ],
      "metadata": {
        "id": "d9KUcdQEeIJu",
        "outputId": "5556cf80-b556-4e45-cc48-0dfd586f3dfa",
        "colab": {
          "base_uri": "https://localhost:8080/"
        }
      },
      "execution_count": null,
      "outputs": [
        {
          "output_type": "stream",
          "name": "stdout",
          "text": [
            "['href=\"https://w3resource.com\">Python', 'href=\"http://github.com\">Even']\n"
          ]
        }
      ]
    },
    {
      "cell_type": "markdown",
      "source": [
        "11. Write a Python program to remove the parenthesis area in a string.\\\n",
        "\n",
        "Sample data : [\"example (.com)\", \"w3resource\", \"github (.com)\", \"stackoverflow (.com)\"] \\\n",
        "Expected Output: \\\n",
        "example  \\\n",
        "w3resource \\\n",
        "github  \\\n",
        "stackoverflow. \\\n",
        "\n"
      ],
      "metadata": {
        "id": "5mX_cCEFepSi"
      }
    },
    {
      "cell_type": "code",
      "source": [
        "import re\n",
        "data= [\"example (.com)\", \"w3resource\", \"github (.com)\", \"stackoverflow (.com)\"]\n",
        "for i in data:\n",
        "  n=r'\\s\\(\\.com\\)'\n",
        "  y=re.sub(n,'',i)\n",
        "\n",
        "\n",
        "\n",
        "  print(y)"
      ],
      "metadata": {
        "id": "CNYOSWfLee_M",
        "outputId": "ecbc2f4c-a6ec-4064-a380-e6a55c312693",
        "colab": {
          "base_uri": "https://localhost:8080/"
        }
      },
      "execution_count": null,
      "outputs": [
        {
          "output_type": "stream",
          "name": "stdout",
          "text": [
            "example\n",
            "w3resource\n",
            "github\n",
            "stackoverflow\n"
          ]
        }
      ]
    },
    {
      "cell_type": "markdown",
      "source": [
        "12. Write a Python program to concatenate the consecutive numbers in a given string. \\\n",
        "\n",
        "Original string:  \\\n",
        "Enter at 1 20 Kearny Street. The security desk can direct you to floor 1 6. Please have your identification ready.  \\\n",
        "\n",
        "After concatenating the consecutive numbers in the said string:  \\\n",
        "Enter at 120 Kearny Street. The security desk can direct you to floor 16. Please have your identification ready."
      ],
      "metadata": {
        "id": "sRhveFHXe7nz"
      }
    },
    {
      "cell_type": "code",
      "source": [
        "import re\n",
        "txt = 'Enter at 1 20 Kearny Street. The security desk can direct you to floor 1 6. Please have your identification ready.'\n",
        "\n",
        "x=re.sub(r'(\\d)\\s(\\d)',r'\\1\\2',txt)\n",
        "print(x)"
      ],
      "metadata": {
        "id": "4dcBL0RTe_zP",
        "colab": {
          "base_uri": "https://localhost:8080/"
        },
        "outputId": "4d243f5e-c572-4c85-8ff3-2597c0ba1de0"
      },
      "execution_count": null,
      "outputs": [
        {
          "output_type": "stream",
          "name": "stdout",
          "text": [
            "Enter at 120 Kearny Street. The security desk can direct you to floor 16. Please have your identification ready.\n"
          ]
        }
      ]
    },
    {
      "cell_type": "markdown",
      "source": [],
      "metadata": {
        "id": "rENrD10afBB3"
      }
    }
  ]
}