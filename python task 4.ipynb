{
 "cells": [
  {
   "cell_type": "markdown",
   "id": "9c78a784-e58d-4c51-b6f1-0531211d6a2f",
   "metadata": {},
   "source": [
    "Exercise 1: Create a function with a default argument\n",
    "Write a program to create a function show_employee() using the following conditions.\n",
    "1)It should accept the employee’s name and salary and display both.\n",
    "2)If the salary is missing in the function call then assign default value 9000 to salary\n"
   ]
  },
  {
   "cell_type": "code",
   "execution_count": 2,
   "id": "031bbbf2-ddd4-4baf-8300-d74d26b8ff05",
   "metadata": {},
   "outputs": [
    {
     "name": "stdout",
     "output_type": "stream",
     "text": [
      "Employee John has a salary of 10000\n",
      "Employee Jane has a salary of 9000\n"
     ]
    }
   ],
   "source": [
    "def show_employee(name, salary=9000):\n",
    "    print(f\"Employee {name} has a salary of {salary}\")\n",
    "\n",
    "\n",
    "# Example function calls\n",
    "show_employee(\"John\", 10000)  # Passing both name and salary\n",
    "show_employee(\"Jane\")  # Using default salary value\n"
   ]
  },
  {
   "cell_type": "code",
   "execution_count": 4,
   "id": "d67052de-7452-4aa6-a7bb-a69b818ebb9e",
   "metadata": {},
   "outputs": [
    {
     "name": "stdout",
     "output_type": "stream",
     "text": [
      "Employee jamie has a salary of 11000\n",
      "Employee jack has a salary of 9000\n"
     ]
    }
   ],
   "source": [
    "show_employee(\"jamie\",11000)\n",
    "show_employee(\"jack\")"
   ]
  },
  {
   "cell_type": "code",
   "execution_count": 5,
   "id": "ad3c7ca3-f220-4370-ae2a-34e7e4c419e0",
   "metadata": {},
   "outputs": [],
   "source": [
    "def showemployee(name,salary=9000):\n",
    "    print(f\"Employee {name} has a salary of {salary}\")"
   ]
  },
  {
   "cell_type": "code",
   "execution_count": 6,
   "id": "ff7f3eb9-ab64-401c-9bb0-ad7cd5dcca62",
   "metadata": {},
   "outputs": [
    {
     "name": "stdout",
     "output_type": "stream",
     "text": [
      "Employee jack has a salary of 12000\n",
      "Employee jen has a salary of 9000\n"
     ]
    }
   ],
   "source": [
    "showemployee(\"jack\",salary=12000)\n",
    "showemployee(\"jen\")"
   ]
  },
  {
   "cell_type": "markdown",
   "id": "72b737b9-e5b9-47e4-9d90-8d25ba74f7c6",
   "metadata": {},
   "source": [
    "Exercise 2: Create an inner function to calculate the addition in the following way\n",
    "1)Create an outer function that will accept two parameters, a and b\n",
    "2)Create an inner function inside an outer function that will calculate the addition of a and b\n",
    "3)At last, an outer function will add 5 into addition and return it\n",
    "\n",
    "\n",
    "\n"
   ]
  },
  {
   "cell_type": "code",
   "execution_count": 28,
   "id": "132748ed-9a23-489d-9f45-51e6a1d3c951",
   "metadata": {},
   "outputs": [
    {
     "name": "stdout",
     "output_type": "stream",
     "text": [
      "Result 12\n"
     ]
    }
   ],
   "source": [
    "def outerfunction(a,b):\n",
    "    def innerfunction(x,y):\n",
    "        return x+y\n",
    "        addition = innerfunction(a,b)\n",
    "        result = addition + 5\n",
    "        return result\n",
    "result = outer_function(3,4)\n",
    "print(\"Result\", result)\n"
   ]
  },
  {
   "cell_type": "markdown",
   "id": "46139618-4d13-461a-ba49-33b46ab56362",
   "metadata": {},
   "source": [
    "Exercise 3: Generate a Python list of all the even numbers between 4 to 30"
   ]
  },
  {
   "cell_type": "code",
   "execution_count": 35,
   "id": "0d59c216-5d77-44be-91a5-bb464d1b63d4",
   "metadata": {},
   "outputs": [
    {
     "name": "stdout",
     "output_type": "stream",
     "text": [
      "List of even numbers between 4&31: [4, 6, 8, 10, 12, 14, 16, 18, 20, 22, 24, 26, 28, 30]\n"
     ]
    }
   ],
   "source": [
    "Even_numbers=[x for x in range(4,31) if x%2 == 0]\n",
    "print(\"List of even numbers between 4&31:\",Even_numbers)"
   ]
  },
  {
   "cell_type": "markdown",
   "id": "8650ee57-bc4f-4a58-bc5a-1f01bdf6fcf1",
   "metadata": {},
   "source": [
    "Exercise 4: Lambda Function to Check if value is in a List\n",
    "Given a list, the task is to write a Python program to check if the value exists in the list or not using the lambda function.\n",
    "\n",
    "\n",
    "Input  : L = [1, 2, 3, 4, 5]\n",
    "          element = 4\n",
    "Output :  Element is Present in the list\n",
    "\n",
    "Input :  L = [1, 2, 3, 4, 5]\n",
    "          element = 8\n",
    "Output :  Element is NOT Present in the list\n"
   ]
  },
  {
   "cell_type": "code",
   "execution_count": 36,
   "id": "d1cead5e-2bae-4c8e-8a9a-2c2f0e46a3c2",
   "metadata": {},
   "outputs": [
    {
     "name": "stdout",
     "output_type": "stream",
     "text": [
      "Element is Present in the list\n",
      "Element is NOT Present in the list\n"
     ]
    }
   ],
   "source": [
    "# Function to check if the element is present in the list using a lambda function\n",
    "check_presence = lambda L, element: \"Element is Present in the list\" if element in L else \"Element is NOT Present in the list\"\n",
    "\n",
    "# Example inputs\n",
    "L1 = [1, 2, 3, 4, 5]\n",
    "element1 = 4\n",
    "print(check_presence(L1, element1))\n",
    "\n",
    "L2 = [1, 2, 3, 4, 5]\n",
    "element2 = 8\n",
    "print(check_presence(L2, element2))\n"
   ]
  },
  {
   "cell_type": "code",
   "execution_count": 38,
   "id": "f13b263a-2db1-4aea-babb-5b554611a7d1",
   "metadata": {},
   "outputs": [
    {
     "name": "stdout",
     "output_type": "stream",
     "text": [
      "Element is Present in the list\n"
     ]
    }
   ],
   "source": [
    "L1 = [1, 2, 3, 4, 5]\n",
    "element1 = 4\n",
    "print(check_presence(L1, element1))\n"
   ]
  },
  {
   "cell_type": "code",
   "execution_count": 40,
   "id": "b6021eb1-9527-4415-b2f7-4e160fc58594",
   "metadata": {},
   "outputs": [
    {
     "name": "stdout",
     "output_type": "stream",
     "text": [
      "Element is NOT Present in the list\n"
     ]
    }
   ],
   "source": [
    "L1\n",
    "element1 = 6\n",
    "print(check_presence(L1, element1))"
   ]
  },
  {
   "cell_type": "code",
   "execution_count": 41,
   "id": "aef41560-c984-4c05-9ad7-24327a41e4e5",
   "metadata": {},
   "outputs": [
    {
     "name": "stdout",
     "output_type": "stream",
     "text": [
      "Element is present in the list\n"
     ]
    }
   ],
   "source": [
    "checkvalue = lambda L,element: \"Element is present in the list\" if element in L else \"Element is not present in the list\"\n",
    "L1 = [1,2,3,4,5]\n",
    "element1 = 4\n",
    "print(checkvalue(L1, element1))"
   ]
  },
  {
   "cell_type": "markdown",
   "id": "9b930629-36f2-4dad-ac2f-17e0107a16d5",
   "metadata": {},
   "source": [
    "Exercise 5: Sort list of tuples with their sum\n",
    "Sort the points based on their sum of elements in the tuples\n",
    "\n",
    "points = [(1, 2), (5, 3), (0, 7), (3, 1)]\n"
   ]
  },
  {
   "cell_type": "code",
   "execution_count": 43,
   "id": "ca894958-80ab-49a2-b527-bb1cd3bfc2fb",
   "metadata": {},
   "outputs": [],
   "source": [
    "points = [(1,2),(5,3),(0,7),(3,1)]\n",
    "sorted_elements = sorted(points, key = lambda x:sum(x))\n"
   ]
  },
  {
   "cell_type": "code",
   "execution_count": 44,
   "id": "e1680ac5-47d1-4e5e-83f4-f8fcebbade07",
   "metadata": {},
   "outputs": [
    {
     "name": "stdout",
     "output_type": "stream",
     "text": [
      "Sorted list of elements in tuple based on their sum: [(1, 2), (3, 1), (0, 7), (5, 3)]\n"
     ]
    }
   ],
   "source": [
    "print(\"Sorted list of elements in tuple based on their sum:\",sorted_elements)"
   ]
  },
  {
   "cell_type": "markdown",
   "id": "3fc2ee7f-80dd-4f38-9d92-d1902497da24",
   "metadata": {},
   "source": [
    "Exercise 6 :\n",
    "Write a python function, which will find all such numbers between 1000 and 3000 (both included) such that each digit of the number is an even number. Return the results as a list\n",
    "\n"
   ]
  },
  {
   "cell_type": "code",
   "execution_count": 46,
   "id": "86e0f01d-8801-402f-a0fc-901c87c068ce",
   "metadata": {},
   "outputs": [
    {
     "name": "stdout",
     "output_type": "stream",
     "text": [
      "List of numbers between 1000&3000: [1000, 1002, 1004, 1006, 1008, 1010, 1012, 1014, 1016, 1018, 1020, 1022, 1024, 1026, 1028, 1030, 1032, 1034, 1036, 1038, 1040, 1042, 1044, 1046, 1048, 1050, 1052, 1054, 1056, 1058, 1060, 1062, 1064, 1066, 1068, 1070, 1072, 1074, 1076, 1078, 1080, 1082, 1084, 1086, 1088, 1090, 1092, 1094, 1096, 1098, 1100, 1102, 1104, 1106, 1108, 1110, 1112, 1114, 1116, 1118, 1120, 1122, 1124, 1126, 1128, 1130, 1132, 1134, 1136, 1138, 1140, 1142, 1144, 1146, 1148, 1150, 1152, 1154, 1156, 1158, 1160, 1162, 1164, 1166, 1168, 1170, 1172, 1174, 1176, 1178, 1180, 1182, 1184, 1186, 1188, 1190, 1192, 1194, 1196, 1198, 1200, 1202, 1204, 1206, 1208, 1210, 1212, 1214, 1216, 1218, 1220, 1222, 1224, 1226, 1228, 1230, 1232, 1234, 1236, 1238, 1240, 1242, 1244, 1246, 1248, 1250, 1252, 1254, 1256, 1258, 1260, 1262, 1264, 1266, 1268, 1270, 1272, 1274, 1276, 1278, 1280, 1282, 1284, 1286, 1288, 1290, 1292, 1294, 1296, 1298, 1300, 1302, 1304, 1306, 1308, 1310, 1312, 1314, 1316, 1318, 1320, 1322, 1324, 1326, 1328, 1330, 1332, 1334, 1336, 1338, 1340, 1342, 1344, 1346, 1348, 1350, 1352, 1354, 1356, 1358, 1360, 1362, 1364, 1366, 1368, 1370, 1372, 1374, 1376, 1378, 1380, 1382, 1384, 1386, 1388, 1390, 1392, 1394, 1396, 1398, 1400, 1402, 1404, 1406, 1408, 1410, 1412, 1414, 1416, 1418, 1420, 1422, 1424, 1426, 1428, 1430, 1432, 1434, 1436, 1438, 1440, 1442, 1444, 1446, 1448, 1450, 1452, 1454, 1456, 1458, 1460, 1462, 1464, 1466, 1468, 1470, 1472, 1474, 1476, 1478, 1480, 1482, 1484, 1486, 1488, 1490, 1492, 1494, 1496, 1498, 1500, 1502, 1504, 1506, 1508, 1510, 1512, 1514, 1516, 1518, 1520, 1522, 1524, 1526, 1528, 1530, 1532, 1534, 1536, 1538, 1540, 1542, 1544, 1546, 1548, 1550, 1552, 1554, 1556, 1558, 1560, 1562, 1564, 1566, 1568, 1570, 1572, 1574, 1576, 1578, 1580, 1582, 1584, 1586, 1588, 1590, 1592, 1594, 1596, 1598, 1600, 1602, 1604, 1606, 1608, 1610, 1612, 1614, 1616, 1618, 1620, 1622, 1624, 1626, 1628, 1630, 1632, 1634, 1636, 1638, 1640, 1642, 1644, 1646, 1648, 1650, 1652, 1654, 1656, 1658, 1660, 1662, 1664, 1666, 1668, 1670, 1672, 1674, 1676, 1678, 1680, 1682, 1684, 1686, 1688, 1690, 1692, 1694, 1696, 1698, 1700, 1702, 1704, 1706, 1708, 1710, 1712, 1714, 1716, 1718, 1720, 1722, 1724, 1726, 1728, 1730, 1732, 1734, 1736, 1738, 1740, 1742, 1744, 1746, 1748, 1750, 1752, 1754, 1756, 1758, 1760, 1762, 1764, 1766, 1768, 1770, 1772, 1774, 1776, 1778, 1780, 1782, 1784, 1786, 1788, 1790, 1792, 1794, 1796, 1798, 1800, 1802, 1804, 1806, 1808, 1810, 1812, 1814, 1816, 1818, 1820, 1822, 1824, 1826, 1828, 1830, 1832, 1834, 1836, 1838, 1840, 1842, 1844, 1846, 1848, 1850, 1852, 1854, 1856, 1858, 1860, 1862, 1864, 1866, 1868, 1870, 1872, 1874, 1876, 1878, 1880, 1882, 1884, 1886, 1888, 1890, 1892, 1894, 1896, 1898, 1900, 1902, 1904, 1906, 1908, 1910, 1912, 1914, 1916, 1918, 1920, 1922, 1924, 1926, 1928, 1930, 1932, 1934, 1936, 1938, 1940, 1942, 1944, 1946, 1948, 1950, 1952, 1954, 1956, 1958, 1960, 1962, 1964, 1966, 1968, 1970, 1972, 1974, 1976, 1978, 1980, 1982, 1984, 1986, 1988, 1990, 1992, 1994, 1996, 1998, 2000, 2002, 2004, 2006, 2008, 2010, 2012, 2014, 2016, 2018, 2020, 2022, 2024, 2026, 2028, 2030, 2032, 2034, 2036, 2038, 2040, 2042, 2044, 2046, 2048, 2050, 2052, 2054, 2056, 2058, 2060, 2062, 2064, 2066, 2068, 2070, 2072, 2074, 2076, 2078, 2080, 2082, 2084, 2086, 2088, 2090, 2092, 2094, 2096, 2098, 2100, 2102, 2104, 2106, 2108, 2110, 2112, 2114, 2116, 2118, 2120, 2122, 2124, 2126, 2128, 2130, 2132, 2134, 2136, 2138, 2140, 2142, 2144, 2146, 2148, 2150, 2152, 2154, 2156, 2158, 2160, 2162, 2164, 2166, 2168, 2170, 2172, 2174, 2176, 2178, 2180, 2182, 2184, 2186, 2188, 2190, 2192, 2194, 2196, 2198, 2200, 2202, 2204, 2206, 2208, 2210, 2212, 2214, 2216, 2218, 2220, 2222, 2224, 2226, 2228, 2230, 2232, 2234, 2236, 2238, 2240, 2242, 2244, 2246, 2248, 2250, 2252, 2254, 2256, 2258, 2260, 2262, 2264, 2266, 2268, 2270, 2272, 2274, 2276, 2278, 2280, 2282, 2284, 2286, 2288, 2290, 2292, 2294, 2296, 2298, 2300, 2302, 2304, 2306, 2308, 2310, 2312, 2314, 2316, 2318, 2320, 2322, 2324, 2326, 2328, 2330, 2332, 2334, 2336, 2338, 2340, 2342, 2344, 2346, 2348, 2350, 2352, 2354, 2356, 2358, 2360, 2362, 2364, 2366, 2368, 2370, 2372, 2374, 2376, 2378, 2380, 2382, 2384, 2386, 2388, 2390, 2392, 2394, 2396, 2398, 2400, 2402, 2404, 2406, 2408, 2410, 2412, 2414, 2416, 2418, 2420, 2422, 2424, 2426, 2428, 2430, 2432, 2434, 2436, 2438, 2440, 2442, 2444, 2446, 2448, 2450, 2452, 2454, 2456, 2458, 2460, 2462, 2464, 2466, 2468, 2470, 2472, 2474, 2476, 2478, 2480, 2482, 2484, 2486, 2488, 2490, 2492, 2494, 2496, 2498, 2500, 2502, 2504, 2506, 2508, 2510, 2512, 2514, 2516, 2518, 2520, 2522, 2524, 2526, 2528, 2530, 2532, 2534, 2536, 2538, 2540, 2542, 2544, 2546, 2548, 2550, 2552, 2554, 2556, 2558, 2560, 2562, 2564, 2566, 2568, 2570, 2572, 2574, 2576, 2578, 2580, 2582, 2584, 2586, 2588, 2590, 2592, 2594, 2596, 2598, 2600, 2602, 2604, 2606, 2608, 2610, 2612, 2614, 2616, 2618, 2620, 2622, 2624, 2626, 2628, 2630, 2632, 2634, 2636, 2638, 2640, 2642, 2644, 2646, 2648, 2650, 2652, 2654, 2656, 2658, 2660, 2662, 2664, 2666, 2668, 2670, 2672, 2674, 2676, 2678, 2680, 2682, 2684, 2686, 2688, 2690, 2692, 2694, 2696, 2698, 2700, 2702, 2704, 2706, 2708, 2710, 2712, 2714, 2716, 2718, 2720, 2722, 2724, 2726, 2728, 2730, 2732, 2734, 2736, 2738, 2740, 2742, 2744, 2746, 2748, 2750, 2752, 2754, 2756, 2758, 2760, 2762, 2764, 2766, 2768, 2770, 2772, 2774, 2776, 2778, 2780, 2782, 2784, 2786, 2788, 2790, 2792, 2794, 2796, 2798, 2800, 2802, 2804, 2806, 2808, 2810, 2812, 2814, 2816, 2818, 2820, 2822, 2824, 2826, 2828, 2830, 2832, 2834, 2836, 2838, 2840, 2842, 2844, 2846, 2848, 2850, 2852, 2854, 2856, 2858, 2860, 2862, 2864, 2866, 2868, 2870, 2872, 2874, 2876, 2878, 2880, 2882, 2884, 2886, 2888, 2890, 2892, 2894, 2896, 2898, 2900, 2902, 2904, 2906, 2908, 2910, 2912, 2914, 2916, 2918, 2920, 2922, 2924, 2926, 2928, 2930, 2932, 2934, 2936, 2938, 2940, 2942, 2944, 2946, 2948, 2950, 2952, 2954, 2956, 2958, 2960, 2962, 2964, 2966, 2968, 2970, 2972, 2974, 2976, 2978, 2980, 2982, 2984, 2986, 2988, 2990, 2992, 2994, 2996, 2998, 3000]\n"
     ]
    }
   ],
   "source": [
    "Numbers_inbetween=[x for x in range(1000,3001) if x%2 ==0]\n",
    "print(\"List of numbers between 1000&3000:\",Numbers_inbetween)"
   ]
  },
  {
   "cell_type": "code",
   "execution_count": 62,
   "id": "49b04839-2e3a-4bba-8071-a1518731275a",
   "metadata": {},
   "outputs": [
    {
     "name": "stdout",
     "output_type": "stream",
     "text": [
      "Numbers between 1000 and 3000 with all even digits: [2000, 2002, 2004, 2006, 2008, 2020, 2022, 2024, 2026, 2028, 2040, 2042, 2044, 2046, 2048, 2060, 2062, 2064, 2066, 2068, 2080, 2082, 2084, 2086, 2088, 2200, 2202, 2204, 2206, 2208, 2220, 2222, 2224, 2226, 2228, 2240, 2242, 2244, 2246, 2248, 2260, 2262, 2264, 2266, 2268, 2280, 2282, 2284, 2286, 2288, 2400, 2402, 2404, 2406, 2408, 2420, 2422, 2424, 2426, 2428, 2440, 2442, 2444, 2446, 2448, 2460, 2462, 2464, 2466, 2468, 2480, 2482, 2484, 2486, 2488, 2600, 2602, 2604, 2606, 2608, 2620, 2622, 2624, 2626, 2628, 2640, 2642, 2644, 2646, 2648, 2660, 2662, 2664, 2666, 2668, 2680, 2682, 2684, 2686, 2688, 2800, 2802, 2804, 2806, 2808, 2820, 2822, 2824, 2826, 2828, 2840, 2842, 2844, 2846, 2848, 2860, 2862, 2864, 2866, 2868, 2880, 2882, 2884, 2886, 2888]\n"
     ]
    }
   ],
   "source": [
    "def find_even_digit_numbers():\n",
    "    result = []\n",
    "    for num in range(1000, 3001):\n",
    "        digits = [int(digit) for digit in str(num)]\n",
    "        if all(digit % 2 == 0 for digit in digits):\n",
    "            result.append(num)\n",
    "    return result\n",
    "\n",
    "# Call the function and print the results\n",
    "even_digit_numbers = find_even_digit_numbers()\n",
    "print(\"Numbers between 1000 and 3000 with all even digits:\", even_digit_numbers)\n",
    "    "
   ]
  },
  {
   "cell_type": "code",
   "execution_count": 66,
   "id": "23b5435a-c747-4d0e-be0a-43784479211d",
   "metadata": {},
   "outputs": [
    {
     "name": "stdout",
     "output_type": "stream",
     "text": [
      "numbers between 1000 and 3000 with all even digit: [2000, 2002, 2004, 2006, 2008, 2020, 2022, 2024, 2026, 2028, 2040, 2042, 2044, 2046, 2048, 2060, 2062, 2064, 2066, 2068, 2080, 2082, 2084, 2086, 2088, 2200, 2202, 2204, 2206, 2208, 2220, 2222, 2224, 2226, 2228, 2240, 2242, 2244, 2246, 2248, 2260, 2262, 2264, 2266, 2268, 2280, 2282, 2284, 2286, 2288, 2400, 2402, 2404, 2406, 2408, 2420, 2422, 2424, 2426, 2428, 2440, 2442, 2444, 2446, 2448, 2460, 2462, 2464, 2466, 2468, 2480, 2482, 2484, 2486, 2488, 2600, 2602, 2604, 2606, 2608, 2620, 2622, 2624, 2626, 2628, 2640, 2642, 2644, 2646, 2648, 2660, 2662, 2664, 2666, 2668, 2680, 2682, 2684, 2686, 2688, 2800, 2802, 2804, 2806, 2808, 2820, 2822, 2824, 2826, 2828, 2840, 2842, 2844, 2846, 2848, 2860, 2862, 2864, 2866, 2868, 2880, 2882, 2884, 2886, 2888]\n"
     ]
    }
   ],
   "source": [
    "def evendigit():\n",
    "    result = []\n",
    "    for num in range(1000,3001):\n",
    "        digits = [int(digit) for digit in str(num)]\n",
    "        if all (digit % 2 == 0 for digit in digits):\n",
    "            result.append(num)\n",
    "    return result\n",
    "even_digit_numbers = evendigit()\n",
    "print(\"numbers between 1000 and 3000 with all even digit:\",even_digit_numbers)\n",
    "            "
   ]
  },
  {
   "cell_type": "markdown",
   "id": "6f62ec5a-2014-42c3-acb7-e4040b637139",
   "metadata": {},
   "source": [
    "Exercise 7 :\n",
    "Write a python function that accepts a sentence and calculate and return the number of letters and digits.\n",
    "Suppose the following input is supplied to the program:\n",
    "hello world! 123\n",
    "Then, the output should be:\n",
    "LETTERS 10\n",
    "DIGITS 3\n"
   ]
  },
  {
   "cell_type": "code",
   "execution_count": 78,
   "id": "b53d636a-68f3-441d-8416-1add517db89e",
   "metadata": {},
   "outputs": [
    {
     "name": "stdout",
     "output_type": "stream",
     "text": [
      "Number of letters: 9\n",
      "Number of digits:6\n"
     ]
    }
   ],
   "source": [
    "def countletters(sentence):\n",
    "    lettercount = 0\n",
    "    digitcount = 0\n",
    "    for char in sentence:\n",
    "        if char.isalpha():\n",
    "            lettercount += 1\n",
    "        elif char.isdigit():\n",
    "            digitcount += 1\n",
    "    return lettercount,digitcount\n",
    "sentence = \"Hello WRLD 123567\"\n",
    "result = countletters(sentence)\n",
    "print(f\"Number of letters: {result[0]}\\nNumber of digits:{result[1]}\")"
   ]
  },
  {
   "cell_type": "raw",
   "id": "6df5db61-94e0-43e9-a783-7060eb39b43a",
   "metadata": {},
   "source": [
    "Exercise 8  MAP: \n",
    "Write a Python program to convert all the characters into uppercase and lowercase and eliminate duplicate letters from a given sequence. Use the map() function\n"
   ]
  },
  {
   "cell_type": "code",
   "execution_count": 8,
   "id": "d55969c8-c27b-46aa-a16b-ec1f4359aae9",
   "metadata": {},
   "outputs": [
    {
     "name": "stdout",
     "output_type": "stream",
     "text": [
      "original sequence: Hi This iS A teST meSsage!\n",
      "Uppercased sequence: HI THIS IS A TEST MESSAGE!\n",
      "Lowercased sequence: hi this is a test message!\n",
      "Unique characters: Tm!iagtS seHAh\n"
     ]
    }
   ],
   "source": [
    "def process_sequence(sequence):\n",
    "    uppercased = list(map(str.upper,sequence))\n",
    "    lowercased = list(map(str.lower,sequence))\n",
    "    uniquecharacters = list(set(sequence))\n",
    "    return uppercased,lowercased,uniquecharacters\n",
    "inputsequence = \"Hi This iS A teST meSsage\"\n",
    "resultupper,resultlower,resultunique = process_sequence(inputsequence)\n",
    "print(\"original sequence:\",inputsequence)\n",
    "print(\"Uppercased sequence:\",''.join(resultupper))\n",
    "print(\"Lowercased sequence:\",''.join(resultlower))\n",
    "print(\"Unique characters:\",''.join(resultunique))\n",
    "      "
   ]
  },
  {
   "cell_type": "markdown",
   "id": "4b15e088-b435-421f-a1a9-d66fb98b58cf",
   "metadata": {},
   "source": [
    "Exercise 9 MAP: \n",
    " Write a Python program to add two given lists and find the difference between them. Use the map() function\n"
   ]
  },
  {
   "cell_type": "code",
   "execution_count": 31,
   "id": "8f7e690a-c4af-43c3-8ff4-5c4dda2577f3",
   "metadata": {},
   "outputs": [
    {
     "name": "stdout",
     "output_type": "stream",
     "text": [
      "Sum of corresponding elements: [26, 28, 30, 32, 34, 36]\n",
      "Difference of corresponding element: [6, 6, 6, 6, 6, 6]\n"
     ]
    }
   ],
   "source": [
    "List1 = [10,11,12,13,14,15]\n",
    "List2 = [16,17,18,19,20,21]\n",
    "def addlists(List1,List2):\n",
    "    sumresult = list(map(lambda x,y:x+y, List1, List2))\n",
    "    diffresult = list(map(lambda x, y:y-x,List1,List2))\n",
    "    return sumresult,diffresult\n",
    "sumresult,diffresult = addlists(List1,List2)\n",
    "print(\"Sum of corresponding elements:\",sumresult)\n",
    "print(\"Difference of corresponding element:\",diffresult)\n"
   ]
  },
  {
   "cell_type": "markdown",
   "id": "1aec40ce-1261-455d-a112-0fdfa5c6acba",
   "metadata": {},
   "source": [
    "Excersice 10:Write a Python program to filter the height and weight of students, which are stored in a dictionary using lambda.\n",
    "Original Dictionary:\n",
    "{'Cierra Vega': (6.2, 71), 'Alden Cantrell': (5.9, 65), 'Kierra Gentry': (6.0, 68), 'Pierre Cox': (5.8, 66)}\n",
    "Filtered dictionary:\n",
    "Height> 6ft and Weight> 70kg:\n"
   ]
  },
  {
   "cell_type": "code",
   "execution_count": 4,
   "id": "8e7742f6-9ca8-498c-8df2-a428cb5b07d7",
   "metadata": {},
   "outputs": [
    {
     "name": "stdout",
     "output_type": "stream",
     "text": [
      "original dictionary:\n",
      "{'Cierra Vega': (6.2, 71), 'Alden Cantrell': (5.9, 65), 'Kierra Gentry': (6.0, 68), 'Pierre Cox': (5.8, 66)}\n",
      "\n",
      "Height>6ft and weight > 70kg:\n",
      "{'Cierra Vega': (6.2, 71)}\n"
     ]
    }
   ],
   "source": [
    "student_data = {'Cierra Vega': (6.2, 71), 'Alden Cantrell': (5.9, 65), 'Kierra Gentry': (6.0, 68), 'Pierre Cox': (5.8, 66)}\n",
    "filtered_students = dict(filter(lambda item: item[1][0] > 6.0 and item [1][1]>70,student_data.items()))\n",
    "print(\"original dictionary:\")\n",
    "print(student_data)\n",
    "print(\"\\nHeight>6ft and weight > 70kg:\")\n",
    "print(filtered_students)"
   ]
  },
  {
   "cell_type": "markdown",
   "id": "22cec278-5ece-4e77-b42c-0c6f4216c3b8",
   "metadata": {},
   "source": [
    "Exercise 11 Filter: \n",
    "Write a Python program to remove all elements from a given list present in another list using lambda.\n",
    "Original lists:\n",
    "list1: [1, 2, 3, 4, 5, 6, 7, 8, 9, 10]\n",
    "list2: [2, 4, 6, 8]\n",
    "Remove all elements from 'list1' present in 'list2:\n",
    "[1, 3, 5, 7, 9, 10]\n"
   ]
  },
  {
   "cell_type": "code",
   "execution_count": 21,
   "id": "4095af80-50a9-477d-be74-e8c8f2470e79",
   "metadata": {},
   "outputs": [
    {
     "name": "stdout",
     "output_type": "stream",
     "text": [
      "original list1: [1, 2, 3, 4, 5, 6, 7, 8, 9, 10]\n",
      "original list2: [2, 4, 6, 8]\n",
      "After removing the elements present in list 1 from list2: [1, 3, 5, 7, 9, 10]\n",
      "Filtered_list: [1, 3, 5, 7, 9, 10]\n"
     ]
    }
   ],
   "source": [
    "def remove_elements(list1,list2):\n",
    "    result = list(filter(lambda x:x not in list2,list1))\n",
    "    return result\n",
    "\n",
    "list1 = [1, 2, 3, 4, 5, 6, 7, 8, 9, 10]\n",
    "list2 = [2, 4, 6, 8]\n",
    "\n",
    "print(\"original list1:\",list1)\n",
    "print(\"original list2:\",list2)\n",
    "\n",
    "filteredlist1 = remove_elements(list1,list2)\n",
    "print(\"After removing the elements present in list 1 from list2:\",filteredlist1)\n",
    "print(\"Filtered_list:\",filteredlist1)\n",
    "\n",
    "    \n",
    "                         "
   ]
  },
  {
   "cell_type": "markdown",
   "id": "212da1e8-843f-48f7-a007-eeb8bc2d9845",
   "metadata": {},
   "source": [
    "Exercise 12 Reduce: \n",
    "\r\n",
    "Write a Python program to calculate the product of a given list of numbers using lambda.\r\n",
    "list1: [1, 2, 3, 4, 5, 6, 7, 8, 9, 10]\r\n"
   ]
  },
  {
   "cell_type": "code",
   "execution_count": 25,
   "id": "2181c770-caa7-4304-b8f2-470dccdc64ab",
   "metadata": {},
   "outputs": [
    {
     "name": "stdout",
     "output_type": "stream",
     "text": [
      "Original list: [1, 2, 3, 4, 5, 6, 7, 8, 9, 10]\n",
      "Product of the said numbers: 3628800\n"
     ]
    }
   ],
   "source": [
    "list1: [1, 2, 3, 4, 5, 6, 7, 8, 9, 10]\n",
    "\n",
    "import functools\n",
    "\n",
    "def calculate_product(nums):\n",
    "    result = functools.reduce(lambda x,y:x*y,nums,1)\n",
    "    return result\n",
    "    \n",
    "print(\"Original list:\",list1)\n",
    "print(\"Product of the said numbers:\",calculate_product(list1))"
   ]
  },
  {
   "cell_type": "markdown",
   "id": "07600fb0-8ce8-40de-99b8-1f6cb3d16967",
   "metadata": {},
   "source": [
    "Exercise 13 Reduce: \n",
    "\n",
    "\n",
    " Write a Python program to multiply all the numbers in a given list using lambda.\n",
    "Original list:\n",
    "[4, 3, 2, 2, -1, 18]\n"
   ]
  },
  {
   "cell_type": "code",
   "execution_count": 30,
   "id": "2bf92b3b-0a99-4b35-a88b-6538014f1cc8",
   "metadata": {},
   "outputs": [
    {
     "name": "stdout",
     "output_type": "stream",
     "text": [
      "original list: [4, 3, 2, 2, -1, 18]\n",
      "Multiplication result: -864\n"
     ]
    }
   ],
   "source": [
    "list1 = [4, 3, 2, 2, -1, 18]\n",
    "import functools\n",
    "result = functools.reduce(lambda x,y:x*y,list1)\n",
    "print(\"original list:\", list1)\n",
    "print(\"Multiplication result:\",result)\n"
   ]
  },
  {
   "cell_type": "markdown",
   "id": "e4ce3457-cf34-48a5-813f-2d6468007cf4",
   "metadata": {},
   "source": [
    "Exercise 14 Reduce: \n",
    "Write a Python program to calculate the average value of the numbers in a given tuple of tuples using lambda.\n",
    "Original Tuple:\n",
    "((10, 10, 10), (30, 45, 56), (81, 80, 39), (1, 2, 3))\n"
   ]
  },
  {
   "cell_type": "code",
   "execution_count": 35,
   "id": "f1672e63-2367-4cf2-9886-e670c1d2a644",
   "metadata": {},
   "outputs": [
    {
     "name": "stdout",
     "output_type": "stream",
     "text": [
      "original tuple:\n",
      "((10, 10, 10), (30, 45, 56), (81, 80, 39), (1, 2, 3))\n",
      "\n",
      " Average Result:\n",
      "(30.5, 34.25, 27.0)\n"
     ]
    }
   ],
   "source": [
    "import functools\n",
    "original_tuple = ((10, 10, 10), (30, 45, 56), (81, 80, 39), (1, 2, 3))\n",
    "average_result = reduce(lambda x,y:(x[0] + y[0],x[1] + y[1],x[2] + y[2]), original_tuple)\n",
    "num_tuples = len(original_tuple)\n",
    "\n",
    "average_result = (average_result[0]/num_tuples, average_result[1]/num_tuples,average_result[2]/num_tuples)\n",
    "\n",
    "print(\"original tuple:\")\n",
    "print(original_tuple)\n",
    "print(\"\\n Average Result:\")\n",
    "print(average_result)"
   ]
  },
  {
   "cell_type": "markdown",
   "id": "91e32bdb-9b92-473f-bd44-7aed382583fd",
   "metadata": {},
   "source": [
    "Exercise 15: \r\n",
    "\r\n",
    "Write a Python program to sort a given mixed list of integers and strings using lambda. Numbers must be sorted before strings.\r\n",
    "Original list:\r\n",
    "[19, 'red', 12, 'green', 'blue', 10, 'white', 'green', 1]\r\n",
    "Sort the said mixed list of integers and strings:\r\n",
    "[1, 10, 12, 19, 'blue', 'green', 'green', 'red', 'white']\r\n"
   ]
  },
  {
   "cell_type": "code",
   "execution_count": 41,
   "id": "b0bb3ab7-a911-4fcb-8511-4327b32362d1",
   "metadata": {},
   "outputs": [
    {
     "name": "stdout",
     "output_type": "stream",
     "text": [
      "original list:\n",
      "[19, 'red', 12, 'green', 'blue', 10, 'white', 'green', 1]\n",
      "\n",
      " sorted list(Numbers first, then strings):\n",
      "[1, 10, 12, 19, 'blue', 'green', 'green', 'red', 'white']\n"
     ]
    }
   ],
   "source": [
    "def sorted_mixlist(mixed_list):\n",
    "    mixed_list.sort(key=lambda x:(isinstance(x,str),x))\n",
    "    return mixed_list\n",
    "original_list = [19, 'red', 12, 'green', 'blue', 10, 'white', 'green', 1]\n",
    "print(\"original list:\")\n",
    "print(original_list)\n",
    "sorted_list = sorted_mixlist(original_list)\n",
    "print(\"\\n sorted list(Numbers first, then strings):\")\n",
    "print(sorted_list)"
   ]
  },
  {
   "cell_type": "markdown",
   "id": "f6e4e782-2f8e-4364-8fd6-39edf69c6dc4",
   "metadata": {},
   "source": [
    "Exercise 16: \n",
    "Write a Python program to count the occurrences of items in a given list using lambda.\n",
    "Original list:\n",
    "[3, 4, 5, 8, 0, 3, 8, 5, 0, 3, 1, 5, 2, 3, 4, 2]\n"
   ]
  },
  {
   "cell_type": "code",
   "execution_count": 51,
   "id": "3385a147-21db-456d-aa71-64ec886d0b9a",
   "metadata": {},
   "outputs": [
    {
     "name": "stdout",
     "output_type": "stream",
     "text": [
      "Original list:\n",
      "[3, 4, 5, 8, 0, 3, 8, 5, 0, 3, 1, 5, 2, 3, 4, 2]\n",
      "\n",
      "Occurrences:\n",
      "{3: 4, 4: 2, 5: 3, 8: 2, 0: 2, 1: 1, 2: 2}\n"
     ]
    }
   ],
   "source": [
    "# Original list\n",
    "original_list = [3, 4, 5, 8, 0, 3, 8, 5, 0, 3, 1, 5, 2, 3, 4, 2]\n",
    "\n",
    "# Use dictionary with lambda to count occurrences\n",
    "occurrences = {}\n",
    "\n",
    "# Update the dictionary with occurrences using a lambda function\n",
    "for item in original_list:\n",
    "    occurrences[item] = occurrences.get(item, 0) + 1\n",
    "\n",
    "# Display the original list and the occurrences\n",
    "print(\"Original list:\")\n",
    "print(original_list)\n",
    "\n",
    "print(\"\\nOccurrences:\")\n",
    "print(occurrences)\n"
   ]
  },
  {
   "cell_type": "markdown",
   "id": "81628656-fc8b-448d-ac97-cbb5bdf1f7dc",
   "metadata": {},
   "source": [
    "Exercise 17: \n",
    "Write a Python program to remove None values from a given list using the lambda function.\n",
    "Original list:\n",
    "[12, 0, None, 23, None, -55, 234, 89, None, 0, 6, -12]\n"
   ]
  },
  {
   "cell_type": "code",
   "execution_count": 55,
   "id": "53217b04-8621-4082-a492-4bf0883b87c5",
   "metadata": {},
   "outputs": [
    {
     "name": "stdout",
     "output_type": "stream",
     "text": [
      "original list: [12, 0, None, 23, None, -55, 234, 89, None, 0, 6, -12]\n",
      "\n",
      "List after removal of None values: [12, 0, 23, -55, 234, 89, 0, 6, -12]\n"
     ]
    }
   ],
   "source": [
    "original_list = [12, 0, None, 23, None, -55, 234, 89, None, 0, 6, -12]\n",
    "\n",
    "def remove_none_values(input_list):\n",
    "    return list(filter(lambda item: item is not None, input_list))\n",
    "print(\"original list:\",original_list)\n",
    "filtered_list = remove_none_values(original_list)\n",
    "print(\"\\nList after removal of None values:\",filtered_list)\n"
   ]
  },
  {
   "cell_type": "code",
   "execution_count": null,
   "id": "3c4a4886-303b-4283-96cf-3c3e6ba4f1f8",
   "metadata": {},
   "outputs": [],
   "source": []
  }
 ],
 "metadata": {
  "kernelspec": {
   "display_name": "Python 3 (ipykernel)",
   "language": "python",
   "name": "python3"
  },
  "language_info": {
   "codemirror_mode": {
    "name": "ipython",
    "version": 3
   },
   "file_extension": ".py",
   "mimetype": "text/x-python",
   "name": "python",
   "nbconvert_exporter": "python",
   "pygments_lexer": "ipython3",
   "version": "3.10.11"
  }
 },
 "nbformat": 4,
 "nbformat_minor": 5
}
